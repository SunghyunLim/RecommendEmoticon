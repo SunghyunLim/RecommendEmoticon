{
 "cells": [
  {
   "cell_type": "markdown",
   "metadata": {},
   "source": [
    "\n",
    "필수 노트북:\n",
    "- [Module 1.0]\n",
    "    - Option: [Module 1.5]- BERT Input 변환 과정 확인\n",
    "- [Module 2.0]   \n",
    "    - Option: [Module 3.0] BERT Pre-trained 모델을 학습 및 평가\n",
    "    - Option: [Moduel 3.0] \n",
    "        - Train을 노트북 셀단위로 실행하여 어떻게 학습이 되는지를 세부적으로 이해할 수 있음\n",
    "- 3.1.Create-Train_Script.ipynb\n",
    "    - [Moduel 3.1] Train Script 작성\n",
    "     \n"
   ]
  },
  {
   "cell_type": "markdown",
   "metadata": {},
   "source": [
    "---\n",
    "Reference\n",
    "- Chris Fregly, Antje Barth, Book, Data Science on AWS, https://www.oreilly.com/library/view/data-science-on/9781492079385/\n",
    "    - Source: Data Science on Amazon Web Services\n",
    "        - https://github.com/data-science-on-aws/workshop\n"
   ]
  },
  {
   "cell_type": "code",
   "execution_count": null,
   "metadata": {},
   "outputs": [],
   "source": []
  }
 ],
 "metadata": {
  "kernelspec": {
   "display_name": "conda_python3",
   "language": "python",
   "name": "conda_python3"
  },
  "language_info": {
   "codemirror_mode": {
    "name": "ipython",
    "version": 3
   },
   "file_extension": ".py",
   "mimetype": "text/x-python",
   "name": "python",
   "nbconvert_exporter": "python",
   "pygments_lexer": "ipython3",
   "version": "3.6.10"
  }
 },
 "nbformat": 4,
 "nbformat_minor": 4
}
