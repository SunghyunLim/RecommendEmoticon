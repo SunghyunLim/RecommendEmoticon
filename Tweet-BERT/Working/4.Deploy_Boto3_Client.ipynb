{
 "cells": [
  {
   "cell_type": "markdown",
   "metadata": {},
   "source": [
    "# inference on Docker Image\n"
   ]
  },
  {
   "cell_type": "code",
   "execution_count": 8,
   "metadata": {},
   "outputs": [],
   "source": [
    "import boto3\n",
    "import sagemaker\n",
    "import pandas as pd\n",
    "import os\n",
    "\n",
    "sess   = sagemaker.Session()\n",
    "bucket = sess.default_bucket()\n",
    "role = sagemaker.get_execution_role()\n",
    "region = boto3.Session().region_name\n",
    "\n",
    "sm = boto3.Session().client(service_name='sagemaker', region_name=region)"
   ]
  },
  {
   "cell_type": "code",
   "execution_count": 9,
   "metadata": {},
   "outputs": [],
   "source": [
    "%store -r "
   ]
  },
  {
   "cell_type": "code",
   "execution_count": 10,
   "metadata": {},
   "outputs": [
    {
     "name": "stdout",
     "output_type": "stream",
     "text": [
      "tensorflow-training-2020-07-23-13-02-11-499\n"
     ]
    }
   ],
   "source": [
    "# training_job_name = 'bert2tweet-2020-07-08-07-58-27-895'\n",
    "print(training_job_name)"
   ]
  },
  {
   "cell_type": "code",
   "execution_count": 11,
   "metadata": {},
   "outputs": [
    {
     "name": "stdout",
     "output_type": "stream",
     "text": [
      "inference_image:  057716757052.dkr.ecr.us-west-2.amazonaws.com/sagemaker-tensorflow-serving:2.0.0-cpu\n"
     ]
    }
   ],
   "source": [
    "# inference_image = '057716757052.dkr.ecr.us-west-2.amazonaws.com/sagemaker-tensorflow-serving:2.0.0-cpu'\n",
    "inference_image = ecr_infer_custom_image_tf_serving_20_cpu\n",
    "print(\"inference_image: \", inference_image)"
   ]
  },
  {
   "cell_type": "code",
   "execution_count": 12,
   "metadata": {},
   "outputs": [],
   "source": [
    "from sagemaker.tensorflow.serving import Model\n",
    "\n",
    "model = Model(model_data='s3://{}/{}/output/model.tar.gz'.format(bucket, training_job_name),\n",
    "              role=role,\n",
    "              entry_point='inference.py',\n",
    "              image = inference_image\n",
    "             ) "
   ]
  },
  {
   "cell_type": "code",
   "execution_count": 13,
   "metadata": {},
   "outputs": [
    {
     "name": "stdout",
     "output_type": "stream",
     "text": [
      "-------------!CPU times: user 1min 2s, sys: 10.4 s, total: 1min 12s\n",
      "Wall time: 7min 45s\n"
     ]
    }
   ],
   "source": [
    "%%time\n",
    "\n",
    "instance_type='ml.m4.xlarge'\n",
    "deployed_model = model.deploy(initial_instance_count = 1,\n",
    "                             instance_type = instance_type,\n",
    "                             wait=True)\n"
   ]
  },
  {
   "cell_type": "markdown",
   "metadata": {},
   "source": [
    "## Invoke the endpoint without custom Docker image"
   ]
  },
  {
   "cell_type": "code",
   "execution_count": 14,
   "metadata": {},
   "outputs": [
    {
     "name": "stdout",
     "output_type": "stream",
     "text": [
      "sagemaker-tensorflow-serving-2020-07-24-10-34-12-001\n"
     ]
    }
   ],
   "source": [
    "# tweet_bert_endpoint_name = 'sagemaker-tensorflow-serving-2020-07-09-00-37-50-247'\n",
    "tweet_bert_endpoint_name = deployed_model.endpoint\n",
    "print(tweet_bert_endpoint_name)"
   ]
  },
  {
   "cell_type": "code",
   "execution_count": 30,
   "metadata": {},
   "outputs": [],
   "source": [
    "import json\n",
    "from sagemaker.tensorflow.serving import Predictor\n",
    "\n",
    "predictor = Predictor(endpoint_name = tweet_bert_endpoint_name,\n",
    "                      sagemaker_session = sess,\n",
    "                      content_type = 'application/json',\n",
    "                     )"
   ]
  },
  {
   "cell_type": "code",
   "execution_count": null,
   "metadata": {},
   "outputs": [],
   "source": []
  },
  {
   "cell_type": "markdown",
   "metadata": {},
   "source": [
    "## Inference 실행"
   ]
  },
  {
   "cell_type": "code",
   "execution_count": 35,
   "metadata": {},
   "outputs": [
    {
     "name": "stdout",
     "output_type": "stream",
     "text": [
      "emoji_to_idx is loaded\n",
      "😂\n"
     ]
    }
   ],
   "source": [
    "from TweetUtil import TweetUtil\n",
    "\n",
    "tweet_util = TweetUtil()\n",
    "tweet_util.load_emoji_data('emoji_to_idx.pickle')\n",
    "emoji = tweet_util.get_emo_class_label(3)\n",
    "print(emoji)"
   ]
  },
  {
   "cell_type": "code",
   "execution_count": 36,
   "metadata": {},
   "outputs": [
    {
     "data": {
      "text/html": [
       "<div>\n",
       "<style scoped>\n",
       "    .dataframe tbody tr th:only-of-type {\n",
       "        vertical-align: middle;\n",
       "    }\n",
       "\n",
       "    .dataframe tbody tr th {\n",
       "        vertical-align: top;\n",
       "    }\n",
       "\n",
       "    .dataframe thead th {\n",
       "        text-align: right;\n",
       "    }\n",
       "</style>\n",
       "<table border=\"1\" class=\"dataframe\">\n",
       "  <thead>\n",
       "    <tr style=\"text-align: right;\">\n",
       "      <th></th>\n",
       "      <th>TWEET</th>\n",
       "      <th>LABEL</th>\n",
       "    </tr>\n",
       "  </thead>\n",
       "  <tbody>\n",
       "    <tr>\n",
       "      <th>12305</th>\n",
       "      <td>@freddyamazin alicia keys without makeup leave...</td>\n",
       "      <td>5</td>\n",
       "    </tr>\n",
       "    <tr>\n",
       "      <th>11966</th>\n",
       "      <td>@gentsrules i am literally weak</td>\n",
       "      <td>3</td>\n",
       "    </tr>\n",
       "    <tr>\n",
       "      <th>15424</th>\n",
       "      <td>@harrisjofficial come to nyc soon babes</td>\n",
       "      <td>6</td>\n",
       "    </tr>\n",
       "    <tr>\n",
       "      <th>22199</th>\n",
       "      <td>you're pathetic you like get a grip</td>\n",
       "      <td>8</td>\n",
       "    </tr>\n",
       "    <tr>\n",
       "      <th>21399</th>\n",
       "      <td>i did hear an interesting point though which w...</td>\n",
       "      <td>9</td>\n",
       "    </tr>\n",
       "    <tr>\n",
       "      <th>23503</th>\n",
       "      <td>@fantagiosmusic hellovenus wiggle wiggle lyric...</td>\n",
       "      <td>8</td>\n",
       "    </tr>\n",
       "    <tr>\n",
       "      <th>11933</th>\n",
       "      <td>4 am and just now laying down for bed</td>\n",
       "      <td>6</td>\n",
       "    </tr>\n",
       "    <tr>\n",
       "      <th>7052</th>\n",
       "      <td>back of the class there is always such dude,.....</td>\n",
       "      <td>4</td>\n",
       "    </tr>\n",
       "    <tr>\n",
       "      <th>601</th>\n",
       "      <td>@uswntaddict17 allie_long dang girl....kill it!!!</td>\n",
       "      <td>2</td>\n",
       "    </tr>\n",
       "    <tr>\n",
       "      <th>9345</th>\n",
       "      <td>power gets me too amped y'all don't even knowwwww</td>\n",
       "      <td>6</td>\n",
       "    </tr>\n",
       "  </tbody>\n",
       "</table>\n",
       "</div>"
      ],
      "text/plain": [
       "                                                   TWEET  LABEL\n",
       "12305  @freddyamazin alicia keys without makeup leave...      5\n",
       "11966                    @gentsrules i am literally weak      3\n",
       "15424            @harrisjofficial come to nyc soon babes      6\n",
       "22199                you're pathetic you like get a grip      8\n",
       "21399  i did hear an interesting point though which w...      9\n",
       "23503  @fantagiosmusic hellovenus wiggle wiggle lyric...      8\n",
       "11933              4 am and just now laying down for bed      6\n",
       "7052   back of the class there is always such dude,.....      4\n",
       "601    @uswntaddict17 allie_long dang girl....kill it!!!      2\n",
       "9345   power gets me too amped y'all don't even knowwwww      6"
      ]
     },
     "execution_count": 36,
     "metadata": {},
     "output_type": "execute_result"
    }
   ],
   "source": [
    "test_file_path = 'data/test/tweet_file_test.csv'\n",
    "test_df = pd.read_csv(test_file_path)\n",
    "test_file_path = 'data/test/tweet_file_test.csv'\n",
    "test_df = pd.read_csv(test_file_path)\n",
    "sample_df = test_df.sample(10)\n",
    "sample_df"
   ]
  },
  {
   "cell_type": "code",
   "execution_count": 37,
   "metadata": {},
   "outputs": [
    {
     "name": "stdout",
     "output_type": "stream",
     "text": [
      "Prediction, Ground_truth- [0.134469762, -0.121591263, -0.0284810774, 0.334820896, 0.178134874, -0.0273167379, -0.0720925778, 0.0546125583, -0.0864444, 0.130811]:None, 5:😍 \n",
      " tweet: @freddyamazin alicia keys without makeup leaves me speechless\n",
      "Prediction, Ground_truth- [0.129771516, -0.131948397, -0.0391965, 0.356477648, 0.179618597, -0.0302035399, -0.0877474621, 0.0599169359, -0.0807562768, 0.135087952]:None, 3:😂 \n",
      " tweet: @gentsrules i am literally weak\n",
      "Prediction, Ground_truth- [0.123269968, -0.144477308, -0.0325035639, 0.367093325, 0.171925306, -0.0502512641, -0.0921853334, 0.0646842271, -0.0628928766, 0.144412324]:None, 6:😩 \n",
      " tweet: @harrisjofficial come to nyc soon babes\n",
      "Prediction, Ground_truth- [0.101533674, -0.143657267, -0.0054078144, 0.355702549, 0.15496093, -0.0614906102, -0.0590389706, 0.0832456425, -0.0256584939, 0.164407343]:None, 8:🙄 \n",
      " tweet: you're pathetic you like get a grip\n",
      "Prediction, Ground_truth- [0.0667983443, -0.143886477, 0.00691256113, 0.308830231, 0.11478053, -0.0213759113, -0.0636332408, 0.0900329873, -0.0038692411, 0.184856609]:None, 9:🤔 \n",
      " tweet: i did hear an interesting point though which was why couldn't the female protagonist be one of themagnificentseven\n",
      "Prediction, Ground_truth- [0.0945453495, -0.126020655, -0.00943194237, 0.335259169, 0.16185084, -0.0548302121, -0.0611770339, 0.0945800543, -0.0303365, 0.178167626]:None, 8:🙄 \n",
      " tweet: @fantagiosmusic hellovenus wiggle wiggle lyrics vs exo's growl lyrics... i guess talent speaks for itself\n",
      "Prediction, Ground_truth- [0.126333788, -0.147795632, -0.0222093202, 0.371932358, 0.170773745, -0.0667624623, -0.0823656917, 0.0635618493, -0.0502374955, 0.142986208]:None, 6:😩 \n",
      " tweet: 4 am and just now laying down for bed\n",
      "Prediction, Ground_truth- [0.0788832903, -0.14053455, -0.0042145825, 0.342307985, 0.14246887, -0.0458662435, -0.0664056167, 0.0923526362, -0.0241474081, 0.169840038]:None, 4:😊 \n",
      " tweet: back of the class there is always such dude,..eish days...\n",
      "Prediction, Ground_truth- [0.103353523, -0.122910522, -0.0214214455, 0.343834162, 0.165023923, -0.073006995, -0.0683230609, 0.0816144496, -0.0299585722, 0.154670909]:None, 2:🔥 \n",
      " tweet: @uswntaddict17 allie_long dang girl....kill it!!!\n",
      "Prediction, Ground_truth- [0.105859838, -0.123850226, -0.00971311238, 0.359961182, 0.178847641, -0.0622268841, -0.0832905918, 0.0852282718, -0.0336977318, 0.162307575]:None, 6:😩 \n",
      " tweet: power gets me too amped y'all don't even knowwwww\n"
     ]
    }
   ],
   "source": [
    "import tensorflow as tf\n",
    "import json\n",
    "\n",
    "columns = ['TWEET', 'LABEL']\n",
    "for tweet, label in zip(sample_df.TWEET.values, sample_df.LABEL.values):\n",
    "    # print(\"label: {}, tweet: {}\".format(label, tweet))\n",
    "    \n",
    "    reviews = [tweet]\n",
    "\n",
    "    predicted_classes = predictor.predict(reviews)[0]\n",
    "    print('Prediction, Ground_truth- {}:{}, {}:{} \\n tweet: {}'.format(\n",
    "        predicted_classes, \n",
    "        tweet_util.get_emo_class_label(predicted_classes),\n",
    "        label, \n",
    "        tweet_util.get_emo_class_label(label),        \n",
    "        tweet))    \n",
    "\n",
    "        \n",
    "\n"
   ]
  },
  {
   "cell_type": "markdown",
   "metadata": {},
   "source": [
    "## Return Top 1 on another serializer"
   ]
  },
  {
   "cell_type": "code",
   "execution_count": null,
   "metadata": {},
   "outputs": [],
   "source": [
    "def show_top_N_label(score_list, topN):\n",
    "\n",
    "    import numpy as np\n",
    "\n",
    "    top_n_idx = np.argsort(score_list)[-topN:]\n",
    "    top_n_values = [score_list[i] for i in top_n_idx]\n",
    "    \n",
    "    print(top_n_idx)\n",
    "\n",
    "\n",
    "    top_n_idx_list = top_n_idx.tolist()\n",
    "    top_n_idx_list.reverse()\n",
    "    top_n_values = [score_list[i] for i in top_n_idx_list]    \n",
    "    \n",
    "    print(top_n_idx_list)\n",
    "    print(top_n_values)\n",
    "\n",
    "topN = 3    \n",
    "show_top_N_label(predicted_classes[0], topN)\n"
   ]
  },
  {
   "cell_type": "markdown",
   "metadata": {},
   "source": [
    "## Boto3 Client 에서 실행"
   ]
  },
  {
   "cell_type": "code",
   "execution_count": 25,
   "metadata": {},
   "outputs": [
    {
     "name": "stdout",
     "output_type": "stream",
     "text": [
      "sagemaker-tensorflow-serving-2020-07-24-10-34-12-001\n",
      "{\n",
      "    \"ContentType\": \"application/json\",\n",
      "    \"InvokedProductionVariant\": \"AllTraffic\"\n",
      "}\n",
      "\n"
     ]
    }
   ],
   "source": [
    "%%bash -s {invoke_endpoint}\n",
    "\n",
    "invoke_endpoint=$1\n",
    "echo $invoke_endpoint\n",
    "\n",
    "aws sagemaker-runtime invoke-endpoint \\\n",
    "  --endpoint-name  $invoke_endpoint \\\n",
    "  --body '[\"This is great\"]' \\\n",
    "  --content-type application/json \\\n",
    "  --accept application/json \\\n",
    "  results\n",
    "echo $results"
   ]
  },
  {
   "cell_type": "code",
   "execution_count": null,
   "metadata": {},
   "outputs": [],
   "source": [
    "payload = \"This is great\"\n",
    "payload = '[\"' + payload + '\"]'\n",
    "print(payload)"
   ]
  },
  {
   "cell_type": "code",
   "execution_count": null,
   "metadata": {},
   "outputs": [],
   "source": [
    "import json\n",
    "import os\n",
    "import io\n",
    "import boto3\n",
    "import csv\n",
    "\n",
    "ENDPOINT_NAME = os.environ['ENDPOINT_NAME'] \n",
    "runtime = boto3.client('runtime.sagemaker')\n",
    "\n",
    "\n",
    "def lambda_handler(event, context):\n",
    "    # TODO implement\n",
    "try:\n",
    "print(\"Received event: \" + json.dumps(event, indent=2))\n",
    "\n",
    "data = json.loads(json.dumps(event))\n",
    "payload = data['tweet']\n",
    "payload = '[\"' + payload + '\"]'\n",
    "print(\"Final input: \" ,payload)\n",
    "\n",
    "print(payload)\n",
    "\n",
    "response = runtime.invoke_endpoint(EndpointName = ENDPOINT_NAME,\n",
    "                            ContentType = 'application/json',\n",
    "                            Body = payload)\n",
    "\n",
    "print(response)\n",
    "result = json.loads(response['Body'].read().decode())\n",
    "print(result)\n",
    "return result\n",
    "except:\n",
    "print(\"An error occurred\")\n",
    "return data\n",
    "\n",
    "\n",
    "# return {\n",
    "#     'statusCode': 200,\n",
    "#     'body': json.dumps('Hello from Lambda!')\n",
    "# }\n"
   ]
  },
  {
   "cell_type": "code",
   "execution_count": null,
   "metadata": {},
   "outputs": [],
   "source": []
  }
 ],
 "metadata": {
  "kernelspec": {
   "display_name": "conda_python3",
   "language": "python",
   "name": "conda_python3"
  },
  "language_info": {
   "codemirror_mode": {
    "name": "ipython",
    "version": 3
   },
   "file_extension": ".py",
   "mimetype": "text/x-python",
   "name": "python",
   "nbconvert_exporter": "python",
   "pygments_lexer": "ipython3",
   "version": "3.6.10"
  }
 },
 "nbformat": 4,
 "nbformat_minor": 4
}
