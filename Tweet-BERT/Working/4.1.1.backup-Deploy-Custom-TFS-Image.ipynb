{
 "cells": [
  {
   "cell_type": "markdown",
   "metadata": {},
   "source": [
    "# [Module 4.3.2] inference on custem tf serving image\n",
    "\n",
    "\n",
    "---\n",
    "이 노트북은 약 10정도 시간이 소요 됩니다."
   ]
  },
  {
   "cell_type": "code",
   "execution_count": 39,
   "metadata": {},
   "outputs": [],
   "source": [
    "import boto3\n",
    "import sagemaker\n",
    "import pandas as pd\n",
    "import os\n",
    "\n",
    "sess   = sagemaker.Session()\n",
    "bucket = sess.default_bucket()\n",
    "role = sagemaker.get_execution_role()\n",
    "region = boto3.Session().region_name\n",
    "\n",
    "sm = boto3.Session().client(service_name='sagemaker', region_name=region)"
   ]
  },
  {
   "cell_type": "code",
   "execution_count": 40,
   "metadata": {},
   "outputs": [],
   "source": [
    "%store -r "
   ]
  },
  {
   "cell_type": "code",
   "execution_count": 41,
   "metadata": {},
   "outputs": [
    {
     "name": "stdout",
     "output_type": "stream",
     "text": [
      "tensorflow-training-2020-08-02-08-19-13-279\n"
     ]
    }
   ],
   "source": [
    "# training_job_name = 'bert2tweet-2020-07-08-07-58-27-895'\n",
    "print(training_job_name)"
   ]
  },
  {
   "cell_type": "code",
   "execution_count": 42,
   "metadata": {},
   "outputs": [
    {
     "name": "stdout",
     "output_type": "stream",
     "text": [
      "inference_image:  343441690612.dkr.ecr.ap-northeast-2.amazonaws.com/sagemaker-tensorflow-serving:2.0.0-cpu\n"
     ]
    }
   ],
   "source": [
    "inference_image = ecr_infer_custom_image_tf_serving_20_cpu\n",
    "print(\"inference_image: \", inference_image)"
   ]
  },
  {
   "cell_type": "markdown",
   "metadata": {},
   "source": [
    "## Model Creation with Custome TFS Docker Image and Inference code"
   ]
  },
  {
   "cell_type": "code",
   "execution_count": 43,
   "metadata": {},
   "outputs": [],
   "source": [
    "from sagemaker.tensorflow.serving import Model\n",
    "\n",
    "model = Model(model_data='s3://{}/{}/output/model.tar.gz'.format(bucket, training_job_name),\n",
    "              role=role,\n",
    "              entry_point='inference.py',\n",
    "              image = inference_image\n",
    "             ) "
   ]
  },
  {
   "cell_type": "code",
   "execution_count": 44,
   "metadata": {},
   "outputs": [
    {
     "name": "stdout",
     "output_type": "stream",
     "text": [
      "343441690612.dkr.ecr.ap-northeast-2.amazonaws.com/sagemaker-tensorflow-serving:2.0.0-cpu\n",
      "<bound method Model.serving_image_uri of <sagemaker.tensorflow.serving.Model object at 0x7f7bc14e6b00>>\n",
      "s3://sagemaker-ap-northeast-2-343441690612/tensorflow-training-2020-08-02-08-19-13-279/output/model.tar.gz\n",
      "None\n",
      "tensorflow-serving\n"
     ]
    }
   ],
   "source": [
    "print(model.image)\n",
    "print(model.serving_image_uri)\n",
    "print(model.model_data)\n",
    "print(model.name)\n",
    "print(model.FRAMEWORK_NAME)\n"
   ]
  },
  {
   "cell_type": "markdown",
   "metadata": {},
   "source": [
    "## 엔드포인트 생성"
   ]
  },
  {
   "cell_type": "code",
   "execution_count": 45,
   "metadata": {},
   "outputs": [
    {
     "name": "stdout",
     "output_type": "stream",
     "text": [
      "-------------!CPU times: user 44.3 s, sys: 7.51 s, total: 51.8 s\n",
      "Wall time: 7min 25s\n"
     ]
    }
   ],
   "source": [
    "%%time\n",
    "\n",
    "instance_type='ml.m4.xlarge'\n",
    "deployed_model = model.deploy(initial_instance_count = 1,\n",
    "                             instance_type = instance_type,\n",
    "                             wait=True)\n"
   ]
  },
  {
   "cell_type": "markdown",
   "metadata": {},
   "source": [
    "## Predictor Creation on the Endpoint"
   ]
  },
  {
   "cell_type": "code",
   "execution_count": 46,
   "metadata": {},
   "outputs": [
    {
     "name": "stdout",
     "output_type": "stream",
     "text": [
      "sagemaker-tensorflow-serving-2020-08-02-09-30-29-170\n"
     ]
    }
   ],
   "source": [
    "# tweet_bert_endpoint_name = 'train_text, train_label, test_text, test_label = tweet_data.split_train_test_data(texts, labels, 0.9)\n",
    "tweet_bert_endpoint_name = deployed_model.endpoint\n",
    "print(tweet_bert_endpoint_name)"
   ]
  },
  {
   "cell_type": "code",
   "execution_count": 47,
   "metadata": {},
   "outputs": [],
   "source": [
    "import json\n",
    "from sagemaker.tensorflow.serving import Predictor\n",
    "\n",
    "predictor = Predictor(endpoint_name = tweet_bert_endpoint_name,\n",
    "                      sagemaker_session = sess,\n",
    "                      content_type = 'application/json',\n",
    "                     )"
   ]
  },
  {
   "cell_type": "code",
   "execution_count": null,
   "metadata": {},
   "outputs": [],
   "source": []
  },
  {
   "cell_type": "markdown",
   "metadata": {},
   "source": [
    "## Inference 실행"
   ]
  },
  {
   "cell_type": "code",
   "execution_count": 48,
   "metadata": {},
   "outputs": [
    {
     "name": "stdout",
     "output_type": "stream",
     "text": [
      "emoji_to_idx is loaded\n",
      "😂\n"
     ]
    }
   ],
   "source": [
    "from TweetUtil import TweetUtil\n",
    "\n",
    "tweet_util = TweetUtil()\n",
    "tweet_util.load_emoji_data('emoji_to_idx.pickle')\n",
    "emoji = tweet_util.get_emo_class_label(3)\n",
    "print(emoji)"
   ]
  },
  {
   "cell_type": "code",
   "execution_count": 49,
   "metadata": {},
   "outputs": [
    {
     "data": {
      "text/html": [
       "<div>\n",
       "<style scoped>\n",
       "    .dataframe tbody tr th:only-of-type {\n",
       "        vertical-align: middle;\n",
       "    }\n",
       "\n",
       "    .dataframe tbody tr th {\n",
       "        vertical-align: top;\n",
       "    }\n",
       "\n",
       "    .dataframe thead th {\n",
       "        text-align: right;\n",
       "    }\n",
       "</style>\n",
       "<table border=\"1\" class=\"dataframe\">\n",
       "  <thead>\n",
       "    <tr style=\"text-align: right;\">\n",
       "      <th></th>\n",
       "      <th>TWEET</th>\n",
       "      <th>LABEL</th>\n",
       "    </tr>\n",
       "  </thead>\n",
       "  <tbody>\n",
       "    <tr>\n",
       "      <th>7535</th>\n",
       "      <td>last day today so cast your votes now aldubks...</td>\n",
       "      <td>1</td>\n",
       "    </tr>\n",
       "    <tr>\n",
       "      <th>9205</th>\n",
       "      <td>wow you're really on fire today boarding a fu...</td>\n",
       "      <td>8</td>\n",
       "    </tr>\n",
       "    <tr>\n",
       "      <th>854</th>\n",
       "      <td>when tasha came through with her gun too on t...</td>\n",
       "      <td>2</td>\n",
       "    </tr>\n",
       "    <tr>\n",
       "      <th>316</th>\n",
       "      <td>the females that live in my house are looking ...</td>\n",
       "      <td>2</td>\n",
       "    </tr>\n",
       "    <tr>\n",
       "      <th>6483</th>\n",
       "      <td>wouldn't spend it any other way</td>\n",
       "      <td>0</td>\n",
       "    </tr>\n",
       "    <tr>\n",
       "      <th>6850</th>\n",
       "      <td>thank you love ya</td>\n",
       "      <td>1</td>\n",
       "    </tr>\n",
       "    <tr>\n",
       "      <th>5401</th>\n",
       "      <td>that's amazing love the light grey</td>\n",
       "      <td>0</td>\n",
       "    </tr>\n",
       "    <tr>\n",
       "      <th>4204</th>\n",
       "      <td>nascar motorsport jimmiejohnson t shirt l lar...</td>\n",
       "      <td>0</td>\n",
       "    </tr>\n",
       "    <tr>\n",
       "      <th>5834</th>\n",
       "      <td>life is too short to be organized</td>\n",
       "      <td>3</td>\n",
       "    </tr>\n",
       "    <tr>\n",
       "      <th>2215</th>\n",
       "      <td>happy endings there are no happy endings endi...</td>\n",
       "      <td>9</td>\n",
       "    </tr>\n",
       "  </tbody>\n",
       "</table>\n",
       "</div>"
      ],
      "text/plain": [
       "                                                  TWEET  LABEL\n",
       "7535   last day today so cast your votes now aldubks...      1\n",
       "9205   wow you're really on fire today boarding a fu...      8\n",
       "854    when tasha came through with her gun too on t...      2\n",
       "316   the females that live in my house are looking ...      2\n",
       "6483                    wouldn't spend it any other way      0\n",
       "6850                                  thank you love ya      1\n",
       "5401                 that's amazing love the light grey      0\n",
       "4204   nascar motorsport jimmiejohnson t shirt l lar...      0\n",
       "5834                  life is too short to be organized      3\n",
       "2215   happy endings there are no happy endings endi...      9"
      ]
     },
     "execution_count": 49,
     "metadata": {},
     "output_type": "execute_result"
    }
   ],
   "source": [
    "test_file_path = 'data/test/tweet_file_test.csv'\n",
    "test_df = pd.read_csv(test_file_path)\n",
    "test_file_path = 'data/test/tweet_file_test.csv'\n",
    "test_df = pd.read_csv(test_file_path)\n",
    "sample_df = test_df.sample(10)\n",
    "sample_df"
   ]
  },
  {
   "cell_type": "code",
   "execution_count": 50,
   "metadata": {},
   "outputs": [],
   "source": [
    "def show_top_N_label(score_list, topN):\n",
    "\n",
    "    import numpy as np\n",
    "\n",
    "    top_n_idx = np.argsort(score_list)[-topN:]\n",
    "    top_n_values = [score_list[i] for i in top_n_idx]\n",
    "    \n",
    "    top_n_idx_list = top_n_idx.tolist()\n",
    "    top_n_idx_list.reverse()\n",
    "    top_n_values = [score_list[i] for i in top_n_idx_list]    \n",
    "    \n",
    "    return top_n_idx_list\n"
   ]
  },
  {
   "cell_type": "markdown",
   "metadata": {},
   "source": [
    "## Top 3 이모티콘 추천"
   ]
  },
  {
   "cell_type": "code",
   "execution_count": 56,
   "metadata": {},
   "outputs": [
    {
     "name": "stdout",
     "output_type": "stream",
     "text": [
      "reviews: \n",
      " [' last day today so cast your votes now aldubksliveson']\n",
      "tweet:  last day today so cast your votes now aldubksliveson \n",
      "Ground_truth- 1:💕\n",
      " \n",
      "[[0.0415807478, -0.0668697134]]\n",
      "reviews: \n",
      " [\" wow you're really on fire today boarding a full flight all at once after first so glad i have priority checkedbag\"]\n",
      "tweet:  wow you're really on fire today boarding a full flight all at once after first so glad i have priority checkedbag \n",
      "Ground_truth- 8:🙄\n",
      " \n",
      "[[0.058101695, -0.113432437]]\n",
      "reviews: \n",
      " [' when tasha came through with her gun too on tatiyana wheewwww yasssss girl you better hold your man down powerfin']\n",
      "tweet:  when tasha came through with her gun too on tatiyana wheewwww yasssss girl you better hold your man down powerfin \n",
      "Ground_truth- 2:🔥\n",
      " \n",
      "[[0.0731375366, -0.0678214431]]\n",
      "reviews: \n",
      " ['the females that live in my house are looking af for this party']\n",
      "tweet: the females that live in my house are looking af for this party \n",
      "Ground_truth- 2:🔥\n",
      " \n",
      "[[0.0477781668, -0.0804672763]]\n",
      "reviews: \n",
      " [\" wouldn't spend it any other way\"]\n",
      "tweet:  wouldn't spend it any other way \n",
      "Ground_truth- 0:❤\n",
      " \n",
      "[[0.0470836051, -0.0937503725]]\n",
      "reviews: \n",
      " [' thank you love ya']\n",
      "tweet:  thank you love ya \n",
      "Ground_truth- 1:💕\n",
      " \n",
      "[[0.0514811911, -0.0813913122]]\n",
      "reviews: \n",
      " [\" that's amazing love the light grey\"]\n",
      "tweet:  that's amazing love the light grey \n",
      "Ground_truth- 0:❤\n",
      " \n",
      "[[0.0609197952, -0.0952528]]\n",
      "reviews: \n",
      " [' nascar motorsport jimmiejohnson t shirt l large white deals bargains']\n",
      "tweet:  nascar motorsport jimmiejohnson t shirt l large white deals bargains \n",
      "Ground_truth- 0:❤\n",
      " \n",
      "[[0.0600166656, -0.118373178]]\n",
      "reviews: \n",
      " [' life is too short to be organized']\n",
      "tweet:  life is too short to be organized \n",
      "Ground_truth- 3:😂\n",
      " \n",
      "[[0.0529922172, -0.0875094384]]\n",
      "reviews: \n",
      " [' happy endings there are no happy endings endings are the saddest part so just give me a happy middle and a very h']\n",
      "tweet:  happy endings there are no happy endings endings are the saddest part so just give me a happy middle and a very h \n",
      "Ground_truth- 9:🤔\n",
      " \n",
      "[[0.0670559332, -0.110939726]]\n"
     ]
    }
   ],
   "source": [
    "import tensorflow as tf\n",
    "import json\n",
    "\n",
    "columns = ['TWEET', 'LABEL']\n",
    "topN = 3\n",
    "for tweet, label in zip(sample_df.TWEET.values, sample_df.LABEL.values):\n",
    "    # print(\"label: {}, tweet: {}\".format(label, tweet))\n",
    "    \n",
    "    reviews = [tweet]\n",
    "    \n",
    "    print(\"reviews: \\n\", reviews)\n",
    "\n",
    "\n",
    "\n",
    "#     predicted_classes = predictor.predict(reviews)[0]\n",
    "    predicted_classes = predictor.predict(reviews)    \n",
    "    # predicted_classes = show_top_N_label(predicted_classes, topN)\n",
    "\n",
    "    print('tweet: {} \\nGround_truth- {}:{}\\n '.format(\n",
    "        tweet,\n",
    "        label, \n",
    "        tweet_util.get_emo_class_label(label))\n",
    "         )    \n",
    "    \n",
    "    print(predicted_classes)\n",
    "#     print('Prediction: {},{},{},{},{},{} \\n '.format(\n",
    "#         predicted_classes[0], \n",
    "#         tweet_util.get_emo_class_label(predicted_classes[0]),\n",
    "#         predicted_classes[1], \n",
    "#         tweet_util.get_emo_class_label(predicted_classes[1]),\n",
    "#         predicted_classes[2], \n",
    "#         tweet_util.get_emo_class_label(predicted_classes[2])                                       \n",
    "#         ))    \n",
    "        \n",
    "\n"
   ]
  },
  {
   "cell_type": "code",
   "execution_count": null,
   "metadata": {},
   "outputs": [],
   "source": []
  },
  {
   "cell_type": "code",
   "execution_count": null,
   "metadata": {},
   "outputs": [],
   "source": []
  },
  {
   "cell_type": "code",
   "execution_count": null,
   "metadata": {},
   "outputs": [],
   "source": []
  },
  {
   "cell_type": "code",
   "execution_count": null,
   "metadata": {},
   "outputs": [],
   "source": []
  }
 ],
 "metadata": {
  "kernelspec": {
   "display_name": "conda_python3",
   "language": "python",
   "name": "conda_python3"
  },
  "language_info": {
   "codemirror_mode": {
    "name": "ipython",
    "version": 3
   },
   "file_extension": ".py",
   "mimetype": "text/x-python",
   "name": "python",
   "nbconvert_exporter": "python",
   "pygments_lexer": "ipython3",
   "version": "3.6.10"
  }
 },
 "nbformat": 4,
 "nbformat_minor": 4
}
