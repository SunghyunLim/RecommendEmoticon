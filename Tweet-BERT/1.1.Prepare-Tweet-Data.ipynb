{
 "cells": [
  {
   "cell_type": "markdown",
   "metadata": {},
   "source": [
    "# [Module 1.0] Tweet 입력 데이터 클린징 및 S3에 업로드\n",
    "\n",
    "이 노트북에서는 아래와 같은 작업을 진행 합니다.\n",
    "- Tweet 데이타를 클린징\n",
    "- Tweet 데이타 통계 확인\n",
    "- 총 990개의 이모티콘 레이블을 10개로 한정 함\n",
    "- Emoticon to Index의 사전 생성\n",
    "- Tweet Data를 Train 및 Test로 분리\n",
    "    - Train_01_text, Train_01_label, Train_02_text, Train_02_label 분리\n",
    "    - Test text, Test label로 분리\n",
    "- Train_01_text, Train_01_label --> tweet_file_01.csv.gz 후 S3에 업로드\n",
    "- Train_02_text, Train_02_label --> tweet_file_02.csv.gz 후 S3에 업로드\n",
    "\n",
    "총 소요시간은 약 1분 걸립니다."
   ]
  },
  {
   "cell_type": "code",
   "execution_count": 1,
   "metadata": {},
   "outputs": [],
   "source": [
    "import pandas as pd\n",
    "import re\n",
    "import boto3\n",
    "import numpy as np\n",
    "import os\n"
   ]
  },
  {
   "cell_type": "markdown",
   "metadata": {},
   "source": [
    "## Look at Raw Tweet Data\n",
    "- 참고로 Tweet 데이터는 아래 책에 제공하는 데이타를 data 폴더에 미리 다운로드 했음.\n",
    "- Original Data Source\n",
    "    - Douwe Osinga, Deep Learning Cookbook. Ch7, Suggesting Emojis"
   ]
  },
  {
   "cell_type": "code",
   "execution_count": 2,
   "metadata": {},
   "outputs": [
    {
     "name": "stdout",
     "output_type": "stream",
     "text": [
      "all_tweets shape:  (806204, 2)\n"
     ]
    },
    {
     "data": {
      "text/html": [
       "<div>\n",
       "<style scoped>\n",
       "    .dataframe tbody tr th:only-of-type {\n",
       "        vertical-align: middle;\n",
       "    }\n",
       "\n",
       "    .dataframe tbody tr th {\n",
       "        vertical-align: top;\n",
       "    }\n",
       "\n",
       "    .dataframe thead th {\n",
       "        text-align: right;\n",
       "    }\n",
       "</style>\n",
       "<table border=\"1\" class=\"dataframe\">\n",
       "  <thead>\n",
       "    <tr style=\"text-align: right;\">\n",
       "      <th></th>\n",
       "      <th>content</th>\n",
       "      <th>sentiment</th>\n",
       "    </tr>\n",
       "  </thead>\n",
       "  <tbody>\n",
       "    <tr>\n",
       "      <th>0</th>\n",
       "      <td>text</td>\n",
       "      <td>emoji</td>\n",
       "    </tr>\n",
       "    <tr>\n",
       "      <th>1</th>\n",
       "      <td>@ATLHawks: Chance The Rapper or Kent Bazemore?...</td>\n",
       "      <td>🤔</td>\n",
       "    </tr>\n",
       "    <tr>\n",
       "      <th>2</th>\n",
       "      <td>@nice_aju: Yup we love you, you're so precious...</td>\n",
       "      <td>💙</td>\n",
       "    </tr>\n",
       "    <tr>\n",
       "      <th>3</th>\n",
       "      <td>Fav  Sing Me to Sleep by Alan Walker</td>\n",
       "      <td>💛</td>\n",
       "    </tr>\n",
       "    <tr>\n",
       "      <th>4</th>\n",
       "      <td>@AshBenzo: Wife From The Real-Life 'Fault In O...</td>\n",
       "      <td>💔</td>\n",
       "    </tr>\n",
       "  </tbody>\n",
       "</table>\n",
       "</div>"
      ],
      "text/plain": [
       "                                             content sentiment\n",
       "0                                               text     emoji\n",
       "1  @ATLHawks: Chance The Rapper or Kent Bazemore?...         🤔\n",
       "2  @nice_aju: Yup we love you, you're so precious...         💙\n",
       "3               Fav  Sing Me to Sleep by Alan Walker         💛\n",
       "4  @AshBenzo: Wife From The Real-Life 'Fault In O...         💔"
      ]
     },
     "execution_count": 2,
     "metadata": {},
     "output_type": "execute_result"
    }
   ],
   "source": [
    "file_name = os.path.join('data', \"emojis.csv\")\n",
    "def read_data(file_name):\n",
    "    all_tweets = pd.read_csv(file_name, names=['content', 'sentiment'])\n",
    "    return all_tweets\n",
    "\n",
    "raw_tweets = read_data(file_name)\n",
    "print(\"all_tweets shape: \", raw_tweets.shape)\n",
    "raw_tweets.head()"
   ]
  },
  {
   "cell_type": "markdown",
   "metadata": {},
   "source": [
    "## Tweet Data Cleaning"
   ]
  },
  {
   "cell_type": "markdown",
   "metadata": {},
   "source": [
    "중복 데이터 제거를 합니다."
   ]
  },
  {
   "cell_type": "code",
   "execution_count": 3,
   "metadata": {},
   "outputs": [
    {
     "name": "stdout",
     "output_type": "stream",
     "text": [
      "Unique Tweets : \n",
      " (613060, 2) \n"
     ]
    }
   ],
   "source": [
    "def drop_duplicate_records(all_tweets):\n",
    "    all_tweets_cleaned_df = all_tweets.drop_duplicates() \n",
    "    return all_tweets_cleaned_df\n",
    "\n",
    "tweet_temp_df = drop_duplicate_records(raw_tweets)\n",
    "print(\"Unique Tweets : \\n {} \".format(tweet_temp_df.shape))\n",
    "num_tweets = tweet_temp_df.shape[0]"
   ]
  },
  {
   "cell_type": "code",
   "execution_count": 4,
   "metadata": {},
   "outputs": [],
   "source": [
    "all_tweets_cleaned_df = tweet_temp_df"
   ]
  },
  {
   "cell_type": "markdown",
   "metadata": {},
   "source": [
    "## Tweet Data Shape\n",
    "- 데이터는 Content 와 Sentiment의 두개의 컬럼으로 구성"
   ]
  },
  {
   "cell_type": "code",
   "execution_count": 5,
   "metadata": {},
   "outputs": [
    {
     "data": {
      "text/html": [
       "<div>\n",
       "<style scoped>\n",
       "    .dataframe tbody tr th:only-of-type {\n",
       "        vertical-align: middle;\n",
       "    }\n",
       "\n",
       "    .dataframe tbody tr th {\n",
       "        vertical-align: top;\n",
       "    }\n",
       "\n",
       "    .dataframe thead th {\n",
       "        text-align: right;\n",
       "    }\n",
       "</style>\n",
       "<table border=\"1\" class=\"dataframe\">\n",
       "  <thead>\n",
       "    <tr style=\"text-align: right;\">\n",
       "      <th></th>\n",
       "      <th>content</th>\n",
       "      <th>sentiment</th>\n",
       "    </tr>\n",
       "  </thead>\n",
       "  <tbody>\n",
       "    <tr>\n",
       "      <th>0</th>\n",
       "      <td>text</td>\n",
       "      <td>emoji</td>\n",
       "    </tr>\n",
       "    <tr>\n",
       "      <th>1</th>\n",
       "      <td>@ATLHawks: Chance The Rapper or Kent Bazemore?...</td>\n",
       "      <td>🤔</td>\n",
       "    </tr>\n",
       "    <tr>\n",
       "      <th>2</th>\n",
       "      <td>@nice_aju: Yup we love you, you're so precious...</td>\n",
       "      <td>💙</td>\n",
       "    </tr>\n",
       "    <tr>\n",
       "      <th>3</th>\n",
       "      <td>Fav  Sing Me to Sleep by Alan Walker</td>\n",
       "      <td>💛</td>\n",
       "    </tr>\n",
       "    <tr>\n",
       "      <th>4</th>\n",
       "      <td>@AshBenzo: Wife From The Real-Life 'Fault In O...</td>\n",
       "      <td>💔</td>\n",
       "    </tr>\n",
       "  </tbody>\n",
       "</table>\n",
       "</div>"
      ],
      "text/plain": [
       "                                             content sentiment\n",
       "0                                               text     emoji\n",
       "1  @ATLHawks: Chance The Rapper or Kent Bazemore?...         🤔\n",
       "2  @nice_aju: Yup we love you, you're so precious...         💙\n",
       "3               Fav  Sing Me to Sleep by Alan Walker         💛\n",
       "4  @AshBenzo: Wife From The Real-Life 'Fault In O...         💔"
      ]
     },
     "execution_count": 5,
     "metadata": {},
     "output_type": "execute_result"
    }
   ],
   "source": [
    "all_tweets_cleaned_df.head()"
   ]
  },
  {
   "cell_type": "code",
   "execution_count": 6,
   "metadata": {},
   "outputs": [
    {
     "name": "stdout",
     "output_type": "stream",
     "text": [
      "The number of unique emoticon: 990\n",
      "Top 10 emoticons: \n"
     ]
    },
    {
     "data": {
      "text/plain": [
       "😂    91590\n",
       "❤    32899\n",
       "😭    27890\n",
       "😍    25531\n",
       "🙄    16406\n",
       "😊    14880\n",
       "😩    13905\n",
       "🤔    13488\n",
       "💕    10006\n",
       "🔥     9419\n",
       "Name: sentiment, dtype: int64"
      ]
     },
     "execution_count": 6,
     "metadata": {},
     "output_type": "execute_result"
    }
   ],
   "source": [
    "# show emoticon stat\n",
    "num_emoticons = all_tweets_cleaned_df['sentiment'].nunique()\n",
    "print(\"The number of unique emoticon: {}\".format(num_emoticons)) # The number of unique emoticon: 990\n",
    "print(\"Top 10 emoticons: \")\n",
    "all_tweets_cleaned_df['sentiment'].value_counts()[0:10]"
   ]
  },
  {
   "cell_type": "markdown",
   "metadata": {},
   "source": [
    "## Tweet 의 단어 갯수\n",
    "Count the number of words per token"
   ]
  },
  {
   "cell_type": "code",
   "execution_count": 7,
   "metadata": {},
   "outputs": [
    {
     "name": "stdout",
     "output_type": "stream",
     "text": [
      "Statistics of the number of words per tweet: \n"
     ]
    },
    {
     "data": {
      "text/html": [
       "<div>\n",
       "<style scoped>\n",
       "    .dataframe tbody tr th:only-of-type {\n",
       "        vertical-align: middle;\n",
       "    }\n",
       "\n",
       "    .dataframe tbody tr th {\n",
       "        vertical-align: top;\n",
       "    }\n",
       "\n",
       "    .dataframe thead th {\n",
       "        text-align: right;\n",
       "    }\n",
       "</style>\n",
       "<table border=\"1\" class=\"dataframe\">\n",
       "  <thead>\n",
       "    <tr style=\"text-align: right;\">\n",
       "      <th></th>\n",
       "      <th>num_tokens</th>\n",
       "    </tr>\n",
       "  </thead>\n",
       "  <tbody>\n",
       "    <tr>\n",
       "      <th>count</th>\n",
       "      <td>613060.000000</td>\n",
       "    </tr>\n",
       "    <tr>\n",
       "      <th>mean</th>\n",
       "      <td>9.789479</td>\n",
       "    </tr>\n",
       "    <tr>\n",
       "      <th>std</th>\n",
       "      <td>6.070048</td>\n",
       "    </tr>\n",
       "    <tr>\n",
       "      <th>min</th>\n",
       "      <td>1.000000</td>\n",
       "    </tr>\n",
       "    <tr>\n",
       "      <th>25%</th>\n",
       "      <td>5.000000</td>\n",
       "    </tr>\n",
       "    <tr>\n",
       "      <th>50%</th>\n",
       "      <td>8.000000</td>\n",
       "    </tr>\n",
       "    <tr>\n",
       "      <th>75%</th>\n",
       "      <td>13.000000</td>\n",
       "    </tr>\n",
       "    <tr>\n",
       "      <th>max</th>\n",
       "      <td>54.000000</td>\n",
       "    </tr>\n",
       "  </tbody>\n",
       "</table>\n",
       "</div>"
      ],
      "text/plain": [
       "          num_tokens\n",
       "count  613060.000000\n",
       "mean        9.789479\n",
       "std         6.070048\n",
       "min         1.000000\n",
       "25%         5.000000\n",
       "50%         8.000000\n",
       "75%        13.000000\n",
       "max        54.000000"
      ]
     },
     "execution_count": 7,
     "metadata": {},
     "output_type": "execute_result"
    }
   ],
   "source": [
    "import pandas as pd\n",
    "\n",
    "def num_words_sentence(sentence):\n",
    "    tokens = sentence.split()\n",
    "    len_tokens = len(tokens)\n",
    "    return len_tokens\n",
    "    \n",
    "def store_num_words(texts):    \n",
    "    num_tokens= list()\n",
    "    for text in texts:\n",
    "        len_tokens = num_words_sentence(text)\n",
    "        num_tokens.append(len_tokens)\n",
    "                     \n",
    "    return num_tokens\n",
    "        \n",
    "num_tokens_data = store_num_words(all_tweets_cleaned_df['content'])    \n",
    "                   \n",
    "df_num_tokens = pd.DataFrame(num_tokens_data, columns=['num_tokens'])    \n",
    "\n",
    "print(\"Statistics of the number of words per tweet: \")\n",
    "df_num_tokens.describe()\n"
   ]
  },
  {
   "cell_type": "markdown",
   "metadata": {},
   "source": [
    "<h2>이모티콘 레이블을 10개로 한정 </h2>\n",
    "<p>이모티콘의 레이블을 10개로 한정하기 위해, Top10 을 제외한 모든 데이타는 삭제 함.. <br>"
   ]
  },
  {
   "cell_type": "code",
   "execution_count": 8,
   "metadata": {},
   "outputs": [
    {
     "data": {
      "text/plain": [
       "😂    91590\n",
       "❤    32899\n",
       "😭    27890\n",
       "😍    25531\n",
       "🙄    16406\n",
       "😊    14880\n",
       "😩    13905\n",
       "🤔    13488\n",
       "💕    10006\n",
       "🔥     9419\n",
       "Name: sentiment, dtype: int64"
      ]
     },
     "execution_count": 8,
     "metadata": {},
     "output_type": "execute_result"
    }
   ],
   "source": [
    "num_threshold_lables = 9300 # process more than 9000 for lables\n",
    "num_use_records = num_tweets # total of tweets\n",
    "\n",
    "def filter_less_label(all_tweets, num_use_records,   num_filter_less_label):\n",
    "    # Desc: filter the total data for being less label with specific number\n",
    "    use_tweets = all_tweets[0:num_use_records]\n",
    "    tweets = use_tweets.groupby('sentiment').filter(lambda c:len(c) > num_filter_less_label)\n",
    "\n",
    "    return tweets\n",
    "\n",
    "tweets = filter_less_label(all_tweets_cleaned_df, num_use_records,   num_threshold_lables)\n",
    "tweets.sentiment.value_counts()"
   ]
  },
  {
   "cell_type": "code",
   "execution_count": 9,
   "metadata": {},
   "outputs": [
    {
     "name": "stdout",
     "output_type": "stream",
     "text": [
      "['🤔' '❤' '😭' '😂' '🙄' '😍' '💕' '😊' '😩' '🔥']\n",
      "Shape:  (94190, 2)\n",
      "😭    9419\n",
      "😂    9419\n",
      "😊    9419\n",
      "❤    9419\n",
      "😍    9419\n",
      "😩    9419\n",
      "🙄    9419\n",
      "💕    9419\n",
      "🤔    9419\n",
      "🔥    9419\n",
      "Name: sentiment, dtype: int64\n"
     ]
    }
   ],
   "source": [
    "from sklearn.utils import resample\n",
    "\n",
    "print(tweets.sentiment.unique())\n",
    "emoji_0_df = tweets.query(\"sentiment == '🤔'\")\n",
    "emoji_1_df = tweets.query(\"sentiment == '❤'\")\n",
    "emoji_2_df = tweets.query(\"sentiment == '😭'\")\n",
    "emoji_3_df = tweets.query(\"sentiment == '😂'\")\n",
    "emoji_4_df = tweets.query(\"sentiment == '🙄'\")\n",
    "\n",
    "emoji_5_df = tweets.query(\"sentiment == '😍'\")\n",
    "emoji_6_df = tweets.query(\"sentiment == '💕'\")\n",
    "emoji_7_df = tweets.query(\"sentiment == '😊'\")\n",
    "emoji_8_df = tweets.query(\"sentiment == '😩'\")\n",
    "emoji_9_df = tweets.query(\"sentiment == '🔥'\")\n",
    "\n",
    "minority_count = min(emoji_0_df.shape[0],\n",
    "                     emoji_1_df.shape[0],\n",
    "                     emoji_2_df.shape[0],\n",
    "                     emoji_3_df.shape[0],\n",
    "                     emoji_4_df.shape[0],\n",
    "                     emoji_5_df.shape[0],\n",
    "                     emoji_6_df.shape[0],\n",
    "                     emoji_7_df.shape[0],\n",
    "                     emoji_8_df.shape[0],\n",
    "                     emoji_9_df.shape[0],                     \n",
    "                    )\n",
    "minority_count\n",
    "\n",
    "emoji_0_df = resample(emoji_0_df,\n",
    "                        replace = False,\n",
    "                        n_samples = minority_count,\n",
    "                        random_state = 27)\n",
    "\n",
    "emoji_1_df = resample(emoji_1_df,\n",
    "                        replace = False,\n",
    "                        n_samples = minority_count,\n",
    "                        random_state = 27)\n",
    "\n",
    "\n",
    "emoji_2_df = resample(emoji_2_df,\n",
    "                        replace = False,\n",
    "                        n_samples = minority_count,\n",
    "                        random_state = 27)\n",
    "\n",
    "emoji_3_df = resample(emoji_3_df,\n",
    "                        replace = False,\n",
    "                        n_samples = minority_count,\n",
    "                        random_state = 27)\n",
    "\n",
    "emoji_4_df = resample(emoji_4_df,\n",
    "                        replace = False,\n",
    "                        n_samples = minority_count,\n",
    "                        random_state = 27)\n",
    "\n",
    "emoji_5_df = resample(emoji_5_df,\n",
    "                        replace = False,\n",
    "                        n_samples = minority_count,\n",
    "                        random_state = 27)\n",
    "\n",
    "emoji_6_df = resample(emoji_6_df,\n",
    "                        replace = False,\n",
    "                        n_samples = minority_count,\n",
    "                        random_state = 27)\n",
    "\n",
    "emoji_7_df = resample(emoji_7_df,\n",
    "                        replace = False,\n",
    "                        n_samples = minority_count,\n",
    "                        random_state = 27)\n",
    "\n",
    "emoji_8_df = resample(emoji_8_df,\n",
    "                        replace = False,\n",
    "                        n_samples = minority_count,\n",
    "                        random_state = 27)\n",
    "\n",
    "emoji_9_df = resample(emoji_9_df,\n",
    "                        replace = False,\n",
    "                        n_samples = minority_count,\n",
    "                        random_state = 27)\n",
    "\n",
    "df_balanced = pd.concat([\n",
    "    emoji_0_df, emoji_1_df,\n",
    "    emoji_2_df, emoji_3_df,\n",
    "    emoji_4_df, emoji_5_df,\n",
    "    emoji_6_df, emoji_7_df,\n",
    "    emoji_8_df, emoji_9_df,    \n",
    "])\n",
    "df_balanced = df_balanced.sample(frac=1).reset_index(drop=True)\n",
    "\n",
    "print(\"Shape: \", df_balanced.shape)\n",
    "print(df_balanced.sentiment.value_counts())"
   ]
  },
  {
   "cell_type": "markdown",
   "metadata": {},
   "source": [
    "## Emoticon to index 의 사전 생성"
   ]
  },
  {
   "cell_type": "code",
   "execution_count": 10,
   "metadata": {},
   "outputs": [],
   "source": [
    "from TweetData import TweetData # Custom class for handling input data\n",
    "tweet_data = TweetData(df_balanced)"
   ]
  },
  {
   "cell_type": "code",
   "execution_count": 11,
   "metadata": {},
   "outputs": [
    {
     "name": "stdout",
     "output_type": "stream",
     "text": [
      "data/emoji_to_idx.pickle is saved\n",
      "{'❤': 0, '💕': 1, '🔥': 2, '😂': 3, '😊': 4, '😍': 5, '😩': 6, '😭': 7, '🙄': 8, '🤔': 9}\n"
     ]
    }
   ],
   "source": [
    "# make emoji_to_idx and save it into data\n",
    "emoji_to_idx = tweet_data.make_sentimet_label()"
   ]
  },
  {
   "cell_type": "markdown",
   "metadata": {},
   "source": [
    "## Tweet 데이터를 Train text, Train label, Test text, Test label으로 분리"
   ]
  },
  {
   "cell_type": "code",
   "execution_count": 12,
   "metadata": {},
   "outputs": [
    {
     "name": "stdout",
     "output_type": "stream",
     "text": [
      "text: [' cake en snapchat', \" nobody's business partners\", \" don't get me started\", ' the ice cream man did him dirty', 'gonna miss a snow club party'], label: [0, 5, 8, 6, 6]: \n",
      "\n"
     ]
    }
   ],
   "source": [
    "texts, labels = tweet_data.make_texts_lables()\n",
    "print(\"text: {}, label: {}: \\n\".format(texts[0:5], labels[0:5]))"
   ]
  },
  {
   "cell_type": "code",
   "execution_count": 13,
   "metadata": {},
   "outputs": [],
   "source": [
    "df = pd.DataFrame(data={'content':texts, 'label':labels})"
   ]
  },
  {
   "cell_type": "code",
   "execution_count": 14,
   "metadata": {},
   "outputs": [
    {
     "data": {
      "text/plain": [
       "0        0\n",
       "1        5\n",
       "2        8\n",
       "3        6\n",
       "4        6\n",
       "        ..\n",
       "94185    6\n",
       "94186    0\n",
       "94187    4\n",
       "94188    8\n",
       "94189    6\n",
       "Name: label, Length: 94190, dtype: int64"
      ]
     },
     "execution_count": 14,
     "metadata": {},
     "output_type": "execute_result"
    }
   ],
   "source": [
    "df.label"
   ]
  },
  {
   "cell_type": "markdown",
   "metadata": {},
   "source": [
    "Train 용으로 2개의 파일을 두개를 만들고 (전체 대비 0.45, 0.45), 1개의 테스트 파일(0.1)을 생성 함"
   ]
  },
  {
   "cell_type": "code",
   "execution_count": 15,
   "metadata": {},
   "outputs": [],
   "source": [
    "train_text, train_label, test_text, test_label = tweet_data.split_train_test_data(texts, labels, 0.9)\n",
    "train_text_01, train_label_01, train_text_02, train_label_02 = tweet_data.split_train_test_data(train_text, train_label, 0.5)\n"
   ]
  },
  {
   "cell_type": "code",
   "execution_count": 16,
   "metadata": {},
   "outputs": [],
   "source": [
    "DATA_COLUMN = 'TWEET'\n",
    "LABEL_COLUMN = 'LABEL'\n",
    "\n",
    "tweet_file_01_df = pd.DataFrame({DATA_COLUMN: train_text_01,LABEL_COLUMN:train_label_01})\n",
    "tweet_file_02_df = pd.DataFrame({DATA_COLUMN: train_text_02,LABEL_COLUMN:train_label_02})\n",
    "tweet_file_test_df = pd.DataFrame({DATA_COLUMN: test_text,LABEL_COLUMN:test_label})"
   ]
  },
  {
   "cell_type": "code",
   "execution_count": 17,
   "metadata": {},
   "outputs": [
    {
     "name": "stdout",
     "output_type": "stream",
     "text": [
      "<class 'pandas.core.frame.DataFrame'>\n",
      "RangeIndex: 42385 entries, 0 to 42384\n",
      "Data columns (total 2 columns):\n",
      " #   Column  Non-Null Count  Dtype \n",
      "---  ------  --------------  ----- \n",
      " 0   TWEET   42385 non-null  object\n",
      " 1   LABEL   42385 non-null  int64 \n",
      "dtypes: int64(1), object(1)\n",
      "memory usage: 662.4+ KB\n",
      "None\n",
      "<class 'pandas.core.frame.DataFrame'>\n",
      "RangeIndex: 42386 entries, 0 to 42385\n",
      "Data columns (total 2 columns):\n",
      " #   Column  Non-Null Count  Dtype \n",
      "---  ------  --------------  ----- \n",
      " 0   TWEET   42386 non-null  object\n",
      " 1   LABEL   42386 non-null  int64 \n",
      "dtypes: int64(1), object(1)\n",
      "memory usage: 662.4+ KB\n",
      "None\n",
      "<class 'pandas.core.frame.DataFrame'>\n",
      "RangeIndex: 9419 entries, 0 to 9418\n",
      "Data columns (total 2 columns):\n",
      " #   Column  Non-Null Count  Dtype \n",
      "---  ------  --------------  ----- \n",
      " 0   TWEET   9419 non-null   object\n",
      " 1   LABEL   9419 non-null   int64 \n",
      "dtypes: int64(1), object(1)\n",
      "memory usage: 147.3+ KB\n",
      "None\n"
     ]
    }
   ],
   "source": [
    "print(tweet_file_01_df.info())\n",
    "print(tweet_file_02_df.info())\n",
    "print(tweet_file_test_df.info())"
   ]
  },
  {
   "cell_type": "markdown",
   "metadata": {},
   "source": [
    "- 2개의 Train 파일을 data/split/ 에 저장\n",
    "- 1개의 Test파일을 data/test/에 저장"
   ]
  },
  {
   "cell_type": "code",
   "execution_count": 18,
   "metadata": {},
   "outputs": [
    {
     "name": "stdout",
     "output_type": "stream",
     "text": [
      "data/split/tweet_file_01.csv is saved\n",
      "data/split/tweet_file_02.csv is saved\n",
      "data/test/tweet_file_test.csv is saved\n"
     ]
    }
   ],
   "source": [
    "save_split_data_dir = 'data/split'\n",
    "save_test_data_dir = 'data/test'\n",
    "tweet_file_01_file = \"tweet_file_01.csv\"\n",
    "tweet_file_02_file = \"tweet_file_02.csv\"\n",
    "tweet_file_test_file = \"tweet_file_test.csv\"\n",
    "os.makedirs(save_split_data_dir, exist_ok=True)\n",
    "os.makedirs(save_test_data_dir, exist_ok=True)\n",
    "tweet_data.save_input_data(save_split_data_dir, tweet_file_01_file , tweet_file_01_df)\n",
    "tweet_data.save_input_data(save_split_data_dir, tweet_file_02_file , tweet_file_02_df)\n",
    "tweet_data.save_input_data(save_test_data_dir, tweet_file_test_file , tweet_file_test_df)\n"
   ]
  },
  {
   "cell_type": "code",
   "execution_count": 19,
   "metadata": {},
   "outputs": [
    {
     "name": "stdout",
     "output_type": "stream",
     "text": [
      "tweet_file_01_file_path:  data/split/tweet_file_01.csv\n",
      "tweet_file_02_file_path:  data/split/tweet_file_02.csv\n"
     ]
    }
   ],
   "source": [
    "tweet_file_01_file_path = os.path.join(save_split_data_dir, tweet_file_01_file)\n",
    "tweet_file_02_file_path = os.path.join(save_split_data_dir, tweet_file_02_file)\n",
    "print(\"tweet_file_01_file_path: \", tweet_file_01_file_path)\n",
    "print(\"tweet_file_02_file_path: \", tweet_file_02_file_path)"
   ]
  },
  {
   "cell_type": "markdown",
   "metadata": {},
   "source": [
    "2개의 Train 파일을 gzip으로 압축함"
   ]
  },
  {
   "cell_type": "code",
   "execution_count": 20,
   "metadata": {},
   "outputs": [],
   "source": [
    "! gzip -f {tweet_file_01_file_path}\n",
    "! gzip -f {tweet_file_02_file_path}"
   ]
  },
  {
   "cell_type": "markdown",
   "metadata": {},
   "source": [
    "## 로컬에 저장된 2개의 gzip Train 파일을 S3에 저장 함."
   ]
  },
  {
   "cell_type": "code",
   "execution_count": 21,
   "metadata": {},
   "outputs": [],
   "source": [
    "import boto3\n",
    "import sagemaker\n",
    "\n",
    "# Get region \n",
    "session = boto3.session.Session()\n",
    "region_name = session.region_name\n",
    "\n",
    "# Get SageMaker session & default S3 bucket\n",
    "sagemaker_session = sagemaker.Session()\n",
    "bucket = sagemaker_session.default_bucket()"
   ]
  },
  {
   "cell_type": "code",
   "execution_count": 22,
   "metadata": {},
   "outputs": [
    {
     "name": "stdout",
     "output_type": "stream",
     "text": [
      "s3://sagemaker-ap-northeast-2-343441690612/tweet_emoticon/csv\n",
      "upload: data/split/tweet_file_02.csv.gz to s3://sagemaker-ap-northeast-2-343441690612/tweet_emoticon/csv/tweet_file_02.csv.gz\n",
      "upload: data/split/tweet_file_01.csv.gz to s3://sagemaker-ap-northeast-2-343441690612/tweet_emoticon/csv/tweet_file_01.csv.gz\n"
     ]
    }
   ],
   "source": [
    "s3_destination_path_csv = 's3://{}/tweet_emoticon/csv'.format(bucket)\n",
    "print(s3_destination_path_csv)\n",
    "!aws s3 cp  $save_split_data_dir $s3_destination_path_csv/ --recursive"
   ]
  },
  {
   "cell_type": "code",
   "execution_count": 23,
   "metadata": {},
   "outputs": [
    {
     "name": "stdout",
     "output_type": "stream",
     "text": [
      "2020-08-16 00:18:13     839083 tweet_file_01.csv.gz\n",
      "2020-08-16 00:18:13     839509 tweet_file_02.csv.gz\n"
     ]
    }
   ],
   "source": [
    "! aws s3 ls {s3_destination_path_csv}/"
   ]
  },
  {
   "cell_type": "code",
   "execution_count": 24,
   "metadata": {},
   "outputs": [
    {
     "name": "stdout",
     "output_type": "stream",
     "text": [
      "Stored 's3_destination_path_csv' (str)\n",
      "Stored 'save_split_data_dir' (str)\n"
     ]
    }
   ],
   "source": [
    "%store s3_destination_path_csv\n",
    "%store save_split_data_dir"
   ]
  },
  {
   "cell_type": "code",
   "execution_count": null,
   "metadata": {},
   "outputs": [],
   "source": []
  },
  {
   "cell_type": "code",
   "execution_count": null,
   "metadata": {},
   "outputs": [],
   "source": []
  }
 ],
 "metadata": {
  "kernelspec": {
   "display_name": "conda_python3",
   "language": "python",
   "name": "conda_python3"
  },
  "language_info": {
   "codemirror_mode": {
    "name": "ipython",
    "version": 3
   },
   "file_extension": ".py",
   "mimetype": "text/x-python",
   "name": "python",
   "nbconvert_exporter": "python",
   "pygments_lexer": "ipython3",
   "version": "3.6.10"
  }
 },
 "nbformat": 4,
 "nbformat_minor": 4
}
