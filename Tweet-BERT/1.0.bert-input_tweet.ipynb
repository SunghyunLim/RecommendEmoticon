{
 "cells": [
  {
   "cell_type": "markdown",
   "metadata": {},
   "source": [
    "# Tweet input processing: Download, look into, and store to S3"
   ]
  },
  {
   "cell_type": "code",
   "execution_count": 1,
   "metadata": {},
   "outputs": [
    {
     "data": {
      "text/plain": [
       "'/home/ec2-user/SageMaker/RecommendEmoticon/Tweet-BERT'"
      ]
     },
     "execution_count": 1,
     "metadata": {},
     "output_type": "execute_result"
    }
   ],
   "source": [
    "import os\n",
    "os.getcwd()"
   ]
  },
  {
   "cell_type": "code",
   "execution_count": 2,
   "metadata": {},
   "outputs": [],
   "source": [
    "import pandas as pd\n",
    "import re\n",
    "import boto3\n",
    "import numpy as np\n",
    "import os\n",
    "\n",
    "from TweetInput import TweetInput"
   ]
  },
  {
   "cell_type": "markdown",
   "metadata": {},
   "source": [
    "<h2> Download tweet data </h2>\n",
    "<p>Location: https://201912-mbp-gsmoon.s3.us-east-2.amazonaws.com/emoji_data/emojis.csv"
   ]
  },
  {
   "cell_type": "code",
   "execution_count": 3,
   "metadata": {},
   "outputs": [
    {
     "name": "stdout",
     "output_type": "stream",
     "text": [
      "Downloading from S3 is done in data/emojis.csv\n",
      "Loading data is done!\n",
      "all_tweets shape:  (806204, 2)\n",
      "<class 'pandas.core.frame.DataFrame'>\n"
     ]
    }
   ],
   "source": [
    "# Create TweetInput object    \n",
    "tweet_input_obj = TweetInput()\n",
    "\n",
    "# Load data from S3\n",
    "tweet_input_obj.download_data_from_s3()\n",
    "\n",
    "# Read all tweets\n",
    "all_tweets = tweet_input_obj.read_data()    \n",
    "all_tweets.head()   \n",
    "print(\"all_tweets shape: \", all_tweets.shape)\n",
    "print(type(all_tweets))"
   ]
  },
  {
   "cell_type": "markdown",
   "metadata": {},
   "source": [
    "<h2>Look into tweet data"
   ]
  },
  {
   "cell_type": "code",
   "execution_count": 4,
   "metadata": {},
   "outputs": [
    {
     "data": {
      "text/html": [
       "<div>\n",
       "<style scoped>\n",
       "    .dataframe tbody tr th:only-of-type {\n",
       "        vertical-align: middle;\n",
       "    }\n",
       "\n",
       "    .dataframe tbody tr th {\n",
       "        vertical-align: top;\n",
       "    }\n",
       "\n",
       "    .dataframe thead th {\n",
       "        text-align: right;\n",
       "    }\n",
       "</style>\n",
       "<table border=\"1\" class=\"dataframe\">\n",
       "  <thead>\n",
       "    <tr style=\"text-align: right;\">\n",
       "      <th></th>\n",
       "      <th>content</th>\n",
       "      <th>sentiment</th>\n",
       "    </tr>\n",
       "  </thead>\n",
       "  <tbody>\n",
       "    <tr>\n",
       "      <th>0</th>\n",
       "      <td>text</td>\n",
       "      <td>emoji</td>\n",
       "    </tr>\n",
       "    <tr>\n",
       "      <th>1</th>\n",
       "      <td>@ATLHawks: Chance The Rapper or Kent Bazemore?...</td>\n",
       "      <td>🤔</td>\n",
       "    </tr>\n",
       "    <tr>\n",
       "      <th>2</th>\n",
       "      <td>@nice_aju: Yup we love you, you're so precious...</td>\n",
       "      <td>💙</td>\n",
       "    </tr>\n",
       "    <tr>\n",
       "      <th>3</th>\n",
       "      <td>Fav  Sing Me to Sleep by Alan Walker</td>\n",
       "      <td>💛</td>\n",
       "    </tr>\n",
       "    <tr>\n",
       "      <th>4</th>\n",
       "      <td>@AshBenzo: Wife From The Real-Life 'Fault In O...</td>\n",
       "      <td>💔</td>\n",
       "    </tr>\n",
       "    <tr>\n",
       "      <th>5</th>\n",
       "      <td>Why am I up so late</td>\n",
       "      <td>😔</td>\n",
       "    </tr>\n",
       "    <tr>\n",
       "      <th>6</th>\n",
       "      <td>Puppy</td>\n",
       "      <td>🙆</td>\n",
       "    </tr>\n",
       "    <tr>\n",
       "      <th>7</th>\n",
       "      <td>@AKGirlKuku: I need a hug. No No! I need yo hu...</td>\n",
       "      <td>❤</td>\n",
       "    </tr>\n",
       "    <tr>\n",
       "      <th>8</th>\n",
       "      <td>@wearegoad: me with my pet</td>\n",
       "      <td>🐕</td>\n",
       "    </tr>\n",
       "    <tr>\n",
       "      <th>9</th>\n",
       "      <td>Let's have some fun 8==D O Find me here</td>\n",
       "      <td>😘</td>\n",
       "    </tr>\n",
       "    <tr>\n",
       "      <th>10</th>\n",
       "      <td>Quick sesh thats it</td>\n",
       "      <td>🏠</td>\n",
       "    </tr>\n",
       "    <tr>\n",
       "      <th>11</th>\n",
       "      <td>@wuthie16: Thank you luv #ALDUBAdvocatesOfLove</td>\n",
       "      <td>😘</td>\n",
       "    </tr>\n",
       "    <tr>\n",
       "      <th>12</th>\n",
       "      <td>finally i've got my driving license</td>\n",
       "      <td>😭</td>\n",
       "    </tr>\n",
       "    <tr>\n",
       "      <th>13</th>\n",
       "      <td>@joeisumiller thank you joei!!</td>\n",
       "      <td>❤</td>\n",
       "    </tr>\n",
       "    <tr>\n",
       "      <th>14</th>\n",
       "      <td>@chndria: 2 minutes of heaven!!! Off cam In pu...</td>\n",
       "      <td>😭</td>\n",
       "    </tr>\n",
       "  </tbody>\n",
       "</table>\n",
       "</div>"
      ],
      "text/plain": [
       "                                              content sentiment\n",
       "0                                                text     emoji\n",
       "1   @ATLHawks: Chance The Rapper or Kent Bazemore?...         🤔\n",
       "2   @nice_aju: Yup we love you, you're so precious...         💙\n",
       "3                Fav  Sing Me to Sleep by Alan Walker         💛\n",
       "4   @AshBenzo: Wife From The Real-Life 'Fault In O...         💔\n",
       "5                                 Why am I up so late         😔\n",
       "6                                               Puppy         🙆\n",
       "7   @AKGirlKuku: I need a hug. No No! I need yo hu...         ❤\n",
       "8                          @wearegoad: me with my pet         🐕\n",
       "9             Let's have some fun 8==D O Find me here         😘\n",
       "10                                Quick sesh thats it         🏠\n",
       "11     @wuthie16: Thank you luv #ALDUBAdvocatesOfLove         😘\n",
       "12                finally i've got my driving license         😭\n",
       "13                     @joeisumiller thank you joei!!         ❤\n",
       "14  @chndria: 2 minutes of heaven!!! Off cam In pu...         😭"
      ]
     },
     "execution_count": 4,
     "metadata": {},
     "output_type": "execute_result"
    }
   ],
   "source": [
    "all_tweets.head(15)"
   ]
  },
  {
   "cell_type": "code",
   "execution_count": 5,
   "metadata": {},
   "outputs": [
    {
     "data": {
      "text/plain": [
       "600223"
      ]
     },
     "execution_count": 5,
     "metadata": {},
     "output_type": "execute_result"
    }
   ],
   "source": [
    "# show emoticon stat\n",
    "all_tweets_df = pd.DataFrame(all_tweets)\n",
    "all_tweets_cleaned_df = all_tweets_df\n",
    "all_tweets_cleaned_df.drop_duplicates(inplace = True) \n",
    "all_tweets_cleaned_df['content'].nunique()"
   ]
  },
  {
   "cell_type": "code",
   "execution_count": 6,
   "metadata": {},
   "outputs": [
    {
     "name": "stdout",
     "output_type": "stream",
     "text": [
      "The number of unique emoticon: 990\n",
      "Top 20 emoticons: \n"
     ]
    },
    {
     "data": {
      "text/plain": [
       "😂    91590\n",
       "❤    32899\n",
       "😭    27890\n",
       "😍    25531\n",
       "🙄    16406\n",
       "😊    14880\n",
       "😩    13905\n",
       "🤔    13488\n",
       "💕    10006\n",
       "🔥     9419\n",
       "Name: sentiment, dtype: int64"
      ]
     },
     "execution_count": 6,
     "metadata": {},
     "output_type": "execute_result"
    }
   ],
   "source": [
    "# show emoticon stat\n",
    "num_emoticons = all_tweets_cleaned_df['sentiment'].nunique()\n",
    "print(\"The number of unique emoticon: {}\".format(num_emoticons)) # The number of unique emoticon: 990\n",
    "print(\"Top 20 emoticons: \")\n",
    "all_tweets_cleaned_df['sentiment'].value_counts()[0:10]"
   ]
  },
  {
   "cell_type": "markdown",
   "metadata": {},
   "source": [
    "<h2> Count the number of words per token"
   ]
  },
  {
   "cell_type": "code",
   "execution_count": 7,
   "metadata": {},
   "outputs": [
    {
     "name": "stdout",
     "output_type": "stream",
     "text": [
      "Statistics of the number of words per tweet: \n"
     ]
    },
    {
     "data": {
      "text/html": [
       "<div>\n",
       "<style scoped>\n",
       "    .dataframe tbody tr th:only-of-type {\n",
       "        vertical-align: middle;\n",
       "    }\n",
       "\n",
       "    .dataframe tbody tr th {\n",
       "        vertical-align: top;\n",
       "    }\n",
       "\n",
       "    .dataframe thead th {\n",
       "        text-align: right;\n",
       "    }\n",
       "</style>\n",
       "<table border=\"1\" class=\"dataframe\">\n",
       "  <thead>\n",
       "    <tr style=\"text-align: right;\">\n",
       "      <th></th>\n",
       "      <th>num_tokens</th>\n",
       "    </tr>\n",
       "  </thead>\n",
       "  <tbody>\n",
       "    <tr>\n",
       "      <th>count</th>\n",
       "      <td>613060.000000</td>\n",
       "    </tr>\n",
       "    <tr>\n",
       "      <th>mean</th>\n",
       "      <td>9.789479</td>\n",
       "    </tr>\n",
       "    <tr>\n",
       "      <th>std</th>\n",
       "      <td>6.070048</td>\n",
       "    </tr>\n",
       "    <tr>\n",
       "      <th>min</th>\n",
       "      <td>1.000000</td>\n",
       "    </tr>\n",
       "    <tr>\n",
       "      <th>25%</th>\n",
       "      <td>5.000000</td>\n",
       "    </tr>\n",
       "    <tr>\n",
       "      <th>50%</th>\n",
       "      <td>8.000000</td>\n",
       "    </tr>\n",
       "    <tr>\n",
       "      <th>75%</th>\n",
       "      <td>13.000000</td>\n",
       "    </tr>\n",
       "    <tr>\n",
       "      <th>max</th>\n",
       "      <td>54.000000</td>\n",
       "    </tr>\n",
       "  </tbody>\n",
       "</table>\n",
       "</div>"
      ],
      "text/plain": [
       "          num_tokens\n",
       "count  613060.000000\n",
       "mean        9.789479\n",
       "std         6.070048\n",
       "min         1.000000\n",
       "25%         5.000000\n",
       "50%         8.000000\n",
       "75%        13.000000\n",
       "max        54.000000"
      ]
     },
     "execution_count": 7,
     "metadata": {},
     "output_type": "execute_result"
    }
   ],
   "source": [
    "import pandas as pd\n",
    "\n",
    "def num_words_sentence(sentence):\n",
    "    tokens = sentence.split()\n",
    "    len_tokens = len(tokens)\n",
    "    return len_tokens\n",
    "    \n",
    "def store_num_words(texts):    \n",
    "    num_tokens= list()\n",
    "    for text in texts:\n",
    "        len_tokens = num_words_sentence(text)\n",
    "        num_tokens.append(len_tokens)\n",
    "                     \n",
    "    return num_tokens\n",
    "        \n",
    "num_tokens_data = store_num_words(all_tweets_cleaned_df['content'])    \n",
    "                   \n",
    "df_num_tokens = pd.DataFrame(num_tokens_data, columns=['num_tokens'])    \n",
    "#print(num_tokens_data)\n",
    "#df_num_tokens.num_tokens.describe()\n",
    "print(\"Statistics of the number of words per tweet: \")\n",
    "df_num_tokens.describe()\n"
   ]
  },
  {
   "cell_type": "markdown",
   "metadata": {},
   "source": [
    "<h2>Parameters</h2>\n",
    "<p> "
   ]
  },
  {
   "cell_type": "code",
   "execution_count": 8,
   "metadata": {},
   "outputs": [],
   "source": [
    "num_threshold_lables = 8500 # process more than 11800 for lables\n",
    "num_use_records = 557832 # total of tweets"
   ]
  },
  {
   "cell_type": "markdown",
   "metadata": {},
   "source": [
    "<h2>Make Two files </h2>\n",
    "<p>이모티콘의 레이블을 10개로 한정함. <br>"
   ]
  },
  {
   "cell_type": "code",
   "execution_count": 9,
   "metadata": {},
   "outputs": [
    {
     "name": "stdout",
     "output_type": "stream",
     "text": [
      "tweets filterd shape:  (232077, 2)\n",
      "content      230688\n",
      "sentiment        10\n",
      "dtype: int64\n",
      "data/emoji_to_idx.pickle is saved\n"
     ]
    }
   ],
   "source": [
    "\n",
    "# Load a filtered tweets\n",
    "tweets = tweet_input_obj.filter_less_label(all_tweets_cleaned_df,num_use_records, num_threshold_lables)\n",
    "\n",
    "print(\"tweets filterd shape: \", tweets.shape)\n",
    "print(tweets.nunique())\n",
    "\n",
    "# make emoji_to_idx and save it into data\n",
    "tweet_input_obj.make_sentimet_label()\n",
    "texts, labels = tweet_input_obj.make_texts_lables()\n",
    "train_text, train_label, test_text, test_label = tweet_input_obj.split_train_test_data(texts, labels, 0.5)\n",
    "\n"
   ]
  },
  {
   "cell_type": "markdown",
   "metadata": {},
   "source": [
    "## Make two input files"
   ]
  },
  {
   "cell_type": "code",
   "execution_count": 10,
   "metadata": {},
   "outputs": [],
   "source": [
    "DATA_COLUMN = 'TWEET'\n",
    "LABEL_COLUMN = 'LABEL'\n",
    "\n",
    "tweet_file_01_df = pd.DataFrame({DATA_COLUMN: train_text,LABEL_COLUMN:train_label})\n",
    "tweet_file_02_df = pd.DataFrame({DATA_COLUMN: test_text,LABEL_COLUMN:test_label})"
   ]
  },
  {
   "cell_type": "code",
   "execution_count": 11,
   "metadata": {},
   "outputs": [
    {
     "name": "stdout",
     "output_type": "stream",
     "text": [
      "<class 'pandas.core.frame.DataFrame'>\n",
      "RangeIndex: 116038 entries, 0 to 116037\n",
      "Data columns (total 2 columns):\n",
      "TWEET    116038 non-null object\n",
      "LABEL    116038 non-null int64\n",
      "dtypes: int64(1), object(1)\n",
      "memory usage: 1.8+ MB\n",
      "None\n",
      "<class 'pandas.core.frame.DataFrame'>\n",
      "RangeIndex: 116039 entries, 0 to 116038\n",
      "Data columns (total 2 columns):\n",
      "TWEET    116039 non-null object\n",
      "LABEL    116039 non-null int64\n",
      "dtypes: int64(1), object(1)\n",
      "memory usage: 1.8+ MB\n",
      "None\n"
     ]
    }
   ],
   "source": [
    "print(tweet_file_01_df.info())\n",
    "print(tweet_file_02_df.info())"
   ]
  },
  {
   "cell_type": "code",
   "execution_count": 12,
   "metadata": {},
   "outputs": [
    {
     "name": "stdout",
     "output_type": "stream",
     "text": [
      "data/split/tweet_file_01.csv is saved\n",
      "data/split/tweet_file_02.csv is saved\n"
     ]
    }
   ],
   "source": [
    "save_split_data_dir = 'data/split'\n",
    "tweet_file_01_file = \"tweet_file_01.csv\"\n",
    "tweet_file_02_file = \"tweet_file_02.csv\"\n",
    "tweet_input_obj.save_input_data(save_split_data_dir, tweet_file_01_file , tweet_file_01_df)\n",
    "tweet_input_obj.save_input_data(save_split_data_dir, tweet_file_02_file , tweet_file_02_df)\n"
   ]
  },
  {
   "cell_type": "code",
   "execution_count": 13,
   "metadata": {},
   "outputs": [
    {
     "name": "stdout",
     "output_type": "stream",
     "text": [
      "tweet_file_01_file_path:  data/split/tweet_file_01.csv\n",
      "tweet_file_02_file_path:  data/split/tweet_file_02.csv\n"
     ]
    }
   ],
   "source": [
    "tweet_file_01_file_path = os.path.join(save_split_data_dir, tweet_file_01_file)\n",
    "tweet_file_02_file_path = os.path.join(save_split_data_dir, tweet_file_02_file)\n",
    "print(\"tweet_file_01_file_path: \", tweet_file_01_file_path)\n",
    "print(\"tweet_file_02_file_path: \", tweet_file_02_file_path)"
   ]
  },
  {
   "cell_type": "code",
   "execution_count": 14,
   "metadata": {},
   "outputs": [],
   "source": [
    "! gzip -f {tweet_file_01_file_path}\n",
    "! gzip -f {tweet_file_02_file_path}"
   ]
  },
  {
   "cell_type": "markdown",
   "metadata": {},
   "source": [
    "# Upload dataset to a Private S3 Bucket in our Account"
   ]
  },
  {
   "cell_type": "code",
   "execution_count": 15,
   "metadata": {},
   "outputs": [],
   "source": [
    "import boto3\n",
    "import sagemaker\n",
    "\n",
    "# Get region \n",
    "session = boto3.session.Session()\n",
    "region_name = session.region_name\n",
    "\n",
    "# Get SageMaker session & default S3 bucket\n",
    "sagemaker_session = sagemaker.Session()\n",
    "bucket = sagemaker_session.default_bucket()"
   ]
  },
  {
   "cell_type": "code",
   "execution_count": 16,
   "metadata": {},
   "outputs": [
    {
     "name": "stdout",
     "output_type": "stream",
     "text": [
      "s3://sagemaker-us-west-2-057716757052/tweet_emoticon/csv\n",
      "upload: data/split/tweet_file_02.csv.gz to s3://sagemaker-us-west-2-057716757052/tweet_emoticon/csv/tweet_file_02.csv.gz\n",
      "upload: data/split/tweet_file_01.csv.gz to s3://sagemaker-us-west-2-057716757052/tweet_emoticon/csv/tweet_file_01.csv.gz\n"
     ]
    }
   ],
   "source": [
    "s3_destination_path_csv = 's3://{}/tweet_emoticon/csv'.format(bucket)\n",
    "print(s3_destination_path_csv)\n",
    "!aws s3 cp  $save_split_data_dir $s3_destination_path_csv/ --recursive\n",
    "# !aws s3 cp  $tweet_file_02_file_path $s3_destination_path_csv/ "
   ]
  },
  {
   "cell_type": "code",
   "execution_count": 17,
   "metadata": {},
   "outputs": [
    {
     "name": "stdout",
     "output_type": "stream",
     "text": [
      "2020-06-28 05:07:16    3008478 tweet_file_01.csv.gz\n",
      "2020-06-28 05:07:16    3026906 tweet_file_02.csv.gz\n"
     ]
    }
   ],
   "source": [
    "! aws s3 ls {s3_destination_path_csv}/"
   ]
  },
  {
   "cell_type": "code",
   "execution_count": 18,
   "metadata": {},
   "outputs": [
    {
     "name": "stdout",
     "output_type": "stream",
     "text": [
      "Stored 's3_destination_path_csv' (str)\n",
      "Stored 'save_split_data_dir' (str)\n"
     ]
    }
   ],
   "source": [
    "%store s3_destination_path_csv\n",
    "%store save_split_data_dir"
   ]
  },
  {
   "cell_type": "code",
   "execution_count": null,
   "metadata": {},
   "outputs": [],
   "source": []
  },
  {
   "cell_type": "code",
   "execution_count": null,
   "metadata": {},
   "outputs": [],
   "source": []
  }
 ],
 "metadata": {
  "kernelspec": {
   "display_name": "conda_python3",
   "language": "python",
   "name": "conda_python3"
  },
  "language_info": {
   "codemirror_mode": {
    "name": "ipython",
    "version": 3
   },
   "file_extension": ".py",
   "mimetype": "text/x-python",
   "name": "python",
   "nbconvert_exporter": "python",
   "pygments_lexer": "ipython3",
   "version": "3.6.5"
  }
 },
 "nbformat": 4,
 "nbformat_minor": 4
}
