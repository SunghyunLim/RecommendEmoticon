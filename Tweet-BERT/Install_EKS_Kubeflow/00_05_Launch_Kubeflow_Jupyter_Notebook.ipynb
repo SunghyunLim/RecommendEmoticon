{
 "cells": [
  {
   "cell_type": "markdown",
   "metadata": {},
   "source": [
    "## Kubeflow UI 설정 및 노트북 생성\n",
    "\n",
    "아래 노트북은 원본 노트북에 설명을 추가 하였습니다.\n",
    "노트북 가이드로 따라 하시기 바랍니다.\n",
    "\n",
    "- 실제 실행시에 여기의 셀의 \"결과 값\" 과 일치하는지를 확인하면서 실행 하십시오.\n",
    "- 만일 에러등이 발생하면 확인하시고 다시 실행 해야 합니다.\n",
    "    - https://github.com/data-science-on-aws/workshop/blob/master/12_kubeflow/00_05_Launch_Kubeflow_Jupyter_Notebook.ipynb"
   ]
  },
  {
   "cell_type": "markdown",
   "metadata": {},
   "source": [
    "# Enable the Public Kubeflow UI\n",
    "This deploys `istio-ingress` in the `istio-system` namespace and creates a publicly-available `LoadBalancer` endpoint.\n",
    "\n",
    "THIS IS A PUBLIC ENDPOINT."
   ]
  },
  {
   "cell_type": "code",
   "execution_count": null,
   "metadata": {},
   "outputs": [],
   "source": [
    "%%bash\n",
    "\n",
    "source ~/.bash_profile\n",
    "\n",
    "###################################################################\\n\",\n",
    "# UNCOMMENT THIS OUT - PUBLIC ENDPOINT                                               \\n\",\n",
    "###################################################################\\n\",\n",
    "cd ${KF_DIR}/.cache/manifests/manifests-1.0.2/ \n",
    "kubectl apply -k aws/istio-ingress/base --namespace istio-system\n",
    "cd ${KF_DIR}"
   ]
  },
  {
   "cell_type": "markdown",
   "metadata": {},
   "source": [
    "# Run the Next Cell Until You See a Valid URL \n",
    "\n",
    "Notes:\n",
    "* If you see an empty `http://` endpoint, then you need to uncomment out the code above, but be careful because the endpoint is public and you may be hacked!\n",
    "\n",
    "* The endpoint will look something like this:  `http://[some-long-subdomain-name].[aws-region].elb.amazonaws.com`\n",
    "\n",
    "* Navigate to the Kubeflow Dashboard at this URL.  THIS WILL TAKE A FEW MINUTES AS DNS IS EVENTUALLY CONSISTENT AND TAKES A FEW MINUTES TO PROPAGATE ACROSS THE WORLD.  \n",
    "\n",
    "* If you see a 404 in your browser, please be patient.  This will take a few minutes as mentioned above.\n"
   ]
  },
  {
   "cell_type": "markdown",
   "metadata": {},
   "source": [
    "**아래와 같이 elb(Elastic Load Balancer)가 생성이 되면 아래에 URL 이 생성됨**\n",
    "- EC2 Console --> 좌측의 Load Balancer 클릭"
   ]
  },
  {
   "cell_type": "markdown",
   "metadata": {},
   "source": [
    "![elb_creation](img/elb_creation.png)"
   ]
  },
  {
   "cell_type": "code",
   "execution_count": null,
   "metadata": {},
   "outputs": [],
   "source": [
    "%%bash\n",
    "\n",
    "echo \" THIS LINK MAY TAKE A FEW MINUTES TO SHOW UP.  PATIENCE \"\n",
    "echo \"\"\n",
    "echo \"********************************************************\"\n",
    "echo \"        CLICK THE FOLLOWING LINK WHEN IT APPEARS        \"\n",
    "echo \"\"\n",
    "echo http://$(kubectl get ingress -n istio-system -o jsonpath='{.items[0].status.loadBalancer.ingress[0].hostname}')\n",
    "echo \"\"\n",
    "echo \"^^^^^^ COPY/PASTE THIS URL INTO A NEW BROWSER TAB ^^^^^^\"\n",
    "echo \"********************************************************\"\n",
    "echo \"\"\n",
    "echo \"=====> FOLLOW THE INSTRUCTIONS IN NEW BROWSER TAB <=====\"\n",
    "echo \"\"\n",
    "echo \"^^^^^^^^^^^^^^^^^^^^^^^^^^^^^^^^^^^^^^^^^^^^^^^^^^^^^^^^\""
   ]
  },
  {
   "cell_type": "markdown",
   "metadata": {},
   "source": [
    "![KubeflowAnonymousNamespace](img/kubeflow-anonymous-namespace.png)"
   ]
  },
  {
   "cell_type": "markdown",
   "metadata": {},
   "source": [
    "Click on `Start Setup`.\n",
    "\n",
    "**Note:  You must use the default namespace `anonymous`.**\n",
    "\n",
    "Click `Finish` to view the dashboard."
   ]
  },
  {
   "cell_type": "markdown",
   "metadata": {},
   "source": [
    "# You should continue when you see the following Kubeflow Dashboard."
   ]
  },
  {
   "cell_type": "markdown",
   "metadata": {},
   "source": [
    "![KubeflowDashboard](img/kubeflow-dashboard.png)"
   ]
  },
  {
   "cell_type": "markdown",
   "metadata": {},
   "source": [
    "# Launch Kubeflow Notebook Server\n",
    "\n",
    "Kubeflow Notebooks are based on Jupyter Notebooks.  They are open-source web applications that allow you to create and share documents that contain live code, equations, visualizations and narrative text.  They are often used for data cleaning, transformations, analysis, and visualizations.  Additionally, Kubeflow and Jupyter Notebooks are used for numerical simulations, statistical modeling, machine learning, and artificial intelligence."
   ]
  },
  {
   "cell_type": "markdown",
   "metadata": {},
   "source": [
    "# Create a New Kubeflow Notebook Server\n",
    "![new_dashboard](img/dashboard-new-notebook-server.png)"
   ]
  },
  {
   "cell_type": "markdown",
   "metadata": {},
   "source": [
    "# Select the `anonymous` Namespace\n",
    "\n",
    "![dashboard_select](img/jupyter-select-namespace.png)\n",
    "\n",
    "This pre-populates the namespace field on the dashboard. Specify a name **notebook** for the notebook:\n",
    "\n",
    "![dashboard](img/jupyter-enter-notebook-server-name.png)\n"
   ]
  },
  {
   "cell_type": "markdown",
   "metadata": {},
   "source": [
    "# Check the `Custom Image` Checkbox \n",
    "\n",
    "# Specify Our Optimized Notebook Image:\n",
    "\n",
    "*********************************************\n",
    "```\n",
    "pipelineai/kubeflow-notebook-cpu-1.13.1:2.0.0\n",
    "\n",
    "```\n",
    "^^^^^^^^^^^^^^^^^^^^^^^^^^^^^^^^^^^^^^^^^^^^^^^^^^^^\n",
    "*********************************************\n",
    "\n",
    "![SelectImage](img/jupyter-select-image.png)\n",
    "\n",
    "*********************************************\n",
    "```\n",
    "pipelineai/kubeflow-notebook-cpu-1.13.1:2.0.0\n",
    "\n",
    "```\n",
    "^^^^^^^^^^^^^^^^^^^^^^^^^^^^^^^^^^^^^^^^^^^^^^^^^^^^\n",
    "*********************************************\n"
   ]
  },
  {
   "cell_type": "markdown",
   "metadata": {},
   "source": [
    "# Change the CPU to **1.0** (Not More, Not Less)\n",
    "\n",
    "![Select CPU](img/jupyter-select-cpu.png)\n",
    "\n",
    "Scroll to the bottom, accept all other defaults, and click on **LAUNCH**.\n",
    "\n",
    "![Launch Notebook Server_select](img/kubeflow-notebook-server-launch.png)\n",
    "\n",
    "It takes a couple minutes for the first Jupyter notebook to come online. Click on **CONNECT**\n",
    "\n",
    "![List Notebook Servers_select](img/jupyter-notebook-servers.png)\n",
    "\n",
    "This connects to the notebook and opens the notebook interface in a new browser tab.\n",
    "\n",
    "![Connect](img/jupyter-new-notebook.png)"
   ]
  },
  {
   "cell_type": "markdown",
   "metadata": {},
   "source": [
    "# Launch a New Terminal in the Notebook\n",
    "\n",
    "Click on **New**, select **Terminal**\n",
    "\n",
    "![New Terminal_select](img/jupyter-new-terminal.png)\n"
   ]
  },
  {
   "cell_type": "markdown",
   "metadata": {},
   "source": [
    "# Clone our Repo in the Terminal\n",
    "\n",
    "*********************************************\n",
    "```\n",
    "git clone https://github.com/data-science-on-aws/workshop\n",
    "\n",
    "```\n",
    "^^^^^^^^^^^^^^^^^^^^^^^^^^^^^^^^^^^^^^^^^^^^^^^^^^^^^^^^^^^^^^^^\n",
    "*********************************************\n",
    "\n",
    "![](img/clone-repo-kubeflow-notebook.png)\n",
    "\n",
    "\n",
    "*********************************************\n",
    "```\n",
    "git clone https://github.com/data-science-on-aws/workshop\n",
    "\n",
    "```\n",
    "^^^^^^^^^^^^^^^^^^^^^^^^^^^^^^^^^^^^^^^^^^^^^^^^^^^^^^^^^^^^^^^^\n",
    "*********************************************"
   ]
  },
  {
   "cell_type": "markdown",
   "metadata": {},
   "source": [
    "# Run the Kubeflow Notebooks\n",
    "\n",
    "**Note:** Make sure you are in the Kubeflow Jupyter Notebook (not SageMaker Jupyter Notebook.)\n",
    "\n",
    "Navigate to the `workshop/12_kubeflow/` directory and start running the notebooks from `01_*`.\n",
    "\n",
    "![run-notebooks_run](img/run-notebooks.png)\n"
   ]
  },
  {
   "cell_type": "code",
   "execution_count": null,
   "metadata": {},
   "outputs": [],
   "source": [
    "%%javascript\n",
    "Jupyter.notebook.save_checkpoint();\n",
    "Jupyter.notebook.session.delete();"
   ]
  }
 ],
 "metadata": {
  "kernelspec": {
   "display_name": "conda_python3",
   "language": "python",
   "name": "conda_python3"
  },
  "language_info": {
   "codemirror_mode": {
    "name": "ipython",
    "version": 3
   },
   "file_extension": ".py",
   "mimetype": "text/x-python",
   "name": "python",
   "nbconvert_exporter": "python",
   "pygments_lexer": "ipython3",
   "version": "3.6.10"
  }
 },
 "nbformat": 4,
 "nbformat_minor": 4
}
