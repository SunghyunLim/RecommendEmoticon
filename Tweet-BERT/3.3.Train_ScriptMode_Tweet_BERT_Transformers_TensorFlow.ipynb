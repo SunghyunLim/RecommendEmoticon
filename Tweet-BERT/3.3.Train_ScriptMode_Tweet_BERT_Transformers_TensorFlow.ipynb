{
 "cells": [
  {
   "cell_type": "markdown",
   "metadata": {},
   "source": [
    "# [Module 3.3] On a Script Mode, Train a BERT Model with Tensorflow\n",
    "\n",
    "이 노트북은 스크립트 모드로 학습을 수행 합니다.\n",
    "여기서는 다음과 같은 작업을 합니다.\n",
    "\n",
    "- 학습할 데이타를 S3로 지정\n",
    "- Train 학습 파리미터 설정\n",
    "- Estimator를 생성하고 tf_script_bert_tweet.py Train Script를 지정\n",
    "- train_instance_type 을 'ml.p3.2xlarge' 인스턴스로 설정\n",
    "- Estimator를 를 스크립트 모드로 실행\n",
    "- S3에 생성된 모델 아티펙트 확인\n",
    "\n",
    "\n",
    "- 스크립트 모드의 자세한 사용은 아래의 API 문서 참고 하세요\n",
    "- Script Mode Ref:\n",
    "    - https://sagemaker.readthedocs.io/en/stable/frameworks/tensorflow/using_tf.html#train-a-model-with-tensorflow"
   ]
  },
  {
   "cell_type": "code",
   "execution_count": 1,
   "metadata": {},
   "outputs": [],
   "source": [
    "%store -r"
   ]
  },
  {
   "cell_type": "code",
   "execution_count": 2,
   "metadata": {},
   "outputs": [],
   "source": [
    "import os\n",
    "import sagemaker\n",
    "import boto3\n",
    "from sagemaker.tensorflow import TensorFlow\n",
    "\n",
    "sess   = sagemaker.Session()\n",
    "bucket = sess.default_bucket()\n",
    "role = sagemaker.get_execution_role()\n",
    "region = boto3.Session().region_name"
   ]
  },
  {
   "cell_type": "markdown",
   "metadata": {},
   "source": [
    "## 입력 데이타 설정\n",
    "로컬모드와 다르게 distribution='ShardedByS3Key' 로 설정 함"
   ]
  },
  {
   "cell_type": "code",
   "execution_count": 3,
   "metadata": {},
   "outputs": [
    {
     "name": "stderr",
     "output_type": "stream",
     "text": [
      "'s3_input' class will be renamed to 'TrainingInput' in SageMaker Python SDK v2.\n",
      "'s3_input' class will be renamed to 'TrainingInput' in SageMaker Python SDK v2.\n",
      "'s3_input' class will be renamed to 'TrainingInput' in SageMaker Python SDK v2.\n"
     ]
    },
    {
     "name": "stdout",
     "output_type": "stream",
     "text": [
      "{'DataSource': {'S3DataSource': {'S3DataType': 'S3Prefix', 'S3Uri': 's3://sagemaker-us-east-2-057716757052/sagemaker-scikit-learn-2020-07-31-07-19-19-437/output/bert-train', 'S3DataDistributionType': 'ShardedByS3Key'}}}\n",
      "{'DataSource': {'S3DataSource': {'S3DataType': 'S3Prefix', 'S3Uri': 's3://sagemaker-us-east-2-057716757052/sagemaker-scikit-learn-2020-07-31-07-19-19-437/output/bert-validation', 'S3DataDistributionType': 'ShardedByS3Key'}}}\n",
      "{'DataSource': {'S3DataSource': {'S3DataType': 'S3Prefix', 'S3Uri': 's3://sagemaker-us-east-2-057716757052/sagemaker-scikit-learn-2020-07-31-07-19-19-437/output/bert-test', 'S3DataDistributionType': 'ShardedByS3Key'}}}\n"
     ]
    }
   ],
   "source": [
    "s3_input_train_data = sagemaker.s3_input(s3_data=processed_train_data_s3_uri, \n",
    "                                         distribution='ShardedByS3Key') \n",
    "s3_input_validation_data = sagemaker.s3_input(s3_data=processed_validation_data_s3_uri, \n",
    "                                              distribution='ShardedByS3Key')\n",
    "s3_input_test_data = sagemaker.s3_input(s3_data=processed_test_data_s3_uri, \n",
    "                                        distribution='ShardedByS3Key')\n",
    "\n",
    "print(s3_input_train_data.config)\n",
    "print(s3_input_validation_data.config)\n",
    "print(s3_input_test_data.config)"
   ]
  },
  {
   "cell_type": "code",
   "execution_count": 4,
   "metadata": {},
   "outputs": [
    {
     "name": "stdout",
     "output_type": "stream",
     "text": [
      "s3://sagemaker-us-east-2-057716757052/checkpoints/f8ded034-8ba0-47a2-8b3c-765222f0e3e5/\n"
     ]
    }
   ],
   "source": [
    "import uuid\n",
    "\n",
    "checkpoint_s3_prefix = 'checkpoints/{}'.format(str(uuid.uuid4()))\n",
    "checkpoint_s3_uri = 's3://{}/{}/'.format(bucket, checkpoint_s3_prefix)\n",
    "\n",
    "print(checkpoint_s3_uri)"
   ]
  },
  {
   "cell_type": "code",
   "execution_count": 5,
   "metadata": {},
   "outputs": [],
   "source": [
    "metrics_definitions = [\n",
    "     {'Name': 'train:loss', 'Regex': 'loss: ([0-9\\\\.]+)'},\n",
    "     {'Name': 'train:accuracy', 'Regex': 'accuracy: ([0-9\\\\.]+)'},\n",
    "     {'Name': 'validation:loss', 'Regex': 'val_loss: ([0-9\\\\.]+)'},\n",
    "     {'Name': 'validation:accuracy', 'Regex': 'val_accuracy: ([0-9\\\\.]+)'},\n",
    "]\n",
    "# Name':'test:loss', 'Regex':'Test Average loss: (.*?),'},\n",
    "#                             {'Name':'test:accuracy', 'Regex':'Test Accuracy: (.*?)%;'}"
   ]
  },
  {
   "cell_type": "markdown",
   "metadata": {},
   "source": [
    "## Parameters"
   ]
  },
  {
   "cell_type": "code",
   "execution_count": 6,
   "metadata": {},
   "outputs": [],
   "source": [
    "\n",
    "MAX_SEQ_LENGTH= 32\n",
    "\n",
    "\n",
    "epochs= 20\n",
    "max_seq_length = 32\n",
    "learning_rate= 1e-5\n",
    "epsilon=0.00000001\n",
    "\n",
    "train_batch_size=128\n",
    "validation_batch_size=128\n",
    "test_batch_size=128\n",
    "\n",
    "train_steps_per_epoch= 100\n",
    "\n",
    "validation_steps= 50\n",
    "test_steps= 5\n",
    "\n",
    "train_instance_count=2 # modified by gonsoo\n",
    "train_instance_type='ml.p3.2xlarge'\n",
    "train_volume_size=1024\n",
    "\n",
    "use_xla=True\n",
    "use_amp=True\n",
    "\n",
    "freeze_bert_layer=False\n",
    "\n",
    "enable_checkpointing=True\n",
    "input_mode='Pipe'\n",
    "run_validation=True\n",
    "run_test=True"
   ]
  },
  {
   "cell_type": "code",
   "execution_count": 7,
   "metadata": {},
   "outputs": [],
   "source": [
    "from sagemaker.tensorflow import TensorFlow\n",
    "\n",
    "estimator = TensorFlow(\n",
    "                       entry_point='tf_script_bert_tweet.py', \n",
    "#                       source_dir='src', # put requirements.txt in this directory and it gets picked up\n",
    "                       role=sagemaker.get_execution_role(),\n",
    "                       train_instance_count=train_instance_count, # Make sure you have at least this number of input files or the ShardedByS3Key distibution strategy will fail the job due to no data available\n",
    "                       train_instance_type=train_instance_type,\n",
    "                       train_volume_size=train_volume_size,\n",
    "                       checkpoint_s3_uri=checkpoint_s3_uri, # Not support in local mode\n",
    "                       py_version='py3',\n",
    "                       framework_version='2.1.0',\n",
    "                       script_mode = True,\n",
    "                       hyperparameters={'epochs': epochs,\n",
    "                                        'learning_rate': learning_rate,\n",
    "                                        'epsilon': epsilon,\n",
    "                                        'train_batch_size': train_batch_size,\n",
    "                                        'validation_batch_size': validation_batch_size,\n",
    "                                        'test_batch_size': test_batch_size,                                             \n",
    "                                        'train_steps_per_epoch': train_steps_per_epoch,\n",
    "                                        'run_validation' : run_validation,\n",
    "                                        'validation_steps': validation_steps,\n",
    "                                        'test_steps': test_steps,\n",
    "                                        'use_xla': use_xla,\n",
    "                                        'use_amp': use_amp,                                             \n",
    "                                        'max_seq_length': max_seq_length,\n",
    "                                        'freeze_bert_layer': freeze_bert_layer,\n",
    "                                        'enable_checkpointing': enable_checkpointing\n",
    "                                        },\n",
    "                       input_mode=input_mode,\n",
    "                       metric_definitions=metrics_definitions\n",
    "                      )"
   ]
  },
  {
   "cell_type": "code",
   "execution_count": 8,
   "metadata": {},
   "outputs": [
    {
     "name": "stderr",
     "output_type": "stream",
     "text": [
      "'create_image_uri' will be deprecated in favor of 'ImageURIProvider' class in SageMaker Python SDK v2.\n",
      "'create_image_uri' will be deprecated in favor of 'ImageURIProvider' class in SageMaker Python SDK v2.\n"
     ]
    }
   ],
   "source": [
    "inputs={'train': s3_input_train_data, \n",
    "        'validation': s3_input_validation_data,\n",
    "         'test': s3_input_test_data\n",
    "              }\n",
    "estimator.fit(inputs,\n",
    "              wait=False)         "
   ]
  },
  {
   "cell_type": "markdown",
   "metadata": {},
   "source": [
    "## Train Job Status 확인"
   ]
  },
  {
   "cell_type": "code",
   "execution_count": 9,
   "metadata": {},
   "outputs": [
    {
     "data": {
      "text/plain": [
       "{'TrainingJobName': 'tensorflow-training-2020-07-31-08-16-07-141',\n",
       " 'TrainingJobArn': 'arn:aws:sagemaker:us-east-2:057716757052:training-job/tensorflow-training-2020-07-31-08-16-07-141',\n",
       " 'TrainingJobStatus': 'InProgress',\n",
       " 'SecondaryStatus': 'Starting',\n",
       " 'HyperParameters': {'enable_checkpointing': 'true',\n",
       "  'epochs': '20',\n",
       "  'epsilon': '1e-08',\n",
       "  'freeze_bert_layer': 'false',\n",
       "  'learning_rate': '1e-05',\n",
       "  'max_seq_length': '32',\n",
       "  'model_dir': '\"s3://sagemaker-us-east-2-057716757052/tensorflow-training-2020-07-31-08-16-07-141/model\"',\n",
       "  'run_validation': 'true',\n",
       "  'sagemaker_container_log_level': '20',\n",
       "  'sagemaker_enable_cloudwatch_metrics': 'false',\n",
       "  'sagemaker_job_name': '\"tensorflow-training-2020-07-31-08-16-07-141\"',\n",
       "  'sagemaker_program': '\"tf_script_bert_tweet.py\"',\n",
       "  'sagemaker_region': '\"us-east-2\"',\n",
       "  'sagemaker_submit_directory': '\"s3://sagemaker-us-east-2-057716757052/tensorflow-training-2020-07-31-08-16-07-141/source/sourcedir.tar.gz\"',\n",
       "  'test_batch_size': '128',\n",
       "  'test_steps': '5',\n",
       "  'train_batch_size': '128',\n",
       "  'train_steps_per_epoch': '100',\n",
       "  'use_amp': 'true',\n",
       "  'use_xla': 'true',\n",
       "  'validation_batch_size': '128',\n",
       "  'validation_steps': '50'},\n",
       " 'AlgorithmSpecification': {'TrainingImage': '763104351884.dkr.ecr.us-east-2.amazonaws.com/tensorflow-training:2.1.0-gpu-py3',\n",
       "  'TrainingInputMode': 'Pipe',\n",
       "  'MetricDefinitions': [{'Name': 'train:loss', 'Regex': 'loss: ([0-9\\\\.]+)'},\n",
       "   {'Name': 'train:accuracy', 'Regex': 'accuracy: ([0-9\\\\.]+)'},\n",
       "   {'Name': 'validation:loss', 'Regex': 'val_loss: ([0-9\\\\.]+)'},\n",
       "   {'Name': 'validation:accuracy', 'Regex': 'val_accuracy: ([0-9\\\\.]+)'}],\n",
       "  'EnableSageMakerMetricsTimeSeries': True},\n",
       " 'RoleArn': 'arn:aws:iam::057716757052:role/service-role/AmazonSageMaker-ExecutionRole-20191128T110038',\n",
       " 'InputDataConfig': [{'ChannelName': 'train',\n",
       "   'DataSource': {'S3DataSource': {'S3DataType': 'S3Prefix',\n",
       "     'S3Uri': 's3://sagemaker-us-east-2-057716757052/sagemaker-scikit-learn-2020-07-31-07-19-19-437/output/bert-train',\n",
       "     'S3DataDistributionType': 'ShardedByS3Key'}},\n",
       "   'CompressionType': 'None',\n",
       "   'RecordWrapperType': 'None'},\n",
       "  {'ChannelName': 'validation',\n",
       "   'DataSource': {'S3DataSource': {'S3DataType': 'S3Prefix',\n",
       "     'S3Uri': 's3://sagemaker-us-east-2-057716757052/sagemaker-scikit-learn-2020-07-31-07-19-19-437/output/bert-validation',\n",
       "     'S3DataDistributionType': 'ShardedByS3Key'}},\n",
       "   'CompressionType': 'None',\n",
       "   'RecordWrapperType': 'None'},\n",
       "  {'ChannelName': 'test',\n",
       "   'DataSource': {'S3DataSource': {'S3DataType': 'S3Prefix',\n",
       "     'S3Uri': 's3://sagemaker-us-east-2-057716757052/sagemaker-scikit-learn-2020-07-31-07-19-19-437/output/bert-test',\n",
       "     'S3DataDistributionType': 'ShardedByS3Key'}},\n",
       "   'CompressionType': 'None',\n",
       "   'RecordWrapperType': 'None'}],\n",
       " 'OutputDataConfig': {'KmsKeyId': '',\n",
       "  'S3OutputPath': 's3://sagemaker-us-east-2-057716757052/'},\n",
       " 'ResourceConfig': {'InstanceType': 'ml.p3.2xlarge',\n",
       "  'InstanceCount': 2,\n",
       "  'VolumeSizeInGB': 1024},\n",
       " 'StoppingCondition': {'MaxRuntimeInSeconds': 86400},\n",
       " 'CreationTime': datetime.datetime(2020, 7, 31, 8, 16, 7, 530000, tzinfo=tzlocal()),\n",
       " 'LastModifiedTime': datetime.datetime(2020, 7, 31, 8, 16, 7, 530000, tzinfo=tzlocal()),\n",
       " 'SecondaryStatusTransitions': [{'Status': 'Starting',\n",
       "   'StartTime': datetime.datetime(2020, 7, 31, 8, 16, 7, 530000, tzinfo=tzlocal()),\n",
       "   'StatusMessage': 'Starting the training job'}],\n",
       " 'EnableNetworkIsolation': False,\n",
       " 'EnableInterContainerTrafficEncryption': False,\n",
       " 'EnableManagedSpotTraining': False,\n",
       " 'CheckpointConfig': {'S3Uri': 's3://sagemaker-us-east-2-057716757052/checkpoints/f8ded034-8ba0-47a2-8b3c-765222f0e3e5/'},\n",
       " 'DebugHookConfig': {'S3OutputPath': 's3://sagemaker-us-east-2-057716757052/',\n",
       "  'CollectionConfigurations': []},\n",
       " 'ResponseMetadata': {'RequestId': '5733c2ae-842a-45bb-b3bd-0e62e08fdd66',\n",
       "  'HTTPStatusCode': 200,\n",
       "  'HTTPHeaders': {'x-amzn-requestid': '5733c2ae-842a-45bb-b3bd-0e62e08fdd66',\n",
       "   'content-type': 'application/x-amz-json-1.1',\n",
       "   'content-length': '3328',\n",
       "   'date': 'Fri, 31 Jul 2020 08:16:06 GMT'},\n",
       "  'RetryAttempts': 0}}"
      ]
     },
     "execution_count": 9,
     "metadata": {},
     "output_type": "execute_result"
    }
   ],
   "source": [
    "estimator.latest_training_job.describe()"
   ]
  },
  {
   "cell_type": "markdown",
   "metadata": {},
   "source": [
    "## 학습이 완료 될 때까지 기다림"
   ]
  },
  {
   "cell_type": "code",
   "execution_count": 10,
   "metadata": {},
   "outputs": [
    {
     "name": "stdout",
     "output_type": "stream",
     "text": [
      "\n",
      "2020-07-31 08:16:07 Starting - Starting the training job\n",
      "2020-07-31 08:16:09 Starting - Launching requested ML instances............\n",
      "2020-07-31 08:17:13 Starting - Preparing the instances for training...........\n",
      "2020-07-31 08:18:16 Downloading - Downloading input data..\n",
      "2020-07-31 08:18:28 Training - Downloading the training image...............\n",
      "2020-07-31 08:19:49 Training - Training image download completed. Training in progress..................................................................................\n",
      "2020-07-31 08:26:41 Uploading - Uploading generated training model........................\n",
      "2020-07-31 08:28:47 Completed - Training job completed\n"
     ]
    }
   ],
   "source": [
    "estimator.latest_training_job.wait(logs=False)"
   ]
  },
  {
   "cell_type": "markdown",
   "metadata": {},
   "source": [
    "## 생성된 모델 아티펙트 확인"
   ]
  },
  {
   "cell_type": "code",
   "execution_count": 11,
   "metadata": {},
   "outputs": [],
   "source": [
    "training_job_name = estimator.latest_training_job.job_name"
   ]
  },
  {
   "cell_type": "code",
   "execution_count": 12,
   "metadata": {},
   "outputs": [],
   "source": [
    "model_artifact_path = \"s3://{}/{}/{}\".format(bucket,training_job_name,'output' )"
   ]
  },
  {
   "cell_type": "code",
   "execution_count": 13,
   "metadata": {},
   "outputs": [
    {
     "name": "stdout",
     "output_type": "stream",
     "text": [
      "2020-07-31 08:28:37  989714162 tensorflow-training-2020-07-31-08-16-07-141/output/model.tar.gz\n"
     ]
    }
   ],
   "source": [
    "! aws s3 ls {model_artifact_path} --recursive"
   ]
  },
  {
   "cell_type": "code",
   "execution_count": 14,
   "metadata": {},
   "outputs": [
    {
     "name": "stdout",
     "output_type": "stream",
     "text": [
      "Stored 'training_job_name' (str)\n"
     ]
    }
   ],
   "source": [
    "%store training_job_name"
   ]
  },
  {
   "cell_type": "code",
   "execution_count": null,
   "metadata": {},
   "outputs": [],
   "source": []
  }
 ],
 "metadata": {
  "kernelspec": {
   "display_name": "conda_python3",
   "language": "python",
   "name": "conda_python3"
  },
  "language_info": {
   "codemirror_mode": {
    "name": "ipython",
    "version": 3
   },
   "file_extension": ".py",
   "mimetype": "text/x-python",
   "name": "python",
   "nbconvert_exporter": "python",
   "pygments_lexer": "ipython3",
   "version": "3.6.10"
  }
 },
 "nbformat": 4,
 "nbformat_minor": 4
}
