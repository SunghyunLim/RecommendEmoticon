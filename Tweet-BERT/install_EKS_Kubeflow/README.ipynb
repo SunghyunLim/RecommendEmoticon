{
 "cells": [
  {
   "cell_type": "markdown",
   "metadata": {},
   "source": [
    "\n",
    "# Kubeflow Pipeline에서 SageMaker Components 사용하기 \n",
    "\n",
    "\n",
    "## (1) SageMkaer Notebook 생성 \n",
    "\n",
    "참고: 0.0.Prerequisite 노트북과 동일\n",
    "\n",
    "\n",
    "**현재 이 노트북을 열고 있는 SageMaker가 아래 처럼 네트워크와 보안 그룹이 설정이 안되어 있다고 하면\n",
    "SageMaker 노트북을 아래와 같이 설정하여 노트북 인스턴스를 하나 더 생성 하세요.**\n",
    "\n",
    "**SageMaker Notebook을 생성할시에 아래와 같이 네트워크 및 보안 그룹 설정이 꼭 필요합니다.**\n",
    "\n",
    "![sagemaker_notebook_network_setting](img/sagemaker_notebook_network_setting.png)\n",
    "\n",
    "아래는 \"Data Science on AWS\" 워크샵의 Git 리파지토리 입니다. \n",
    "여기서는 세이지 메이커 노트북 생성 부분만 참고 하시면 됩니다.<br>\n",
    "여기 --> [Data Science on AWS](https://github.com/data-science-on-aws/workshop)\n",
    "\n",
    "\n",
    "## (2) SageMkaer Notebook 생성한 Role에 권한 할당 \n",
    "\n",
    "참고: 0.0.Prerequisite 노트북과 동일\n",
    "\n",
    "아래와 같이 권한을 추가 해주세요. 만일 Admin 혹은 Teamrole 같은 관리자 권한이라고 하면 아래 과정을 스킵 하셔도 됩니다.\n",
    "![SageMakerRolePermissions](img/sagemaker_role_permissions.png)\n",
    "\n",
    "## (3) EKS (Elastic Kubernetics Service) 및 Kubeflow 설치\n",
    "\n",
    "아래와 같이 노트북 00_00 ~ 00_05 까지 실행 해주세요\n",
    "![Fig.0.0.install-guide-eks-kubeflow](img/Fig.0.0.install-guide-eks-kubeflow.png)\n",
    "        \n",
    "        \n",
    "## (4) Kubeflow Dashboard 접근 및 Kubeflow 노트북 서버 설치\n",
    "\n",
    "'00_05_Launch_Kubeflow_Jupyter_Notebook.ipynb' 노트북안의 셀 중에 Kubeflow Dashboard에 접근할 수 있는 URL을 얻습니다. 이후는 노트북의 가이드를 따라 가주세요.\n",
    "![Fig.0.0.Retrieve-Kubeflow-Dashboard-URL](img/Fig.0.0.Retrieve-Kubeflow-Dashboard-URL.png)\n",
    "\n",
    "\n",
    "## (5) Kubeflow 노트북 서버에서 Git 리파지토리 다운로드\n",
    "\n",
    "이후에 아래의 리파지토리를 다운로드 받아 사용하세요**\n",
    "```\n",
    "git clone https://github.com/gonsoomoon-ml/RecommendEmoticon\n",
    "```\n",
    "\n",
    "![Fig.0.0.Git-Repository](img/Fig.0.0.Git-Repository.png)\n",
    "\n",
    "## (6) Kubeflow 노트북 서버에서 Git 리파티지토의의 노트북 실행\n",
    "\n",
    "![Fig.0.0.Run-NotebookKubeflow.png](img/Fig.0.0.Run-Notebook-Kubeflow.png)\n",
    "## (7) SageMaker Notebook에서 노트북 실행\n",
    "\n",
    "![Fig.0.0.Make-Inference-Sagemaker-Endpoint](img/Fig.0.0.Make-Inference-Sagemaker-Endpoint.png)"
   ]
  },
  {
   "cell_type": "markdown",
   "metadata": {},
   "source": [
    "---\n",
    "Reference\n",
    "- Chris Fregly, Antje Barth, Book, Data Science on AWS, https://www.oreilly.com/library/view/data-science-on/9781492079385/\n",
    "    - Source: Data Science on Amazon Web Services\n",
    "        - https://github.com/data-science-on-aws/workshop\n"
   ]
  },
  {
   "cell_type": "code",
   "execution_count": null,
   "metadata": {},
   "outputs": [],
   "source": []
  }
 ],
 "metadata": {
  "kernelspec": {
   "display_name": "conda_python3",
   "language": "python",
   "name": "conda_python3"
  },
  "language_info": {
   "codemirror_mode": {
    "name": "ipython",
    "version": 3
   },
   "file_extension": ".py",
   "mimetype": "text/x-python",
   "name": "python",
   "nbconvert_exporter": "python",
   "pygments_lexer": "ipython3",
   "version": "3.6.10"
  }
 },
 "nbformat": 4,
 "nbformat_minor": 4
}
