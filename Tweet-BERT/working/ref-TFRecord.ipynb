{
 "cells": [
  {
   "cell_type": "markdown",
   "metadata": {},
   "source": [
    "\n",
    "Practical Coding in TensorFlow 2.0\n",
    "- https://towardsdatascience.com/practical-coding-in-tensorflow-2-0-fafd2d3863f6"
   ]
  },
  {
   "cell_type": "code",
   "execution_count": 36,
   "metadata": {},
   "outputs": [
    {
     "data": {
      "text/plain": [
       "'2.1.0'"
      ]
     },
     "execution_count": 36,
     "metadata": {},
     "output_type": "execute_result"
    }
   ],
   "source": [
    "import tensorflow as tf\n",
    "tf.__version__"
   ]
  },
  {
   "cell_type": "markdown",
   "metadata": {},
   "source": [
    "## Datasets in TF2"
   ]
  },
  {
   "cell_type": "code",
   "execution_count": 37,
   "metadata": {},
   "outputs": [
    {
     "name": "stdout",
     "output_type": "stream",
     "text": [
      "(256, 8, 8, 3)\n",
      "<TensorSliceDataset shapes: (8, 8, 3), types: tf.float64>\n"
     ]
    }
   ],
   "source": [
    "import numpy as np\n",
    "np.random.seed(0)\n",
    "\n",
    "data = np.random.randn(256, 8, 8, 3)\n",
    "print(data.shape)\n",
    "dataset = tf.data.Dataset.from_tensor_slices(data)\n",
    "print(dataset)"
   ]
  },
  {
   "cell_type": "code",
   "execution_count": 38,
   "metadata": {},
   "outputs": [
    {
     "name": "stdout",
     "output_type": "stream",
     "text": [
      "255 (8, 8, 3)\n"
     ]
    }
   ],
   "source": [
    "for i, batch in enumerate(dataset):\n",
    "    if i == 255 or i == 256:\n",
    "        print(i, batch.shape)"
   ]
  },
  {
   "cell_type": "code",
   "execution_count": 39,
   "metadata": {},
   "outputs": [
    {
     "name": "stdout",
     "output_type": "stream",
     "text": [
      "tf.Tensor(255, shape=(), dtype=int64) (8, 8, 3)\n",
      "255 (8, 8, 3)\n"
     ]
    }
   ],
   "source": [
    "for i, batch in dataset.enumerate():\n",
    "    if i == 255 or i == 256:\n",
    "        print(i, batch.shape)\n",
    "        print(i.numpy(), batch.shape)"
   ]
  },
  {
   "cell_type": "code",
   "execution_count": 40,
   "metadata": {},
   "outputs": [
    {
     "name": "stdout",
     "output_type": "stream",
     "text": [
      "255 (8, 8, 3)\n",
      "256 (8, 8, 3)\n"
     ]
    }
   ],
   "source": [
    "for i, batch in dataset.repeat(3).enumerate():\n",
    "    if i == 255 or i == 256:\n",
    "        print(i.numpy(), batch.shape)"
   ]
  },
  {
   "cell_type": "code",
   "execution_count": 41,
   "metadata": {},
   "outputs": [
    {
     "name": "stdout",
     "output_type": "stream",
     "text": [
      "255 (8, 8, 3)\n",
      "256 (8, 8, 3)\n"
     ]
    }
   ],
   "source": [
    "for i, batch in dataset.repeat(3).enumerate():\n",
    "    if i == 255 or i == 256:\n",
    "        print(i.numpy(), batch.shape)"
   ]
  },
  {
   "cell_type": "code",
   "execution_count": 42,
   "metadata": {},
   "outputs": [],
   "source": [
    "# for i, batch in dataset.repeat().enumerate():\n",
    "#     if i == 255 or i == 256:\n",
    "#         print(i.numpy(), batch.shape)"
   ]
  },
  {
   "cell_type": "code",
   "execution_count": 43,
   "metadata": {},
   "outputs": [
    {
     "name": "stdout",
     "output_type": "stream",
     "text": [
      "(8, 8, 3)\n",
      "(8, 8, 3)\n",
      "(8, 8, 3)\n"
     ]
    }
   ],
   "source": [
    "for batch in dataset.take(3):\n",
    "    print(batch.shape)\n"
   ]
  },
  {
   "cell_type": "code",
   "execution_count": 44,
   "metadata": {},
   "outputs": [
    {
     "name": "stdout",
     "output_type": "stream",
     "text": [
      "(16, 8, 8, 3)\n",
      "(16, 8, 8, 3)\n",
      "(16, 8, 8, 3)\n"
     ]
    }
   ],
   "source": [
    "dataset = dataset.batch(16)\n",
    "\n",
    "for batch in dataset.take(3):\n",
    "    print(batch.shape)"
   ]
  },
  {
   "cell_type": "code",
   "execution_count": 45,
   "metadata": {},
   "outputs": [
    {
     "name": "stdout",
     "output_type": "stream",
     "text": [
      "tf.Tensor([0 1 2 3 4], shape=(5,), dtype=int64)\n",
      "tf.Tensor([5 6 7 8 9], shape=(5,), dtype=int64)\n",
      "tf.Tensor([10 11 12 13 14], shape=(5,), dtype=int64)\n",
      "tf.Tensor([15 16 17 18], shape=(4,), dtype=int64)\n"
     ]
    }
   ],
   "source": [
    "dataset = tf.data.Dataset.from_tensor_slices(np.arange(19))\n",
    "\n",
    "for batch in dataset.batch(5):\n",
    "    print(batch)"
   ]
  },
  {
   "cell_type": "code",
   "execution_count": 46,
   "metadata": {},
   "outputs": [
    {
     "name": "stdout",
     "output_type": "stream",
     "text": [
      "tf.Tensor([4 2 0 1 7], shape=(5,), dtype=int64)\n",
      "tf.Tensor([ 9  3 11 10  6], shape=(5,), dtype=int64)\n",
      "tf.Tensor([ 8 13 14 12 15], shape=(5,), dtype=int64)\n",
      "tf.Tensor([17 18 16  5], shape=(4,), dtype=int64)\n"
     ]
    }
   ],
   "source": [
    "for batch in dataset.shuffle(5).batch(5):\n",
    "    print(batch)"
   ]
  },
  {
   "cell_type": "code",
   "execution_count": 47,
   "metadata": {},
   "outputs": [
    {
     "name": "stdout",
     "output_type": "stream",
     "text": [
      "tf.Tensor([0 1 2 3 4], shape=(5,), dtype=int64)\n",
      "tf.Tensor([5 6 7 8 9], shape=(5,), dtype=int64)\n",
      "tf.Tensor([10 11 12 13 14], shape=(5,), dtype=int64)\n",
      "tf.Tensor([15 16 17 18], shape=(4,), dtype=int64)\n"
     ]
    }
   ],
   "source": [
    "for batch in dataset.batch(5).shuffle(5):\n",
    "    print(batch)"
   ]
  },
  {
   "cell_type": "code",
   "execution_count": 48,
   "metadata": {},
   "outputs": [
    {
     "name": "stdout",
     "output_type": "stream",
     "text": [
      "tf.Tensor([0 5 4 2 3], shape=(5,), dtype=int64)\n",
      "tf.Tensor([ 6  8 11  9 13], shape=(5,), dtype=int64)\n",
      "tf.Tensor([12  7  1 15 16], shape=(5,), dtype=int64)\n",
      "tf.Tensor([17 18 10 14], shape=(4,), dtype=int64)\n",
      "tf.Tensor([ 1  2 -1  3 -2], shape=(5,), dtype=int64)\n",
      "tf.Tensor([-4  3  4  1  0], shape=(5,), dtype=int64)\n",
      "tf.Tensor([ 0 -3 -1  3  4], shape=(5,), dtype=int64)\n",
      "tf.Tensor([ 0  3  4 -4], shape=(4,), dtype=int64)\n"
     ]
    }
   ],
   "source": [
    "def transform(data):\n",
    "    mean = tf.reduce_mean(data)\n",
    "    return  data - mean\n",
    "\n",
    "for batch in dataset.shuffle(5).batch(5):\n",
    "    print(batch)\n",
    "\n",
    "for batch in dataset.shuffle(5).batch(5).map(transform):\n",
    "    print(batch)"
   ]
  },
  {
   "cell_type": "code",
   "execution_count": 49,
   "metadata": {},
   "outputs": [
    {
     "name": "stdout",
     "output_type": "stream",
     "text": [
      "tf.Tensor([0], shape=(1,), dtype=int64)\n",
      "tf.Tensor([1], shape=(1,), dtype=int64)\n",
      "tf.Tensor([2], shape=(1,), dtype=int64)\n",
      "tf.Tensor([3], shape=(1,), dtype=int64)\n",
      "tf.Tensor([4], shape=(1,), dtype=int64)\n",
      "tf.Tensor([5], shape=(1,), dtype=int64)\n",
      "tf.Tensor([6], shape=(1,), dtype=int64)\n",
      "tf.Tensor([7], shape=(1,), dtype=int64)\n",
      "tf.Tensor([8], shape=(1,), dtype=int64)\n",
      "tf.Tensor([9], shape=(1,), dtype=int64)\n",
      "tf.Tensor([10], shape=(1,), dtype=int64)\n",
      "tf.Tensor([11], shape=(1,), dtype=int64)\n",
      "tf.Tensor([12], shape=(1,), dtype=int64)\n",
      "tf.Tensor([13], shape=(1,), dtype=int64)\n",
      "tf.Tensor([14], shape=(1,), dtype=int64)\n",
      "tf.Tensor([15], shape=(1,), dtype=int64)\n",
      "tf.Tensor([16], shape=(1,), dtype=int64)\n",
      "tf.Tensor([17], shape=(1,), dtype=int64)\n",
      "tf.Tensor([18], shape=(1,), dtype=int64)\n"
     ]
    }
   ],
   "source": [
    "for batch in dataset.batch(1):\n",
    "    print(batch)\n"
   ]
  },
  {
   "cell_type": "code",
   "execution_count": 50,
   "metadata": {},
   "outputs": [
    {
     "data": {
      "text/plain": [
       "<PrefetchDataset shapes: (None,), types: tf.int64>"
      ]
     },
     "execution_count": 50,
     "metadata": {},
     "output_type": "execute_result"
    }
   ],
   "source": [
    "dataset.shuffle(5).batch(5).prefetch(buffer_size= tf.data.experimental.AUTOTUNE)"
   ]
  },
  {
   "cell_type": "markdown",
   "metadata": {},
   "source": [
    "## Making TFRecord file for images"
   ]
  },
  {
   "cell_type": "code",
   "execution_count": 51,
   "metadata": {},
   "outputs": [
    {
     "name": "stdout",
     "output_type": "stream",
     "text": [
      "test\n"
     ]
    }
   ],
   "source": [
    "print(\"test\")"
   ]
  },
  {
   "cell_type": "code",
   "execution_count": 59,
   "metadata": {},
   "outputs": [],
   "source": [
    "imgs = (np.random.randn(256, 8, 8, 3) * 255).astype(np.uint8)\n",
    "acts = np.random.randn(256, 4).astype(np.float32)"
   ]
  },
  {
   "cell_type": "code",
   "execution_count": 71,
   "metadata": {},
   "outputs": [
    {
     "name": "stdout",
     "output_type": "stream",
     "text": [
      "imgs:  (256, 8, 8, 3)\n",
      "acts:  (256, 4)\n"
     ]
    }
   ],
   "source": [
    "print(\"imgs: \", imgs.shape)\n",
    "print(\"acts: \", acts.shape)"
   ]
  },
  {
   "cell_type": "code",
   "execution_count": 61,
   "metadata": {},
   "outputs": [],
   "source": [
    "def _bytes_feature(value):\n",
    "  \n",
    "    if isinstance(value, type(tf.constant(0))):\n",
    "        value = value.numpy()\n",
    "    return tf.train.Feature(bytes_list=tf.train.BytesList(value=[value]))"
   ]
  },
  {
   "cell_type": "code",
   "execution_count": 62,
   "metadata": {},
   "outputs": [],
   "source": [
    "def serialize_example(image, action):\n",
    "    image = tf.image.encode_png(image)\n",
    "    feature = {\n",
    "        'image': _bytes_feature(image),\n",
    "        'action' : _bytes_feature(tf.io.serialize_tensor(action)),\n",
    "    }\n",
    "    return tf.train.Example(features=tf.train.Features(feature=feature)).SerializeToString()"
   ]
  },
  {
   "cell_type": "code",
   "execution_count": 64,
   "metadata": {},
   "outputs": [],
   "source": [
    "with tf.io.TFRecordWriter('test.tfrecord') as writer:\n",
    "    for xi, ai in zip(imgs, acts):\n",
    "        example = serialize_example(xi, ai)\n",
    "        writer.write(example)"
   ]
  },
  {
   "cell_type": "markdown",
   "metadata": {},
   "source": [
    "## Read TFRecord File"
   ]
  },
  {
   "cell_type": "code",
   "execution_count": 68,
   "metadata": {},
   "outputs": [],
   "source": [
    "def parse_image_function (example_proto):\n",
    "    image_feature_description = {\n",
    "        'image': tf.io.FixedLenFeature([], tf.string),\n",
    "        'action' : tf.io.FixedLenFeature([], tf.string),\n",
    "    }\n",
    "    \n",
    "    return tf.io.parse_single_example(example_proto, image_feature_description)\n",
    "\n",
    "def decode_image_function(record):\n",
    "    record['image'] = tf.cast(tf.image.decode_image(record['image']), tf.float32) / 255.\n",
    "    record['action'] = tf.io.parse_tensor(record['action'], out_type=tf.float32)\n",
    "    return record['image'], record['action']"
   ]
  },
  {
   "cell_type": "code",
   "execution_count": 74,
   "metadata": {},
   "outputs": [],
   "source": [
    "dataset = tf.data.TFRecordDataset('test.tfrecord')\n",
    "dataset = dataset.map(parse_image_function, num_parallel_calls=tf.data.experimental.AUTOTUNE)\n",
    "dataset = dataset.map(decode_image_function, num_parallel_calls=tf.data.experimental.AUTOTUNE)\n"
   ]
  },
  {
   "cell_type": "code",
   "execution_count": 76,
   "metadata": {},
   "outputs": [
    {
     "name": "stdout",
     "output_type": "stream",
     "text": [
      "(64, 8, 8, 3) (64, 4)\n",
      "(64, 8, 8, 3) (64, 4)\n",
      "(64, 8, 8, 3) (64, 4)\n",
      "(64, 8, 8, 3) (64, 4)\n"
     ]
    }
   ],
   "source": [
    "for img, act in dataset.batch(64):\n",
    "    print(img.shape, act.shape)"
   ]
  },
  {
   "cell_type": "code",
   "execution_count": 73,
   "metadata": {},
   "outputs": [
    {
     "name": "stdout",
     "output_type": "stream",
     "text": [
      "(16, 8, 8, 3) (16, 4)\n",
      "(16, 8, 8, 3) (16, 4)\n",
      "(16, 8, 8, 3) (16, 4)\n"
     ]
    }
   ],
   "source": [
    "for img, act in dataset.batch(16).take(3):\n",
    "    print(img.shape, act.shape)"
   ]
  },
  {
   "cell_type": "code",
   "execution_count": null,
   "metadata": {},
   "outputs": [],
   "source": []
  }
 ],
 "metadata": {
  "kernelspec": {
   "display_name": "conda_tensorflow2_p36",
   "language": "python",
   "name": "conda_tensorflow2_p36"
  },
  "language_info": {
   "codemirror_mode": {
    "name": "ipython",
    "version": 3
   },
   "file_extension": ".py",
   "mimetype": "text/x-python",
   "name": "python",
   "nbconvert_exporter": "python",
   "pygments_lexer": "ipython3",
   "version": "3.6.10"
  }
 },
 "nbformat": 4,
 "nbformat_minor": 4
}
