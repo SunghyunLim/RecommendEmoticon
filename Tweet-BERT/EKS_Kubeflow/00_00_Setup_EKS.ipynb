{
 "cells": [
  {
   "cell_type": "markdown",
   "metadata": {},
   "source": [
    "## EKS and Kubeflow 설정"
   ]
  },
  {
   "cell_type": "markdown",
   "metadata": {},
   "source": [
    "### SageMaker Notebook Instance Role의 권한"
   ]
  },
  {
   "cell_type": "markdown",
   "metadata": {},
   "source": [
    "![SageMakerRolePermissions](img/sagemaker_role_permissions.png)"
   ]
  },
  {
   "cell_type": "code",
   "execution_count": 1,
   "metadata": {},
   "outputs": [
    {
     "name": "stdout",
     "output_type": "stream",
     "text": [
      "Python Version 3.6.10 |Anaconda, Inc.| (default, Mar 25 2020, 23:51:54) \n",
      "[GCC 7.3.0]\n"
     ]
    }
   ],
   "source": [
    "import sys\n",
    "print('Python Version %s' % sys.version)"
   ]
  },
  {
   "cell_type": "code",
   "execution_count": 2,
   "metadata": {},
   "outputs": [],
   "source": [
    "# !pip list"
   ]
  },
  {
   "cell_type": "code",
   "execution_count": 3,
   "metadata": {},
   "outputs": [],
   "source": [
    "# %%bash\n",
    "# conda list"
   ]
  },
  {
   "cell_type": "code",
   "execution_count": 4,
   "metadata": {},
   "outputs": [],
   "source": [
    "# %%html\n",
    "\n",
    "# <iframe src=\"https://datascienceonaws.com\" width=\"800px\" height=\"600px\"/>"
   ]
  },
  {
   "cell_type": "markdown",
   "metadata": {},
   "source": [
    "# 1. Install the CLI tools\n",
    "\n",
    "_Note:  Make sure the SageMaker role has access to create EKS Cluster._"
   ]
  },
  {
   "cell_type": "code",
   "execution_count": 5,
   "metadata": {},
   "outputs": [
    {
     "name": "stdout",
     "output_type": "stream",
     "text": [
      "Collecting awscli\n",
      "  Downloading awscli-1.18.110-py2.py3-none-any.whl (3.3 MB)\n",
      "Requirement already satisfied, skipping upgrade: s3transfer<0.4.0,>=0.3.0 in /home/ec2-user/anaconda3/lib/python3.7/site-packages (from awscli) (0.3.3)\n",
      "Collecting botocore==1.17.33\n",
      "  Downloading botocore-1.17.33-py2.py3-none-any.whl (6.5 MB)\n",
      "Requirement already satisfied, skipping upgrade: colorama<0.4.4,>=0.2.5; python_version != \"3.4\" in /home/ec2-user/anaconda3/lib/python3.7/site-packages (from awscli) (0.4.3)\n",
      "Requirement already satisfied, skipping upgrade: PyYAML<5.4,>=3.10; python_version != \"3.4\" in /home/ec2-user/anaconda3/lib/python3.7/site-packages (from awscli) (5.3.1)\n",
      "Requirement already satisfied, skipping upgrade: docutils<0.16,>=0.10 in /home/ec2-user/anaconda3/lib/python3.7/site-packages (from awscli) (0.15.2)\n",
      "Requirement already satisfied, skipping upgrade: rsa<=4.5.0,>=3.1.2; python_version != \"3.4\" in /home/ec2-user/anaconda3/lib/python3.7/site-packages (from awscli) (4.5)\n",
      "Requirement already satisfied, skipping upgrade: python-dateutil<3.0.0,>=2.1 in /home/ec2-user/anaconda3/lib/python3.7/site-packages (from botocore==1.17.33->awscli) (2.8.1)\n",
      "Requirement already satisfied, skipping upgrade: urllib3<1.26,>=1.20; python_version != \"3.4\" in /home/ec2-user/anaconda3/lib/python3.7/site-packages (from botocore==1.17.33->awscli) (1.25.8)\n",
      "Requirement already satisfied, skipping upgrade: jmespath<1.0.0,>=0.7.1 in /home/ec2-user/anaconda3/lib/python3.7/site-packages (from botocore==1.17.33->awscli) (0.9.4)\n",
      "Requirement already satisfied, skipping upgrade: pyasn1>=0.1.3 in /home/ec2-user/anaconda3/lib/python3.7/site-packages (from rsa<=4.5.0,>=3.1.2; python_version != \"3.4\"->awscli) (0.4.8)\n",
      "Requirement already satisfied, skipping upgrade: six>=1.5 in /home/ec2-user/anaconda3/lib/python3.7/site-packages (from python-dateutil<3.0.0,>=2.1->botocore==1.17.33->awscli) (1.14.0)\n",
      "Installing collected packages: botocore, awscli\n",
      "Successfully installed awscli-1.18.110 botocore-1.17.33\n",
      "0.25.0\n",
      "Client Version: v1.15.10-eks-bac369\n",
      "{\"Version\":\"v0.5.0\",\"Commit\":\"1cfe2a90f68381eacd7b6dcfa2bf689e76eb8b4b\"}\n",
      "Loaded plugins: dkms-build-requires, priorities, update-motd, upgrade-helper,\n",
      "              : versionlock\n",
      "Package jq-1.5-1.2.amzn1.x86_64 already installed and latest version\n",
      "Package gettext-0.18.1.1-9.1.11.amzn1.x86_64 already installed and latest version\n",
      "Nothing to do\n",
      "kubectl in path\n",
      "jq in path\n",
      "envsubst in path\n",
      "Completed\n"
     ]
    },
    {
     "name": "stderr",
     "output_type": "stream",
     "text": [
      "WARNING: You are using pip version 20.0.2; however, version 20.2 is available.\n",
      "You should consider upgrading via the '/home/ec2-user/anaconda3/bin/python -m pip install --upgrade pip' command.\n",
      "  % Total    % Received % Xferd  Average Speed   Time    Time     Time  Current\n",
      "                                 Dload  Upload   Total   Spent    Left  Speed\n",
      "100 55.1M  100 55.1M    0     0  9748k      0  0:00:05  0:00:05 --:--:-- 11.3M\n",
      "  % Total    % Received % Xferd  Average Speed   Time    Time     Time  Current\n",
      "                                 Dload  Upload   Total   Spent    Left  Speed\n",
      "100 33.6M  100 33.6M    0     0  8749k      0  0:00:03  0:00:03 --:--:-- 8747k\n"
     ]
    }
   ],
   "source": [
    "%%bash\n",
    "\n",
    "source ~/.bash_profile\n",
    "\n",
    "#### Install `eksctl`\n",
    "# To get started we'll first install the `awscli` and `eksctl` CLI tools. [eksctl](https://eksctl.io) simplifies the process of creating EKS clusters.\n",
    "\n",
    "pip install awscli --upgrade --user\n",
    "\n",
    "curl --silent --location \"https://github.com/weaveworks/eksctl/releases/latest/download/eksctl_$(uname -s)_amd64.tar.gz\" | tar xz -C /tmp\n",
    "\n",
    "sudo mv /tmp/eksctl /usr/local/bin\n",
    "\n",
    "eksctl version\n",
    "\n",
    "#### Install `kubectl`\n",
    "# `kubectl` is a command line interface for running commands against Kubernetes clusters. \n",
    "# Run the following to install Kubectl\n",
    "\n",
    "curl --location -o ./kubectl https://amazon-eks.s3.us-west-2.amazonaws.com/1.15.10/2020-02-22/bin/linux/amd64/kubectl\n",
    "\n",
    "chmod +x ./kubectl\n",
    "\n",
    "sudo mv ./kubectl /usr/local/bin\n",
    "\n",
    "kubectl version --short --client\n",
    "\n",
    "#### Install `aws-iam-authenticator`\n",
    "\n",
    "curl -o aws-iam-authenticator https://amazon-eks.s3.us-west-2.amazonaws.com/1.15.10/2020-02-22/bin/linux/amd64/aws-iam-authenticator\n",
    "\n",
    "chmod +x ./aws-iam-authenticator\n",
    "\n",
    "sudo mv aws-iam-authenticator /usr/local/bin\n",
    "\n",
    "aws-iam-authenticator version\n",
    "\n",
    "#### Install jq and envsubst (from GNU gettext utilities) \n",
    "sudo yum -y install jq gettext\n",
    "\n",
    "#### Verify the binaries are in the path and executable\n",
    "for command in kubectl jq envsubst\n",
    "  do\n",
    "    which $command &>/dev/null && echo \"$command in path\" || echo \"$command NOT FOUND\"\n",
    "  done\n",
    "\n",
    "echo \"Completed\""
   ]
  },
  {
   "cell_type": "markdown",
   "metadata": {},
   "source": [
    "# 2. Configure the Environment Variables"
   ]
  },
  {
   "cell_type": "code",
   "execution_count": 6,
   "metadata": {},
   "outputs": [
    {
     "name": "stdout",
     "output_type": "stream",
     "text": [
      "export AWS_REGION=ap-northeast-2\n",
      "export AWS_CLUSTER_NAME=cluster\n",
      "Completed\n"
     ]
    }
   ],
   "source": [
    "%%bash\n",
    "\n",
    "source ~/.bash_profile\n",
    "\n",
    "export AWS_REGION=$(aws configure get region)\n",
    "echo \"export AWS_REGION=${AWS_REGION}\" | tee -a ~/.bash_profile\n",
    "\n",
    "export AWS_CLUSTER_NAME=cluster\n",
    "echo \"export AWS_CLUSTER_NAME=${AWS_CLUSTER_NAME}\" | tee -a ~/.bash_profile\n",
    "\n",
    "echo \"Completed\""
   ]
  },
  {
   "cell_type": "markdown",
   "metadata": {},
   "source": [
    "# 3. Create the EKS Cluster\n",
    "\n",
    "_Note:  Creating a cluster may take about 15 minutes.  Please be patient._"
   ]
  },
  {
   "cell_type": "code",
   "execution_count": 7,
   "metadata": {},
   "outputs": [],
   "source": [
    "%%bash\n",
    "\n",
    "source ~/.bash_profile\n",
    "\n",
    "cat << EOF > cluster.yaml\n",
    "---\n",
    "apiVersion: eksctl.io/v1alpha5\n",
    "kind: ClusterConfig\n",
    "\n",
    "metadata:\n",
    "  name: ${AWS_CLUSTER_NAME}\n",
    "  region: ${AWS_REGION}\n",
    "\n",
    "cloudWatch:\n",
    "  clusterLogging:\n",
    "    enableTypes: [\"*\"]\n",
    "\n",
    "managedNodeGroups:\n",
    "- name: cpu-nodes\n",
    "  instanceType: c5.xlarge\n",
    "  volumeSize: 100\n",
    "  desiredCapacity: 2\n",
    "  iam:\n",
    "    withAddonPolicies:\n",
    "      albIngress: true\n",
    "\n",
    "#secretsEncryption:\n",
    "#  keyARN: ${MASTER_ARN}\n",
    "EOF"
   ]
  },
  {
   "cell_type": "code",
   "execution_count": 8,
   "metadata": {
    "scrolled": true
   },
   "outputs": [
    {
     "name": "stdout",
     "output_type": "stream",
     "text": [
      "---\n",
      "apiVersion: eksctl.io/v1alpha5\n",
      "kind: ClusterConfig\n",
      "\n",
      "metadata:\n",
      "  name: cluster\n",
      "  region: ap-northeast-2\n",
      "\n",
      "cloudWatch:\n",
      "  clusterLogging:\n",
      "    enableTypes: [\"*\"]\n",
      "\n",
      "managedNodeGroups:\n",
      "- name: cpu-nodes\n",
      "  instanceType: c5.xlarge\n",
      "  volumeSize: 100\n",
      "  desiredCapacity: 2\n",
      "  iam:\n",
      "    withAddonPolicies:\n",
      "      albIngress: true\n",
      "\n",
      "#secretsEncryption:\n",
      "#  keyARN: \n"
     ]
    }
   ],
   "source": [
    "!cat cluster.yaml"
   ]
  },
  {
   "cell_type": "code",
   "execution_count": 10,
   "metadata": {
    "scrolled": true
   },
   "outputs": [
    {
     "name": "stdout",
     "output_type": "stream",
     "text": [
      "[ℹ]  eksctl version 0.25.0\n",
      "[ℹ]  using region ap-northeast-2\n",
      "[!]  retryable error (EC2MetadataError: failed to make EC2Metadata request\n",
      "\tstatus code: 405, request id: \n",
      "caused by: ) from ec2metadata/GetToken - will retry after delay of 44.725214ms\n",
      "[!]  retryable error (EC2MetadataError: failed to make EC2Metadata request\n",
      "\tstatus code: 405, request id: \n",
      "caused by: ) from ec2metadata/GetToken - will retry after delay of 105.564368ms\n",
      "[!]  retryable error (EC2MetadataError: failed to make EC2Metadata request\n",
      "\tstatus code: 405, request id: \n",
      "caused by: ) from ec2metadata/GetToken - will retry after delay of 194.404196ms\n",
      "[!]  retryable error (EC2MetadataError: failed to make EC2Metadata request\n",
      "\tstatus code: 405, request id: \n",
      "caused by: ) from ec2metadata/GetToken - will retry after delay of 307.34848ms\n",
      "[!]  retryable error (EC2MetadataError: failed to make EC2Metadata request\n",
      "\tstatus code: 405, request id: \n",
      "caused by: ) from ec2metadata/GetToken - will retry after delay of 942.646816ms\n",
      "[!]  retryable error (EC2MetadataError: failed to make EC2Metadata request\n",
      "\tstatus code: 405, request id: \n",
      "caused by: ) from ec2metadata/GetToken - will retry after delay of 1.487878528s\n",
      "[!]  retryable error (EC2MetadataError: failed to make EC2Metadata request\n",
      "\tstatus code: 405, request id: \n",
      "caused by: ) from ec2metadata/GetToken - will retry after delay of 3.49838208s\n",
      "[!]  retryable error (EC2MetadataError: failed to make EC2Metadata request\n",
      "\tstatus code: 405, request id: \n",
      "caused by: ) from ec2metadata/GetToken - will retry after delay of 6.4426336s\n",
      "[!]  retryable error (EC2MetadataError: failed to make EC2Metadata request\n",
      "\tstatus code: 405, request id: \n",
      "caused by: ) from ec2metadata/GetToken - will retry after delay of 14.13078144s\n",
      "[!]  retryable error (EC2MetadataError: failed to make EC2Metadata request\n",
      "\tstatus code: 405, request id: \n",
      "caused by: ) from ec2metadata/GetToken - will retry after delay of 23.833365504s\n",
      "[!]  retryable error (EC2MetadataError: failed to make EC2Metadata request\n",
      "\tstatus code: 405, request id: \n",
      "caused by: ) from ec2metadata/GetToken - will retry after delay of 40.163043328s\n",
      "[!]  retryable error (EC2MetadataError: failed to make EC2Metadata request\n",
      "\tstatus code: 405, request id: \n",
      "caused by: ) from ec2metadata/GetToken - will retry after delay of 1m46.739521536s\n",
      "[!]  retryable error (EC2MetadataError: failed to make EC2Metadata request\n",
      "\tstatus code: 405, request id: \n",
      "caused by: ) from ec2metadata/GetToken - will retry after delay of 4m3.715350528s\n",
      "request expired, resigning\n",
      "[ℹ]  setting availability zones to [ap-northeast-2a ap-northeast-2c ap-northeast-2d]\n",
      "[ℹ]  subnets for ap-northeast-2a - public:192.168.0.0/19 private:192.168.96.0/19\n",
      "[ℹ]  subnets for ap-northeast-2c - public:192.168.32.0/19 private:192.168.128.0/19\n",
      "[ℹ]  subnets for ap-northeast-2d - public:192.168.64.0/19 private:192.168.160.0/19\n",
      "[ℹ]  using Kubernetes version 1.17\n",
      "[ℹ]  creating EKS cluster \"cluster\" in \"ap-northeast-2\" region with managed nodes\n",
      "[ℹ]  1 nodegroup (cpu-nodes) was included (based on the include/exclude rules)\n",
      "[ℹ]  will create a CloudFormation stack for cluster itself and 0 nodegroup stack(s)\n",
      "[ℹ]  will create a CloudFormation stack for cluster itself and 1 managed nodegroup stack(s)\n",
      "[ℹ]  if you encounter any issues, check CloudFormation console or try 'eksctl utils describe-stacks --region=ap-northeast-2 --cluster=cluster'\n",
      "[ℹ]  Kubernetes API endpoint access will use default of {publicAccess=true, privateAccess=false} for cluster \"cluster\" in \"ap-northeast-2\"\n",
      "[ℹ]  2 sequential tasks: { create cluster control plane \"cluster\", 2 sequential sub-tasks: { update CloudWatch logging configuration, create managed nodegroup \"cpu-nodes\" } }\n",
      "[ℹ]  building cluster stack \"eksctl-cluster-cluster\"\n",
      "[ℹ]  deploying stack \"eksctl-cluster-cluster\"\n",
      "[✔]  configured CloudWatch logging for cluster \"cluster\" in \"ap-northeast-2\" (enabled types: api, audit, authenticator, controllerManager, scheduler & no types disabled)\n",
      "[ℹ]  building managed nodegroup stack \"eksctl-cluster-nodegroup-cpu-nodes\"\n",
      "[ℹ]  deploying stack \"eksctl-cluster-nodegroup-cpu-nodes\"\n",
      "[ℹ]  waiting for the control plane availability...\n",
      "[✔]  saved kubeconfig as \"/home/ec2-user/.kube/config\"\n",
      "[ℹ]  no tasks\n",
      "[✔]  all EKS cluster resources for \"cluster\" have been created\n",
      "[ℹ]  nodegroup \"cpu-nodes\" has 2 node(s)\n",
      "[ℹ]  node \"ip-192-168-39-223.ap-northeast-2.compute.internal\" is ready\n",
      "[ℹ]  node \"ip-192-168-74-46.ap-northeast-2.compute.internal\" is ready\n",
      "[ℹ]  waiting for at least 2 node(s) to become ready in \"cpu-nodes\"\n",
      "[ℹ]  nodegroup \"cpu-nodes\" has 2 node(s)\n",
      "[ℹ]  node \"ip-192-168-39-223.ap-northeast-2.compute.internal\" is ready\n",
      "[ℹ]  node \"ip-192-168-74-46.ap-northeast-2.compute.internal\" is ready\n",
      "[ℹ]  kubectl command should work with \"/home/ec2-user/.kube/config\", try 'kubectl get nodes'\n",
      "[✔]  EKS cluster \"cluster\" in \"ap-northeast-2\" region is ready\n",
      "Completed\n"
     ]
    }
   ],
   "source": [
    "%%bash\n",
    "\n",
    "source ~/.bash_profile\n",
    "\n",
    "eksctl create cluster -f ./cluster.yaml\n",
    "\n",
    "echo \"Completed\""
   ]
  },
  {
   "cell_type": "markdown",
   "metadata": {},
   "source": [
    "# _Please Wait 15-20 Minutes for the EKS Cluster to Start Successfully_"
   ]
  },
  {
   "cell_type": "markdown",
   "metadata": {},
   "source": [
    "# _Your output will look like this..._\n",
    "\n",
    "![](img/verify_eks.png)"
   ]
  },
  {
   "cell_type": "markdown",
   "metadata": {},
   "source": [
    "# You will see retry errors. This is OK."
   ]
  }
 ],
 "metadata": {
  "kernelspec": {
   "display_name": "conda_python3",
   "language": "python",
   "name": "conda_python3"
  },
  "language_info": {
   "codemirror_mode": {
    "name": "ipython",
    "version": 3
   },
   "file_extension": ".py",
   "mimetype": "text/x-python",
   "name": "python",
   "nbconvert_exporter": "python",
   "pygments_lexer": "ipython3",
   "version": "3.6.10"
  }
 },
 "nbformat": 4,
 "nbformat_minor": 4
}
