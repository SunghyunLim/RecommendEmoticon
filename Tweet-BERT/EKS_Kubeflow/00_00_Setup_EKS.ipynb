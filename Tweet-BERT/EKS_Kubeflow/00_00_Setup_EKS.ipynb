{
 "cells": [
  {
   "cell_type": "code",
   "execution_count": 1,
   "metadata": {},
   "outputs": [
    {
     "name": "stdout",
     "output_type": "stream",
     "text": [
      "Python Version 3.6.10 |Anaconda, Inc.| (default, Mar 25 2020, 23:51:54) \n",
      "[GCC 7.3.0]\n"
     ]
    }
   ],
   "source": [
    "import sys\n",
    "print('Python Version %s' % sys.version)"
   ]
  },
  {
   "cell_type": "code",
   "execution_count": 2,
   "metadata": {},
   "outputs": [],
   "source": [
    "# !pip list"
   ]
  },
  {
   "cell_type": "code",
   "execution_count": 3,
   "metadata": {},
   "outputs": [],
   "source": [
    "# %%bash\n",
    "# conda list"
   ]
  },
  {
   "cell_type": "code",
   "execution_count": 4,
   "metadata": {},
   "outputs": [],
   "source": [
    "# %%html\n",
    "\n",
    "# <iframe src=\"https://datascienceonaws.com\" width=\"800px\" height=\"600px\"/>"
   ]
  },
  {
   "cell_type": "markdown",
   "metadata": {},
   "source": [
    "# 1. 권한 추가 및 CLI tools 설치\n",
    "\n",
    "_Note:  Make sure the SageMaker role has access to create EKS Cluster._"
   ]
  },
  {
   "cell_type": "markdown",
   "metadata": {},
   "source": [
    "SageMaker Notebook Instance에 할단된 Role에 아래의 eks 의 모든 권한을 갖는 inline-policy를 추가를 해야 함\n",
    "\n",
    "```\n",
    "{\n",
    "    \"Version\": \"2012-10-17\",\n",
    "    \"Statement\": [\n",
    "        {\n",
    "            \"Effect\": \"Allow\",\n",
    "            \"Action\": [\n",
    "                \"eks:*\"\n",
    "            ],\n",
    "            \"Resource\": \"*\"\n",
    "        }\n",
    "    ]\n",
    "}\n",
    "```"
   ]
  },
  {
   "cell_type": "markdown",
   "metadata": {},
   "source": [
    "아래는 Notebook Instance를 재시작을 한 이후의 ~/.bash_profile 파일 임.<br>\n",
    "EKS와 KubeFlow를 설치하면서 관련 설정이 추가 됨\n",
    "다  <br>\n",
    "**설치를 한 이후에 ~/.bash_profile 파일을 /home/ec2-user/SageMaker 내부안으로 복사를 해놓고, 후에 재시작시 다시 카피하여 사용을 해야 함**\n"
   ]
  },
  {
   "cell_type": "markdown",
   "metadata": {},
   "source": [
    "![Initial_bash_profile](img/initial_bash_profile.png)"
   ]
  },
  {
   "cell_type": "code",
   "execution_count": 5,
   "metadata": {},
   "outputs": [
    {
     "name": "stdout",
     "output_type": "stream",
     "text": [
      "Collecting awscli\n",
      "  Downloading awscli-1.18.110-py2.py3-none-any.whl (3.3 MB)\n",
      "Requirement already satisfied, skipping upgrade: PyYAML<5.4,>=3.10; python_version != \"3.4\" in /home/ec2-user/anaconda3/lib/python3.7/site-packages (from awscli) (5.3.1)\n",
      "Requirement already satisfied, skipping upgrade: s3transfer<0.4.0,>=0.3.0 in /home/ec2-user/anaconda3/lib/python3.7/site-packages (from awscli) (0.3.3)\n",
      "Requirement already satisfied, skipping upgrade: colorama<0.4.4,>=0.2.5; python_version != \"3.4\" in /home/ec2-user/anaconda3/lib/python3.7/site-packages (from awscli) (0.4.3)\n",
      "Requirement already satisfied, skipping upgrade: rsa<=4.5.0,>=3.1.2; python_version != \"3.4\" in /home/ec2-user/anaconda3/lib/python3.7/site-packages (from awscli) (4.5)\n",
      "Requirement already satisfied, skipping upgrade: docutils<0.16,>=0.10 in /home/ec2-user/anaconda3/lib/python3.7/site-packages (from awscli) (0.15.2)\n",
      "Collecting botocore==1.17.33\n",
      "  Downloading botocore-1.17.33-py2.py3-none-any.whl (6.5 MB)\n",
      "Requirement already satisfied, skipping upgrade: pyasn1>=0.1.3 in /home/ec2-user/anaconda3/lib/python3.7/site-packages (from rsa<=4.5.0,>=3.1.2; python_version != \"3.4\"->awscli) (0.4.8)\n",
      "Requirement already satisfied, skipping upgrade: urllib3<1.26,>=1.20; python_version != \"3.4\" in /home/ec2-user/anaconda3/lib/python3.7/site-packages (from botocore==1.17.33->awscli) (1.25.8)\n",
      "Requirement already satisfied, skipping upgrade: jmespath<1.0.0,>=0.7.1 in /home/ec2-user/anaconda3/lib/python3.7/site-packages (from botocore==1.17.33->awscli) (0.9.4)\n",
      "Requirement already satisfied, skipping upgrade: python-dateutil<3.0.0,>=2.1 in /home/ec2-user/anaconda3/lib/python3.7/site-packages (from botocore==1.17.33->awscli) (2.8.1)\n",
      "Requirement already satisfied, skipping upgrade: six>=1.5 in /home/ec2-user/anaconda3/lib/python3.7/site-packages (from python-dateutil<3.0.0,>=2.1->botocore==1.17.33->awscli) (1.14.0)\n",
      "Installing collected packages: botocore, awscli\n",
      "Successfully installed awscli-1.18.110 botocore-1.17.33\n",
      "0.25.0\n",
      "Client Version: v1.15.10-eks-bac369\n",
      "{\"Version\":\"v0.5.0\",\"Commit\":\"1cfe2a90f68381eacd7b6dcfa2bf689e76eb8b4b\"}\n",
      "Loaded plugins: dkms-build-requires, priorities, update-motd, upgrade-helper,\n",
      "              : versionlock\n",
      "Package jq-1.5-1.2.amzn1.x86_64 already installed and latest version\n",
      "Package gettext-0.18.1.1-9.1.11.amzn1.x86_64 already installed and latest version\n",
      "Nothing to do\n",
      "kubectl in path\n",
      "jq in path\n",
      "envsubst in path\n",
      "Completed\n"
     ]
    },
    {
     "name": "stderr",
     "output_type": "stream",
     "text": [
      "WARNING: You are using pip version 20.0.2; however, version 20.2 is available.\n",
      "You should consider upgrading via the '/home/ec2-user/anaconda3/bin/python -m pip install --upgrade pip' command.\n",
      "  % Total    % Received % Xferd  Average Speed   Time    Time     Time  Current\n",
      "                                 Dload  Upload   Total   Spent    Left  Speed\n",
      "100 55.1M  100 55.1M    0     0  92.7M      0 --:--:-- --:--:-- --:--:-- 92.6M\n",
      "  % Total    % Received % Xferd  Average Speed   Time    Time     Time  Current\n",
      "                                 Dload  Upload   Total   Spent    Left  Speed\n",
      "100 33.6M  100 33.6M    0     0  92.4M      0 --:--:-- --:--:-- --:--:-- 92.4M\n"
     ]
    }
   ],
   "source": [
    "%%bash\n",
    "\n",
    "source ~/.bash_profile\n",
    "\n",
    "#### Install `eksctl`\n",
    "# To get started we'll first install the `awscli` and `eksctl` CLI tools. [eksctl](https://eksctl.io) simplifies the process of creating EKS clusters.\n",
    "\n",
    "pip install awscli --upgrade --user\n",
    "\n",
    "curl --silent --location \"https://github.com/weaveworks/eksctl/releases/latest/download/eksctl_$(uname -s)_amd64.tar.gz\" | tar xz -C /tmp\n",
    "\n",
    "sudo mv /tmp/eksctl /usr/local/bin\n",
    "\n",
    "eksctl version\n",
    "\n",
    "#### Install `kubectl`\n",
    "# `kubectl` is a command line interface for running commands against Kubernetes clusters. \n",
    "# Run the following to install Kubectl\n",
    "\n",
    "curl --location -o ./kubectl https://amazon-eks.s3.us-west-2.amazonaws.com/1.15.10/2020-02-22/bin/linux/amd64/kubectl\n",
    "\n",
    "chmod +x ./kubectl\n",
    "\n",
    "sudo mv ./kubectl /usr/local/bin\n",
    "\n",
    "kubectl version --short --client\n",
    "\n",
    "#### Install `aws-iam-authenticator`\n",
    "\n",
    "curl -o aws-iam-authenticator https://amazon-eks.s3.us-west-2.amazonaws.com/1.15.10/2020-02-22/bin/linux/amd64/aws-iam-authenticator\n",
    "\n",
    "chmod +x ./aws-iam-authenticator\n",
    "\n",
    "sudo mv aws-iam-authenticator /usr/local/bin\n",
    "\n",
    "aws-iam-authenticator version\n",
    "\n",
    "#### Install jq and envsubst (from GNU gettext utilities) \n",
    "sudo yum -y install jq gettext\n",
    "\n",
    "#### Verify the binaries are in the path and executable\n",
    "for command in kubectl jq envsubst\n",
    "  do\n",
    "    which $command &>/dev/null && echo \"$command in path\" || echo \"$command NOT FOUND\"\n",
    "  done\n",
    "\n",
    "echo \"Completed\""
   ]
  },
  {
   "cell_type": "markdown",
   "metadata": {},
   "source": [
    "# 2. Configure the Environment Variables"
   ]
  },
  {
   "cell_type": "code",
   "execution_count": 6,
   "metadata": {},
   "outputs": [
    {
     "name": "stdout",
     "output_type": "stream",
     "text": [
      "export AWS_REGION=us-west-2\n",
      "export AWS_CLUSTER_NAME=cluster\n",
      "Completed\n"
     ]
    }
   ],
   "source": [
    "%%bash\n",
    "\n",
    "source ~/.bash_profile\n",
    "\n",
    "export AWS_REGION=$(aws configure get region)\n",
    "echo \"export AWS_REGION=${AWS_REGION}\" | tee -a ~/.bash_profile\n",
    "\n",
    "export AWS_CLUSTER_NAME=cluster\n",
    "echo \"export AWS_CLUSTER_NAME=${AWS_CLUSTER_NAME}\" | tee -a ~/.bash_profile\n",
    "\n",
    "echo \"Completed\""
   ]
  },
  {
   "cell_type": "markdown",
   "metadata": {},
   "source": [
    "# 3. Create the EKS Cluster\n",
    "\n",
    "_Note:  Creating a cluster may take about 15 minutes.  Please be patient._"
   ]
  },
  {
   "cell_type": "code",
   "execution_count": 7,
   "metadata": {},
   "outputs": [],
   "source": [
    "%%bash\n",
    "\n",
    "source ~/.bash_profile\n",
    "\n",
    "cat << EOF > gpuCluster.yaml\n",
    "---\n",
    "apiVersion: eksctl.io/v1alpha5\n",
    "kind: ClusterConfig\n",
    "\n",
    "metadata:\n",
    "  name: ${AWS_CLUSTER_NAME}\n",
    "  region: ${AWS_REGION}\n",
    "\n",
    "cloudWatch:\n",
    "  clusterLogging:\n",
    "    enableTypes: [\"*\"]\n",
    "\n",
    "managedNodeGroups:\n",
    "- name: cpu-nodes\n",
    "  instanceType: c5.xlarge\n",
    "  volumeSize: 2000\n",
    "  desiredCapacity: 2\n",
    "  iam:\n",
    "    withAddonPolicies:\n",
    "      albIngress: true\n",
    "\n",
    "#secretsEncryption:\n",
    "#  keyARN: ${MASTER_ARN}\n",
    "EOF"
   ]
  },
  {
   "cell_type": "code",
   "execution_count": null,
   "metadata": {},
   "outputs": [],
   "source": [
    "%%bash\n",
    "\n",
    "source ~/.bash_profile\n",
    "\n",
    "eksctl create cluster -f ./gpuCluster.yaml\n",
    "\n",
    "echo \"Completed\""
   ]
  },
  {
   "cell_type": "markdown",
   "metadata": {},
   "source": [
    "# _Please Wait 15-20 Minutes for the EKS Cluster to Start Successfully_"
   ]
  },
  {
   "cell_type": "markdown",
   "metadata": {},
   "source": [
    "# _Your output will look like this..._\n",
    "\n",
    "![TEST](img/verify_eks.png)"
   ]
  },
  {
   "cell_type": "markdown",
   "metadata": {},
   "source": [
    "# You will see retry errors. This is OK."
   ]
  },
  {
   "cell_type": "code",
   "execution_count": null,
   "metadata": {},
   "outputs": [],
   "source": []
  }
 ],
 "metadata": {
  "kernelspec": {
   "display_name": "conda_python3",
   "language": "python",
   "name": "conda_python3"
  },
  "language_info": {
   "codemirror_mode": {
    "name": "ipython",
    "version": 3
   },
   "file_extension": ".py",
   "mimetype": "text/x-python",
   "name": "python",
   "nbconvert_exporter": "python",
   "pygments_lexer": "ipython3",
   "version": "3.6.10"
  }
 },
 "nbformat": 4,
 "nbformat_minor": 4
}
