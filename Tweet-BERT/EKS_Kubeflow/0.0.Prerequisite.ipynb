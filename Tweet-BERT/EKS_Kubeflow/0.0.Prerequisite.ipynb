{
 "cells": [
  {
   "cell_type": "markdown",
   "metadata": {},
   "source": [
    "## EKS 및 KubeFlow 설치 준비 단계"
   ]
  },
  {
   "cell_type": "markdown",
   "metadata": {},
   "source": [
    "## (1) 세이지 메이커 노트북 인스턴스 설치"
   ]
  },
  {
   "cell_type": "markdown",
   "metadata": {},
   "source": [
    "아래는 \"Data Science on AWS\" 워크샵의 Git 리파지토리 입니다. \n",
    "세이지 메이커 노트북 생성시 아래 네트워크 설정을 참고 하세요<br>\n",
    "여기 --> [Data Science on AWS](https://github.com/data-science-on-aws/workshop)"
   ]
  },
  {
   "cell_type": "markdown",
   "metadata": {},
   "source": [
    "![sagemaker_notebook_network_setting](img/sagemaker_notebook_network_setting.png)"
   ]
  },
  {
   "cell_type": "markdown",
   "metadata": {},
   "source": [
    "## (2) SageMaker Notebook Instance Role의 권한\n",
    "\n",
    "아래와 같이 권한을 추가 해주세요."
   ]
  },
  {
   "cell_type": "markdown",
   "metadata": {},
   "source": [
    "![SageMakerRolePermissions](img/sagemaker_role_permissions.png)"
   ]
  },
  {
   "cell_type": "code",
   "execution_count": null,
   "metadata": {},
   "outputs": [],
   "source": []
  }
 ],
 "metadata": {
  "kernelspec": {
   "display_name": "conda_python3",
   "language": "python",
   "name": "conda_python3"
  },
  "language_info": {
   "codemirror_mode": {
    "name": "ipython",
    "version": 3
   },
   "file_extension": ".py",
   "mimetype": "text/x-python",
   "name": "python",
   "nbconvert_exporter": "python",
   "pygments_lexer": "ipython3",
   "version": "3.6.10"
  }
 },
 "nbformat": 4,
 "nbformat_minor": 4
}
