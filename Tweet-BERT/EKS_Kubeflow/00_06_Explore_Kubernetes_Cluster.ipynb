{
 "cells": [
  {
   "cell_type": "markdown",
   "metadata": {},
   "source": [
    "# `kubectl` Kubernetes CLI"
   ]
  },
  {
   "cell_type": "code",
   "execution_count": 10,
   "metadata": {},
   "outputs": [
    {
     "name": "stdout",
     "output_type": "stream",
     "text": [
      "NAME              STATUS   AGE\n",
      "anonymous         Active   78m\n",
      "cert-manager      Active   86m\n",
      "default           Active   26h\n",
      "istio-system      Active   86m\n",
      "knative-serving   Active   86m\n",
      "kube-node-lease   Active   26h\n",
      "kube-public       Active   26h\n",
      "kube-system       Active   26h\n",
      "kubeflow          Active   86m\n"
     ]
    }
   ],
   "source": [
    "!kubectl get namespaces"
   ]
  },
  {
   "cell_type": "code",
   "execution_count": 11,
   "metadata": {},
   "outputs": [
    {
     "name": "stdout",
     "output_type": "stream",
     "text": [
      "NAME                          READY   STATUS      RESTARTS   AGE\n",
      "fairing-builder-sgrls-smt72   0/1     Completed   0          68m\n",
      "notebook-0                    2/2     Running     0          75m\n",
      "notebook2-0                   2/2     Running     0          46m\n"
     ]
    }
   ],
   "source": [
    "!kubectl get pods --namespace anonymous"
   ]
  },
  {
   "cell_type": "code",
   "execution_count": 13,
   "metadata": {},
   "outputs": [
    {
     "name": "stdout",
     "output_type": "stream",
     "text": [
      "[I 07:11:28.711 NotebookApp] Writing notebook server cookie secret to /root/.local/share/jupyter/runtime/notebook_cookie_secret\n",
      "[W 07:11:28.983 NotebookApp] All authentication is disabled.  Anyone who can connect to this server will be able to run code.\n",
      "[I 07:11:29.018 NotebookApp] JupyterLab extension loaded from /opt/conda/lib/python3.6/site-packages/jupyterlab\n",
      "[I 07:11:29.018 NotebookApp] JupyterLab application directory is /opt/conda/share/jupyter/lab\n",
      "[I 07:11:29.020 NotebookApp] Serving notebooks from local directory: /home/jovyan\n",
      "[I 07:11:29.020 NotebookApp] The Jupyter Notebook is running at:\n",
      "[I 07:11:29.020 NotebookApp] http://notebook-0:8888/notebook/anonymous/notebook/\n",
      "[I 07:11:29.020 NotebookApp] Use Control-C to stop this server and shut down all kernels (twice to skip confirmation).\n",
      "[I 07:13:11.501 NotebookApp] 302 GET /notebook/anonymous/notebook/ (127.0.0.1) 0.55ms\n",
      "[I 07:13:22.704 NotebookApp] New terminal with automatic name: 1\n",
      "TermSocket.open: 1\n",
      "TermSocket.open: Opened 1\n",
      "[I 07:15:33.376 NotebookApp] Writing notebook-signing key to /root/.local/share/jupyter/notebook_secret\n",
      "[W 07:15:33.376 NotebookApp] Notebook workshop/11_kubeflow/01_01_Fairing_XGBoost.ipynb is not trusted\n",
      "[I 07:15:33.908 NotebookApp] Kernel started: 73763c69-32e2-4cd5-85d2-a2ad9eff8528\n",
      "[I 07:15:58.254 NotebookApp] Starting buffering for 73763c69-32e2-4cd5-85d2-a2ad9eff8528:cd01a41e85e9485a823f3a1fd15e4d47\n",
      "[I 07:16:03.292 NotebookApp] Kernel restarted: 73763c69-32e2-4cd5-85d2-a2ad9eff8528\n",
      "[I 07:16:04.075 NotebookApp] Restoring connection for 73763c69-32e2-4cd5-85d2-a2ad9eff8528:cd01a41e85e9485a823f3a1fd15e4d47\n",
      "[I 07:16:04.075 NotebookApp] Replaying 10 buffered messages\n",
      "[I 07:16:53.288 NotebookApp] Starting buffering for 73763c69-32e2-4cd5-85d2-a2ad9eff8528:cd01a41e85e9485a823f3a1fd15e4d47\n",
      "[I 07:16:53.688 NotebookApp] Kernel restarted: 73763c69-32e2-4cd5-85d2-a2ad9eff8528\n",
      "[I 07:16:54.400 NotebookApp] Restoring connection for 73763c69-32e2-4cd5-85d2-a2ad9eff8528:cd01a41e85e9485a823f3a1fd15e4d47\n",
      "[I 07:16:54.400 NotebookApp] Replaying 6 buffered messages\n",
      "[I 07:17:34.347 NotebookApp] Saving file at /workshop/11_kubeflow/01_01_Fairing_XGBoost.ipynb\n",
      "[I 07:19:34.694 NotebookApp] Saving file at /workshop/11_kubeflow/01_01_Fairing_XGBoost.ipynb\n",
      "[W 07:21:39.524 NotebookApp] Replacing stale connection: 73763c69-32e2-4cd5-85d2-a2ad9eff8528:cd01a41e85e9485a823f3a1fd15e4d47\n",
      "[I 07:21:44.527 NotebookApp] Starting buffering for 73763c69-32e2-4cd5-85d2-a2ad9eff8528:cd01a41e85e9485a823f3a1fd15e4d47\n",
      "[I 07:21:44.528 NotebookApp] Restoring connection for 73763c69-32e2-4cd5-85d2-a2ad9eff8528:cd01a41e85e9485a823f3a1fd15e4d47\n",
      "[W 07:22:54.830 NotebookApp] Notebook workshop/11_kubeflow/01_00_Fairing_Intro.ipynb is not trusted\n",
      "[I 07:22:55.007 NotebookApp] 302 GET /notebook/anonymous/notebook/notebooks/workshop/11_kubeflow/img/kubeflow-overview.png (127.0.0.1) 0.83ms\n",
      "[I 07:22:55.210 NotebookApp] Kernel started: c8ed567c-2861-4455-a877-a481dc147893\n",
      "[I 07:23:03.975 NotebookApp] Starting buffering for c8ed567c-2861-4455-a877-a481dc147893:c725985e986a46479b6e224b4b274fa6\n",
      "2020-06-15 07:23:06.992243: I tensorflow/core/platform/cpu_feature_guard.cc:141] Your CPU supports instructions that this TensorFlow binary was not compiled to use: AVX2 AVX512F FMA\n",
      "2020-06-15 07:23:07.019482: I tensorflow/core/platform/profile_utils/cpu_utils.cc:94] CPU Frequency: 3000000000 Hz\n",
      "2020-06-15 07:23:07.021092: I tensorflow/compiler/xla/service/service.cc:150] XLA service 0x557cc5508030 executing computations on platform Host. Devices:\n",
      "2020-06-15 07:23:07.021119: I tensorflow/compiler/xla/service/service.cc:158]   StreamExecutor device (0): <undefined>, <undefined>\n",
      "[I 07:23:09.009 NotebookApp] Kernel restarted: c8ed567c-2861-4455-a877-a481dc147893\n",
      "[I 07:23:09.754 NotebookApp] Restoring connection for c8ed567c-2861-4455-a877-a481dc147893:c725985e986a46479b6e224b4b274fa6\n",
      "[I 07:23:09.754 NotebookApp] Replaying 8 buffered messages\n",
      "[W 07:23:14.530 NotebookApp] WebSocket ping timeout after 90001 ms.\n",
      "[I 07:23:19.533 NotebookApp] Starting buffering for 73763c69-32e2-4cd5-85d2-a2ad9eff8528:cd01a41e85e9485a823f3a1fd15e4d47\n",
      "[W 07:23:25.009 NotebookApp] WebSocket ping timeout after 119855 ms.\n",
      "Websocket closed\n",
      "[I 07:24:55.644 NotebookApp] Saving file at /workshop/11_kubeflow/01_00_Fairing_Intro.ipynb\n",
      "[W 07:30:18.230 NotebookApp] Notebook workshop/11_kubeflow/00_04_Setup_Kubeflow_EKS_Credentials.ipynb is not trusted\n",
      "[I 07:30:18.549 NotebookApp] Kernel started: 99bcd7a4-6370-4bb0-85f2-07e9bcf40086\n",
      "[I 07:30:55.927 NotebookApp] Saving file at /workshop/11_kubeflow/01_00_Fairing_Intro.ipynb\n",
      "[I 07:32:19.718 NotebookApp] Saving file at /workshop/11_kubeflow/00_04_Setup_Kubeflow_EKS_Credentials.ipynb\n",
      "[I 07:34:55.770 NotebookApp] Saving file at /workshop/11_kubeflow/01_00_Fairing_Intro.ipynb\n",
      "[I 07:37:09.802 NotebookApp] Starting buffering for 99bcd7a4-6370-4bb0-85f2-07e9bcf40086:278a218be96c4ccc80a5eec5a1bdf9d2\n",
      "[I 07:37:12.470 NotebookApp] Starting buffering for c8ed567c-2861-4455-a877-a481dc147893:c725985e986a46479b6e224b4b274fa6\n"
     ]
    }
   ],
   "source": [
    "!kubectl logs notebook-0 --container notebook --namespace anonymous\n",
    "# !kubectl logs notebook2-0 --container notebook --namespace anonymous"
   ]
  },
  {
   "cell_type": "code",
   "execution_count": null,
   "metadata": {},
   "outputs": [],
   "source": []
  }
 ],
 "metadata": {
  "kernelspec": {
   "display_name": "conda_python3",
   "language": "python",
   "name": "conda_python3"
  },
  "language_info": {
   "codemirror_mode": {
    "name": "ipython",
    "version": 3
   },
   "file_extension": ".py",
   "mimetype": "text/x-python",
   "name": "python",
   "nbconvert_exporter": "python",
   "pygments_lexer": "ipython3",
   "version": "3.6.10"
  }
 },
 "nbformat": 4,
 "nbformat_minor": 4
}
