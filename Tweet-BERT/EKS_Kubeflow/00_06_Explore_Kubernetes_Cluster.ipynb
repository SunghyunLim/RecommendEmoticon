{
 "cells": [
  {
   "cell_type": "markdown",
   "metadata": {},
   "source": [
    "# `kubectl` Kubernetes CLI"
   ]
  },
  {
   "cell_type": "code",
   "execution_count": 1,
   "metadata": {},
   "outputs": [
    {
     "name": "stdout",
     "output_type": "stream",
     "text": [
      "NAME              STATUS   AGE\n",
      "anonymous         Active   4d15h\n",
      "cert-manager      Active   4d15h\n",
      "default           Active   4d16h\n",
      "istio-system      Active   4d15h\n",
      "knative-serving   Active   4d15h\n",
      "kube-node-lease   Active   4d16h\n",
      "kube-public       Active   4d16h\n",
      "kube-system       Active   4d16h\n",
      "kubeflow          Active   4d15h\n"
     ]
    }
   ],
   "source": [
    "!kubectl get namespaces"
   ]
  },
  {
   "cell_type": "code",
   "execution_count": 2,
   "metadata": {},
   "outputs": [
    {
     "name": "stdout",
     "output_type": "stream",
     "text": [
      "NAME          READY   STATUS    RESTARTS   AGE\n",
      "notebook-0    2/2     Running   0          4d11h\n",
      "notebook2-0   2/2     Running   0          3d19h\n"
     ]
    }
   ],
   "source": [
    "!kubectl get pods --namespace anonymous"
   ]
  },
  {
   "cell_type": "code",
   "execution_count": 3,
   "metadata": {},
   "outputs": [
    {
     "name": "stdout",
     "output_type": "stream",
     "text": [
      "[I 12:35:44.480 NotebookApp] Writing notebook server cookie secret to /root/.local/share/jupyter/runtime/notebook_cookie_secret\n",
      "[W 12:35:44.682 NotebookApp] All authentication is disabled.  Anyone who can connect to this server will be able to run code.\n",
      "[I 12:35:44.708 NotebookApp] JupyterLab extension loaded from /opt/conda/lib/python3.6/site-packages/jupyterlab\n",
      "[I 12:35:44.708 NotebookApp] JupyterLab application directory is /opt/conda/share/jupyter/lab\n",
      "[I 12:35:44.710 NotebookApp] Serving notebooks from local directory: /home/jovyan\n",
      "[I 12:35:44.710 NotebookApp] The Jupyter Notebook is running at:\n",
      "[I 12:35:44.710 NotebookApp] http://notebook-0:8888/notebook/anonymous/notebook/\n",
      "[I 12:35:44.710 NotebookApp] Use Control-C to stop this server and shut down all kernels (twice to skip confirmation).\n",
      "[I 12:36:12.211 NotebookApp] 302 GET /notebook/anonymous/notebook/ (127.0.0.1) 0.53ms\n",
      "[I 12:36:22.555 NotebookApp] New terminal with automatic name: 1\n",
      "TermSocket.open: 1\n",
      "TermSocket.open: Opened 1\n",
      "[I 13:48:14.206 NotebookApp] Writing notebook-signing key to /root/.local/share/jupyter/notebook_secret\n",
      "[W 13:48:14.207 NotebookApp] Notebook RecommendEmoticon/Tweet-BERT/6.1.Tweet_BERT_Pilpeline_SageMaker.ipynb is not trusted\n",
      "[I 13:48:14.640 NotebookApp] Kernel started: d49ca442-4252-46ab-912a-4c1990c7a9f4\n",
      "[W 13:50:45.268 NotebookApp] WebSocket ping timeout after 119922 ms.\n",
      "[I 13:50:50.272 NotebookApp] Starting buffering for d49ca442-4252-46ab-912a-4c1990c7a9f4:e9d6376146cc44e183566f23c032e741\n",
      "[W 13:50:53.662 NotebookApp] WebSocket ping timeout after 119804 ms.\n",
      "Websocket closed\n",
      "[I 13:52:10.276 NotebookApp] Saving file at /RecommendEmoticon/Tweet-BERT/6.1.Tweet_BERT_Pilpeline_SageMaker.ipynb\n",
      "[W 13:52:10.277 NotebookApp] Notebook RecommendEmoticon/Tweet-BERT/6.1.Tweet_BERT_Pilpeline_SageMaker.ipynb is not trusted\n",
      "[I 13:52:51.243 NotebookApp] Restoring connection for d49ca442-4252-46ab-912a-4c1990c7a9f4:e9d6376146cc44e183566f23c032e741\n",
      "[W 13:55:51.244 NotebookApp] WebSocket ping timeout after 119921 ms.\n",
      "[I 13:55:56.248 NotebookApp] Starting buffering for d49ca442-4252-46ab-912a-4c1990c7a9f4:e9d6376146cc44e183566f23c032e741\n",
      "[I 00:56:37.078 NotebookApp] Restoring connection for d49ca442-4252-46ab-912a-4c1990c7a9f4:e9d6376146cc44e183566f23c032e741\n",
      "[I 01:12:19.025 NotebookApp] Saving file at /RecommendEmoticon/Tweet-BERT/6.1.Tweet_BERT_Pilpeline_SageMaker.ipynb\n",
      "[W 01:12:19.025 NotebookApp] Notebook RecommendEmoticon/Tweet-BERT/6.1.Tweet_BERT_Pilpeline_SageMaker.ipynb is not trusted\n",
      "[W 02:44:37.079 NotebookApp] WebSocket ping timeout after 119922 ms.\n",
      "[I 02:44:42.081 NotebookApp] Starting buffering for d49ca442-4252-46ab-912a-4c1990c7a9f4:e9d6376146cc44e183566f23c032e741\n",
      "[I 02:53:33.644 NotebookApp] Restoring connection for d49ca442-4252-46ab-912a-4c1990c7a9f4:e9d6376146cc44e183566f23c032e741\n",
      "[I 05:16:19.203 NotebookApp] Starting buffering for d49ca442-4252-46ab-912a-4c1990c7a9f4:e9d6376146cc44e183566f23c032e741\n",
      "[I 05:16:35.498 NotebookApp] 302 GET /notebook/anonymous/notebook/ (127.0.0.1) 0.46ms\n",
      "[I 05:16:43.973 NotebookApp] New terminal with automatic name: 2\n",
      "TermSocket.open: 2\n",
      "TermSocket.open: Opened 2\n",
      "[W 05:18:37.924 NotebookApp] Notebook RecommendEmoticon/Tweet-BERT/6.1.Tweet_BERT_Pilpeline_SageMaker.ipynb is not trusted\n",
      "[I 05:20:38.590 NotebookApp] Saving file at /RecommendEmoticon/Tweet-BERT/6.1.Tweet_BERT_Pilpeline_SageMaker.ipynb\n",
      "[W 05:20:38.590 NotebookApp] Notebook RecommendEmoticon/Tweet-BERT/6.1.Tweet_BERT_Pilpeline_SageMaker.ipynb is not trusted\n",
      "[I 05:22:38.450 NotebookApp] Saving file at /RecommendEmoticon/Tweet-BERT/6.1.Tweet_BERT_Pilpeline_SageMaker.ipynb\n",
      "[W 05:22:38.450 NotebookApp] Notebook RecommendEmoticon/Tweet-BERT/6.1.Tweet_BERT_Pilpeline_SageMaker.ipynb is not trusted\n",
      "[I 05:24:49.144 NotebookApp] Starting buffering for d49ca442-4252-46ab-912a-4c1990c7a9f4:7818df426fa54a0f8f76025365d76464\n",
      "Websocket closed\n"
     ]
    }
   ],
   "source": [
    "!kubectl logs notebook-0 --container notebook --namespace anonymous"
   ]
  },
  {
   "cell_type": "code",
   "execution_count": null,
   "metadata": {},
   "outputs": [],
   "source": [
    "%%javascript\n",
    "Jupyter.notebook.save_checkpoint();\n",
    "Jupyter.notebook.session.delete();"
   ]
  }
 ],
 "metadata": {
  "kernelspec": {
   "display_name": "conda_python3",
   "language": "python",
   "name": "conda_python3"
  },
  "language_info": {
   "codemirror_mode": {
    "name": "ipython",
    "version": 3
   },
   "file_extension": ".py",
   "mimetype": "text/x-python",
   "name": "python",
   "nbconvert_exporter": "python",
   "pygments_lexer": "ipython3",
   "version": "3.6.10"
  }
 },
 "nbformat": 4,
 "nbformat_minor": 4
}
