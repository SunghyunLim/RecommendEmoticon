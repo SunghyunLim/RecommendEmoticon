{
 "cells": [
  {
   "cell_type": "markdown",
   "metadata": {},
   "source": [
    "# [Module 4.3] API GATEWAY 사용하여 SageMaker Endpoint 호출\n",
    "\n",
    "![Fig.4.3.APIGATEWAY_flow](img/Fig.4.3.APIGATEWAY_flow.png)\n",
    "아래 블로그를 보면 위 그림에 해당되는 플로우를 구현할 수 있습니다. <br>\n",
    "\n",
    "여기서는 아래와 같은 단계를 진행 합니다.\n",
    "- SageMaker Endpoint 블러오기 (%store -r)\n",
    "- 노트북에서 람다 함수 생성 및 테스트 \n",
    "- 람다 콘솔에서 람다 함수 생성\n",
    "- API GATEWAY에서 API GATEWAY 생성하기\n",
    "- API GATEWAY에서 API GATEWAY 테스트 하기\n",
    "- 외부 웹 페이지에서 테스트\n",
    "\n",
    "---\n",
    "Reference:\n",
    "- [Blog] Call an Amazon SageMaker model endpoint using Amazon API Gateway and AWS Lambda\n",
    "    - https://aws.amazon.com/blogs/machine-learning/call-an-amazon-sagemaker-model-endpoint-using-amazon-api-gateway-and-aws-lambda/\n"
   ]
  },
  {
   "cell_type": "markdown",
   "metadata": {},
   "source": [
    "## Lambda 함수 만들기\n",
    "\n",
    "Lambda 함수의 Signature(함수 정의)를 같게 하고, 필요한 것은 Dummy 값을 할당하여 구현 함."
   ]
  },
  {
   "cell_type": "code",
   "execution_count": 8,
   "metadata": {},
   "outputs": [],
   "source": [
    "%store -r"
   ]
  },
  {
   "cell_type": "code",
   "execution_count": 15,
   "metadata": {},
   "outputs": [
    {
     "name": "stdout",
     "output_type": "stream",
     "text": [
      "tweet_bert_endpoint_name: \n",
      " sagemaker-tensorflow-serving-2020-08-16-02-10-36-839\n"
     ]
    }
   ],
   "source": [
    "print(\"tweet_bert_endpoint_name: \\n\", tweet_bert_endpoint_name)\n",
    "os.environ['ENDPOINT_NAME'] = tweet_bert_endpoint_name"
   ]
  },
  {
   "cell_type": "code",
   "execution_count": 29,
   "metadata": {},
   "outputs": [],
   "source": [
    "import json\n",
    "import os\n",
    "import io\n",
    "import boto3\n",
    "import csv\n",
    "\n",
    "ENDPOINT_NAME = os.environ['ENDPOINT_NAME'] \n",
    "runtime = boto3.client('runtime.sagemaker')\n",
    "\n",
    "\n",
    "def lambda_handler(event, context):\n",
    "    # TODO implement\n",
    "    try:\n",
    "        print(\"Received event: \" + json.dumps(event, indent=2))\n",
    "\n",
    "        data = json.loads(json.dumps(event))\n",
    "        payload = data['body']\n",
    "        payload = '[\"' + payload + '\"]'\n",
    "        print(\"Processed inference input: \\n\" ,payload)\n",
    "\n",
    "        response = runtime.invoke_endpoint(EndpointName = ENDPOINT_NAME,\n",
    "                                        ContentType = 'application/json',\n",
    "                                        Body = payload)\n",
    "\n",
    "        result = json.loads(response['Body'].read().decode())\n",
    "        print(\"\\nlambda_response: \\n \", result)        \n",
    "\n",
    "        return {\n",
    "            'statusCode': 200,\n",
    "            'body': json.dumps(result)\n",
    "        }        \n",
    "    except:\n",
    "        print(\"An error occurred\")\n",
    "        return data\n"
   ]
  },
  {
   "cell_type": "markdown",
   "metadata": {},
   "source": [
    "## Lambda 함수 결과 보기\n",
    "아래와 같이  람다 함수가 정상적으로 결과를 제공하면 람다 콘솔에 가서 람다를 만들면 됨\n",
    "lambda_response 는 10개의 이모티콘의 Score를 보여주고 있고, Top 3 추천을 위해서는 \n",
    "정렬하여 가장 높은 값 3개를 추천하면 됨\n",
    "```\n",
    "Received event: {\n",
    "  \"body\": \"I am good\"\n",
    "}\n",
    "Processed inference input: \n",
    " [\"I am good\"]\n",
    "\n",
    "lambda_response: \n",
    "  [[1.07107985, 2.42111945, -2.42198849, -1.93775201, -1.99158204, -2.29052329, 4.34999323, -0.153068662, -1.22072053, -1.50339854]]\n",
    "```"
   ]
  },
  {
   "cell_type": "code",
   "execution_count": 30,
   "metadata": {},
   "outputs": [
    {
     "name": "stdout",
     "output_type": "stream",
     "text": [
      "Received event: {\n",
      "  \"body\": \"I am good\"\n",
      "}\n",
      "Processed inference input: \n",
      " [\"I am good\"]\n",
      "\n",
      "lambda_response: \n",
      "  [[1.07107985, 2.42111945, -2.42198849, -1.93775201, -1.99158204, -2.29052329, 4.34999323, -0.153068662, -1.22072053, -1.50339854]]\n"
     ]
    }
   ],
   "source": [
    "event = {'body' : 'I am good'}\n",
    "context= \"Dummy Context\"\n",
    "lambda_response = lambda_handler(event, context)   \n",
    "\n"
   ]
  },
  {
   "cell_type": "markdown",
   "metadata": {},
   "source": [
    "## Lambda 콘솔에서 람다 함수 만들기"
   ]
  },
  {
   "cell_type": "markdown",
   "metadata": {},
   "source": [
    "![Fig.4.3.lambda-function](img/Fig.4.3.lambda-function.png)"
   ]
  },
  {
   "cell_type": "markdown",
   "metadata": {},
   "source": [
    "## Lambda 함수 테스트 및 결과 확인"
   ]
  },
  {
   "cell_type": "markdown",
   "metadata": {},
   "source": [
    "![Fig.4.3Test-Lambda-Function](img/Fig.4.3Test-Lambda-Function.png)"
   ]
  },
  {
   "cell_type": "markdown",
   "metadata": {},
   "source": [
    "![Fig.4.3.Result-Lambda-Test](img/Fig.4.3.Result-Lambda-Test.png)"
   ]
  },
  {
   "cell_type": "markdown",
   "metadata": {},
   "source": [
    "## API GATEWAY 함수 생성\n",
    "- 자세한 설명은 노트북 맨 위의 블로그를 참조 하세요.\n",
    "\n",
    "여기서는 InvokeTweetEndpoint 람다 함수를 Integration Type으로 선택하고, 람다 함수 이름을 기입하여 생성 하였습니다."
   ]
  },
  {
   "cell_type": "markdown",
   "metadata": {},
   "source": [
    "![Fig.4.3.APIGATEWAY-Setting](img/Fig.4.3.APIGATEWAY-Setting.png)"
   ]
  },
  {
   "cell_type": "markdown",
   "metadata": {},
   "source": [
    "## API GATEWAY 함수 내부 테스트\n",
    "\n",
    "아래와 같이 입력값을 넣고 테스트를 하여 결과가 나와야 합니다."
   ]
  },
  {
   "cell_type": "markdown",
   "metadata": {},
   "source": [
    "![Fig.4.3.APIGATEWAY_test](img/Fig.4.3.APIGATEWAY_test.png)"
   ]
  },
  {
   "cell_type": "markdown",
   "metadata": {},
   "source": [
    "## API GATEWAY 외부에서 테스트\n",
    "\n",
    "아래와 같이 먼저 Invoke URL을 카피 합니다."
   ]
  },
  {
   "cell_type": "markdown",
   "metadata": {},
   "source": [
    "![Fig.4.3.APIGATEWAY-URL](img/Fig.4.3.APIGATEWAY-URL.png)"
   ]
  },
  {
   "cell_type": "markdown",
   "metadata": {},
   "source": [
    "저는 아래 URL 에서 테스트를 수행하였습니다. 원하시는 Web API 테스트 웹사이트 혹은 애플리케이션을 이용하시면 됩니다.\n",
    "API TESTERBE ( https://apitester.com )"
   ]
  },
  {
   "cell_type": "markdown",
   "metadata": {},
   "source": [
    "## 외부 웹사이트 (https://apitester.com) 에서 API GATEWAY 테스트\n",
    "\n",
    "위에서 복사한 Invoke URL을 카피하고, Post Data에 {\"body\": \"I am Good\"} 를 입력 합니다.\n",
    "이후 테스트 버튼을 누르면 결과를 확인할 수 있습니다.\n",
    "\n",
    "혹시 [AWS API Gateway: Solving Missing Authentication Tokens](http://www.awslessons.com/2017/aws-api-gateway-missing-authentication-token/) 에러가 빌생하면 클릭하여 정보 참고 하세요"
   ]
  },
  {
   "cell_type": "markdown",
   "metadata": {},
   "source": [
    "![Fig.4.3.Result-External-Call](img/Fig.4.3.Result-External-Call.png)"
   ]
  },
  {
   "cell_type": "code",
   "execution_count": null,
   "metadata": {},
   "outputs": [],
   "source": []
  }
 ],
 "metadata": {
  "kernelspec": {
   "display_name": "conda_python3",
   "language": "python",
   "name": "conda_python3"
  },
  "language_info": {
   "codemirror_mode": {
    "name": "ipython",
    "version": 3
   },
   "file_extension": ".py",
   "mimetype": "text/x-python",
   "name": "python",
   "nbconvert_exporter": "python",
   "pygments_lexer": "ipython3",
   "version": "3.6.10"
  }
 },
 "nbformat": 4,
 "nbformat_minor": 4
}
