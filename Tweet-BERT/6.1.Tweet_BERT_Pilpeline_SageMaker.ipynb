{
 "cells": [
  {
   "cell_type": "markdown",
   "metadata": {},
   "source": [
    "# [Module 6.1] Model Training on SageMaker Component in Kubeflow\n"
   ]
  },
  {
   "cell_type": "markdown",
   "metadata": {},
   "source": [
    "아래는 Kubeflow "
   ]
  },
  {
   "cell_type": "markdown",
   "metadata": {},
   "source": [
    "![kubeflowPipeline](img/kubeflow-pipeline.png)"
   ]
  },
  {
   "cell_type": "markdown",
   "metadata": {},
   "source": [
    "아래는 "
   ]
  },
  {
   "cell_type": "markdown",
   "metadata": {},
   "source": [
    "![kubeflow-training](img/kubeflow-training.png)"
   ]
  },
  {
   "cell_type": "code",
   "execution_count": null,
   "metadata": {},
   "outputs": [],
   "source": []
  },
  {
   "cell_type": "markdown",
   "metadata": {},
   "source": [
    "![kubeflow-creating-model](img/kubeflow-creating-model.png)"
   ]
  },
  {
   "cell_type": "code",
   "execution_count": null,
   "metadata": {},
   "outputs": [],
   "source": []
  },
  {
   "cell_type": "markdown",
   "metadata": {},
   "source": [
    "![kubeflow-sagemaker-train-job](img/kubeflow-sagemaker-train-job.png)"
   ]
  },
  {
   "cell_type": "markdown",
   "metadata": {},
   "source": [
    "**아래 pip install boto3 가 에러시 커널을 리스트하고 해주세요**"
   ]
  },
  {
   "cell_type": "code",
   "execution_count": 82,
   "metadata": {},
   "outputs": [
    {
     "name": "stdout",
     "output_type": "stream",
     "text": [
      "Requirement already satisfied: boto3 in /home/ec2-user/anaconda3/envs/python3/lib/python3.6/site-packages (1.14.27)\n",
      "Requirement already satisfied: s3transfer<0.4.0,>=0.3.0 in /home/ec2-user/anaconda3/envs/python3/lib/python3.6/site-packages (from boto3) (0.3.3)\n",
      "Requirement already satisfied: jmespath<1.0.0,>=0.7.1 in /home/ec2-user/anaconda3/envs/python3/lib/python3.6/site-packages (from boto3) (0.9.4)\n",
      "Requirement already satisfied: botocore<1.18.0,>=1.17.27 in /home/ec2-user/anaconda3/envs/python3/lib/python3.6/site-packages (from boto3) (1.17.27)\n",
      "Requirement already satisfied: python-dateutil<3.0.0,>=2.1 in /home/ec2-user/anaconda3/envs/python3/lib/python3.6/site-packages (from botocore<1.18.0,>=1.17.27->boto3) (2.8.1)\n",
      "Requirement already satisfied: urllib3<1.26,>=1.20; python_version != \"3.4\" in /home/ec2-user/anaconda3/envs/python3/lib/python3.6/site-packages (from botocore<1.18.0,>=1.17.27->boto3) (1.24.3)\n",
      "Requirement already satisfied: docutils<0.16,>=0.10 in /home/ec2-user/anaconda3/envs/python3/lib/python3.6/site-packages (from botocore<1.18.0,>=1.17.27->boto3) (0.15.2)\n",
      "Requirement already satisfied: six>=1.5 in /home/ec2-user/anaconda3/envs/python3/lib/python3.6/site-packages (from python-dateutil<3.0.0,>=2.1->botocore<1.18.0,>=1.17.27->boto3) (1.14.0)\n"
     ]
    }
   ],
   "source": [
    "! pip install boto3 --user"
   ]
  },
  {
   "cell_type": "markdown",
   "metadata": {},
   "source": [
    "## Install Kubeflow Pipelines SDK"
   ]
  },
  {
   "cell_type": "code",
   "execution_count": 83,
   "metadata": {},
   "outputs": [
    {
     "name": "stdout",
     "output_type": "stream",
     "text": [
      "Collecting https://storage.googleapis.com/ml-pipeline/release/0.1.29/kfp.tar.gz\n",
      "  Using cached https://storage.googleapis.com/ml-pipeline/release/0.1.29/kfp.tar.gz (88 kB)\n",
      "Requirement already satisfied, skipping upgrade: urllib3<1.25,>=1.15 in /home/ec2-user/anaconda3/envs/python3/lib/python3.6/site-packages (from kfp==0.1.29) (1.24.3)\n",
      "Requirement already satisfied, skipping upgrade: six>=1.10 in /home/ec2-user/anaconda3/envs/python3/lib/python3.6/site-packages (from kfp==0.1.29) (1.14.0)\n",
      "Requirement already satisfied, skipping upgrade: certifi in /home/ec2-user/anaconda3/envs/python3/lib/python3.6/site-packages (from kfp==0.1.29) (2020.4.5.2)\n",
      "Requirement already satisfied, skipping upgrade: python-dateutil in /home/ec2-user/anaconda3/envs/python3/lib/python3.6/site-packages (from kfp==0.1.29) (2.8.1)\n",
      "Requirement already satisfied, skipping upgrade: PyYAML in /home/ec2-user/anaconda3/envs/python3/lib/python3.6/site-packages (from kfp==0.1.29) (5.3.1)\n",
      "Requirement already satisfied, skipping upgrade: google-cloud-storage>=1.13.0 in /home/ec2-user/anaconda3/envs/python3/lib/python3.6/site-packages (from kfp==0.1.29) (1.30.0)\n",
      "Requirement already satisfied, skipping upgrade: kubernetes<=9.0.0,>=8.0.0 in /home/ec2-user/anaconda3/envs/python3/lib/python3.6/site-packages (from kfp==0.1.29) (9.0.0)\n",
      "Requirement already satisfied, skipping upgrade: PyJWT>=1.6.4 in /home/ec2-user/anaconda3/envs/python3/lib/python3.6/site-packages (from kfp==0.1.29) (1.7.1)\n",
      "Requirement already satisfied, skipping upgrade: cryptography>=2.4.2 in /home/ec2-user/anaconda3/envs/python3/lib/python3.6/site-packages (from kfp==0.1.29) (2.8)\n",
      "Requirement already satisfied, skipping upgrade: google-auth>=1.6.1 in /home/ec2-user/anaconda3/envs/python3/lib/python3.6/site-packages (from kfp==0.1.29) (1.20.0)\n",
      "Requirement already satisfied, skipping upgrade: requests_toolbelt>=0.8.0 in /home/ec2-user/anaconda3/envs/python3/lib/python3.6/site-packages (from kfp==0.1.29) (0.9.1)\n",
      "Requirement already satisfied, skipping upgrade: cloudpickle in /home/ec2-user/anaconda3/envs/python3/lib/python3.6/site-packages (from kfp==0.1.29) (1.3.0)\n",
      "Requirement already satisfied, skipping upgrade: kfp-server-api<=0.1.25,>=0.1.18 in /home/ec2-user/anaconda3/envs/python3/lib/python3.6/site-packages (from kfp==0.1.29) (0.1.18.3)\n",
      "Requirement already satisfied, skipping upgrade: argo-models==2.2.1a in /home/ec2-user/anaconda3/envs/python3/lib/python3.6/site-packages (from kfp==0.1.29) (2.2.1a0)\n",
      "Requirement already satisfied, skipping upgrade: jsonschema>=3.0.1 in /home/ec2-user/anaconda3/envs/python3/lib/python3.6/site-packages (from kfp==0.1.29) (3.2.0)\n",
      "Requirement already satisfied, skipping upgrade: tabulate==0.8.3 in /home/ec2-user/anaconda3/envs/python3/lib/python3.6/site-packages (from kfp==0.1.29) (0.8.3)\n",
      "Requirement already satisfied, skipping upgrade: click==7.0 in /home/ec2-user/anaconda3/envs/python3/lib/python3.6/site-packages (from kfp==0.1.29) (7.0)\n",
      "Requirement already satisfied, skipping upgrade: Deprecated in /home/ec2-user/anaconda3/envs/python3/lib/python3.6/site-packages (from kfp==0.1.29) (1.2.10)\n",
      "Requirement already satisfied, skipping upgrade: google-cloud-core<2.0dev,>=1.2.0 in /home/ec2-user/anaconda3/envs/python3/lib/python3.6/site-packages (from google-cloud-storage>=1.13.0->kfp==0.1.29) (1.3.0)\n",
      "Requirement already satisfied, skipping upgrade: google-resumable-media<2.0dev,>=0.6.0 in /home/ec2-user/anaconda3/envs/python3/lib/python3.6/site-packages (from google-cloud-storage>=1.13.0->kfp==0.1.29) (0.7.0)\n",
      "Requirement already satisfied, skipping upgrade: websocket-client!=0.40.0,!=0.41.*,!=0.42.*,>=0.32.0 in /home/ec2-user/anaconda3/envs/python3/lib/python3.6/site-packages (from kubernetes<=9.0.0,>=8.0.0->kfp==0.1.29) (0.57.0)\n",
      "Requirement already satisfied, skipping upgrade: requests in /home/ec2-user/anaconda3/envs/python3/lib/python3.6/site-packages (from kubernetes<=9.0.0,>=8.0.0->kfp==0.1.29) (2.23.0)\n",
      "Requirement already satisfied, skipping upgrade: requests-oauthlib in /home/ec2-user/anaconda3/envs/python3/lib/python3.6/site-packages (from kubernetes<=9.0.0,>=8.0.0->kfp==0.1.29) (1.3.0)\n",
      "Requirement already satisfied, skipping upgrade: setuptools>=21.0.0 in /home/ec2-user/anaconda3/envs/python3/lib/python3.6/site-packages (from kubernetes<=9.0.0,>=8.0.0->kfp==0.1.29) (46.1.3.post20200330)\n",
      "Requirement already satisfied, skipping upgrade: cffi!=1.11.3,>=1.8 in /home/ec2-user/anaconda3/envs/python3/lib/python3.6/site-packages (from cryptography>=2.4.2->kfp==0.1.29) (1.14.0)\n",
      "Requirement already satisfied, skipping upgrade: cachetools<5.0,>=2.0.0 in /home/ec2-user/anaconda3/envs/python3/lib/python3.6/site-packages (from google-auth>=1.6.1->kfp==0.1.29) (4.1.1)\n",
      "Requirement already satisfied, skipping upgrade: pyasn1-modules>=0.2.1 in /home/ec2-user/anaconda3/envs/python3/lib/python3.6/site-packages (from google-auth>=1.6.1->kfp==0.1.29) (0.2.8)\n",
      "Requirement already satisfied, skipping upgrade: rsa<5,>=3.1.4; python_version >= \"3.5\" in /home/ec2-user/anaconda3/envs/python3/lib/python3.6/site-packages (from google-auth>=1.6.1->kfp==0.1.29) (4.5)\n",
      "Requirement already satisfied, skipping upgrade: attrs>=17.4.0 in /home/ec2-user/anaconda3/envs/python3/lib/python3.6/site-packages (from jsonschema>=3.0.1->kfp==0.1.29) (19.3.0)\n",
      "Requirement already satisfied, skipping upgrade: pyrsistent>=0.14.0 in /home/ec2-user/anaconda3/envs/python3/lib/python3.6/site-packages (from jsonschema>=3.0.1->kfp==0.1.29) (0.16.0)\n",
      "Requirement already satisfied, skipping upgrade: importlib-metadata; python_version < \"3.8\" in /home/ec2-user/anaconda3/envs/python3/lib/python3.6/site-packages (from jsonschema>=3.0.1->kfp==0.1.29) (1.5.0)\n",
      "Requirement already satisfied, skipping upgrade: wrapt<2,>=1.10 in /home/ec2-user/anaconda3/envs/python3/lib/python3.6/site-packages (from Deprecated->kfp==0.1.29) (1.12.1)\n",
      "Requirement already satisfied, skipping upgrade: google-api-core<2.0.0dev,>=1.16.0 in /home/ec2-user/anaconda3/envs/python3/lib/python3.6/site-packages (from google-cloud-core<2.0dev,>=1.2.0->google-cloud-storage>=1.13.0->kfp==0.1.29) (1.22.0)\n",
      "Requirement already satisfied, skipping upgrade: google-crc32c>=0.1.0; python_version >= \"3.5\" in /home/ec2-user/anaconda3/envs/python3/lib/python3.6/site-packages (from google-resumable-media<2.0dev,>=0.6.0->google-cloud-storage>=1.13.0->kfp==0.1.29) (0.1.0)\n",
      "Requirement already satisfied, skipping upgrade: idna<3,>=2.5 in /home/ec2-user/anaconda3/envs/python3/lib/python3.6/site-packages (from requests->kubernetes<=9.0.0,>=8.0.0->kfp==0.1.29) (2.9)\n",
      "Requirement already satisfied, skipping upgrade: chardet<4,>=3.0.2 in /home/ec2-user/anaconda3/envs/python3/lib/python3.6/site-packages (from requests->kubernetes<=9.0.0,>=8.0.0->kfp==0.1.29) (3.0.4)\n",
      "Requirement already satisfied, skipping upgrade: oauthlib>=3.0.0 in /home/ec2-user/anaconda3/envs/python3/lib/python3.6/site-packages (from requests-oauthlib->kubernetes<=9.0.0,>=8.0.0->kfp==0.1.29) (3.1.0)\n",
      "Requirement already satisfied, skipping upgrade: pycparser in /home/ec2-user/anaconda3/envs/python3/lib/python3.6/site-packages (from cffi!=1.11.3,>=1.8->cryptography>=2.4.2->kfp==0.1.29) (2.20)\n",
      "Requirement already satisfied, skipping upgrade: pyasn1<0.5.0,>=0.4.6 in /home/ec2-user/anaconda3/envs/python3/lib/python3.6/site-packages (from pyasn1-modules>=0.2.1->google-auth>=1.6.1->kfp==0.1.29) (0.4.8)\n",
      "Requirement already satisfied, skipping upgrade: zipp>=0.5 in /home/ec2-user/anaconda3/envs/python3/lib/python3.6/site-packages (from importlib-metadata; python_version < \"3.8\"->jsonschema>=3.0.1->kfp==0.1.29) (2.2.0)\n",
      "Requirement already satisfied, skipping upgrade: googleapis-common-protos<2.0dev,>=1.6.0 in /home/ec2-user/anaconda3/envs/python3/lib/python3.6/site-packages (from google-api-core<2.0.0dev,>=1.16.0->google-cloud-core<2.0dev,>=1.2.0->google-cloud-storage>=1.13.0->kfp==0.1.29) (1.52.0)\n",
      "Requirement already satisfied, skipping upgrade: protobuf>=3.12.0 in /home/ec2-user/anaconda3/envs/python3/lib/python3.6/site-packages (from google-api-core<2.0.0dev,>=1.16.0->google-cloud-core<2.0dev,>=1.2.0->google-cloud-storage>=1.13.0->kfp==0.1.29) (3.12.2)\n",
      "Requirement already satisfied, skipping upgrade: pytz in /home/ec2-user/anaconda3/envs/python3/lib/python3.6/site-packages (from google-api-core<2.0.0dev,>=1.16.0->google-cloud-core<2.0dev,>=1.2.0->google-cloud-storage>=1.13.0->kfp==0.1.29) (2019.3)\n",
      "Building wheels for collected packages: kfp\n",
      "  Building wheel for kfp (setup.py) ... \u001b[?25ldone\n",
      "\u001b[?25h  Created wheel for kfp: filename=kfp-0.1.29-py3-none-any.whl size=122731 sha256=7116a37385c0e0afbd39b237e5de34cba35b1595fa9640b997da312bec2b5100\n",
      "  Stored in directory: /tmp/pip-ephem-wheel-cache-t99mi20p/wheels/88/a3/ee/c4fcecb08dc7a40d1a893262178176ff83fa48e4caa1ce66b6\n",
      "Successfully built kfp\n",
      "Installing collected packages: kfp\n",
      "\u001b[33m  WARNING: The scripts dsl-compile and kfp are installed in '/home/ec2-user/.local/bin' which is not on PATH.\n",
      "  Consider adding this directory to PATH or, if you prefer to suppress this warning, use --no-warn-script-location.\u001b[0m\n",
      "Successfully installed kfp-0.1.29\n"
     ]
    }
   ],
   "source": [
    "!pip install https://storage.googleapis.com/ml-pipeline/release/0.1.29/kfp.tar.gz --upgrade --user"
   ]
  },
  {
   "cell_type": "code",
   "execution_count": 78,
   "metadata": {},
   "outputs": [
    {
     "name": "stdout",
     "output_type": "stream",
     "text": [
      "Account ID: 343441690612\n",
      "S3 Bucket: sagemaker-ap-northeast-2-343441690612\n"
     ]
    }
   ],
   "source": [
    "import boto3\n",
    "\n",
    "#################################\n",
    "#################################\n",
    "# REPLACE AWS_REGION= with the current region\n",
    "#  surround with single quotes\n",
    "AWS_REGION='ap-northeast-2'\n",
    "\n",
    "AWS_ACCOUNT_ID=boto3.client('sts').get_caller_identity().get('Account')\n",
    "print('Account ID: {}'.format(AWS_ACCOUNT_ID))\n",
    "\n",
    "S3_BUCKET='sagemaker-{}-{}'.format(AWS_REGION, AWS_ACCOUNT_ID)\n",
    "print('S3 Bucket: {}'.format(S3_BUCKET))"
   ]
  },
  {
   "cell_type": "markdown",
   "metadata": {},
   "source": [
    "# Build Pipeline "
   ]
  },
  {
   "cell_type": "markdown",
   "metadata": {},
   "source": [
    "## 1. Run the following command to load Kubeflow Pipelines SDK"
   ]
  },
  {
   "cell_type": "code",
   "execution_count": 79,
   "metadata": {},
   "outputs": [],
   "source": [
    "import kfp\n",
    "from kfp import components\n",
    "from kfp import dsl\n",
    "from kfp.aws import use_aws_secret"
   ]
  },
  {
   "cell_type": "markdown",
   "metadata": {},
   "source": [
    "## 2.Load reusable sagemaker components"
   ]
  },
  {
   "cell_type": "code",
   "execution_count": 80,
   "metadata": {},
   "outputs": [],
   "source": [
    "# sagemaker_train_op = components.load_component_from_url('https://raw.githubusercontent.com/kubeflow/pipelines/0ad6c28d32e2e790e6a129b7eb1de8ec59c1d45f/components/aws/sagemaker/train/component.yaml')\n",
    "sagemaker_train_op = components.load_component_from_url('https://raw.githubusercontent.com/kubeflow/pipelines/cb36f87b727df0578f4c1e3fe9c24a30bb59e5a2/components/aws/sagemaker/train/component.yaml')\n",
    "sagemaker_model_op = components.load_component_from_url('https://raw.githubusercontent.com/kubeflow/pipelines/0ad6c28d32e2e790e6a129b7eb1de8ec59c1d45f/components/aws/sagemaker/model/component.yaml')\n",
    "sagemaker_deploy_op = components.load_component_from_url('https://raw.githubusercontent.com/kubeflow/pipelines/0ad6c28d32e2e790e6a129b7eb1de8ec59c1d45f/components/aws/sagemaker/deploy/component.yaml')\n"
   ]
  },
  {
   "cell_type": "code",
   "execution_count": 81,
   "metadata": {},
   "outputs": [
    {
     "name": "stdout",
     "output_type": "stream",
     "text": [
      "s3_train: \n",
      " s3://sagemaker-ap-northeast-2-343441690612/sagemaker-scikit-learn-2020-08-02-11-44-02-899/output/bert-train\n",
      "s3_validation: \n",
      " s3://sagemaker-ap-northeast-2-343441690612/sagemaker-scikit-learn-2020-08-02-11-44-02-899/output/bert-validation\n",
      "s3_test: \n",
      " s3://sagemaker-ap-northeast-2-343441690612/sagemaker-scikit-learn-2020-08-02-11-44-02-899/output/bert-test\n"
     ]
    }
   ],
   "source": [
    "train_prefix = 'sagemaker-scikit-learn-2020-08-02-11-44-02-899/output/bert-train'\n",
    "s3_train = \"s3://{}/{}\".format(S3_BUCKET, train_prefix)\n",
    "print(\"s3_train: \\n\", s3_train)\n",
    "\n",
    "validation_prefix = 'sagemaker-scikit-learn-2020-08-02-11-44-02-899/output/bert-validation'\n",
    "s3_validation = \"s3://{}/{}\".format(S3_BUCKET, validation_prefix)\n",
    "print(\"s3_validation: \\n\", s3_validation)\n",
    "\n",
    "test_prefix = 'sagemaker-scikit-learn-2020-08-02-11-44-02-899/output/bert-test'\n",
    "s3_test = \"s3://{}/{}\".format(S3_BUCKET, test_prefix)\n",
    "print(\"s3_test: \\n\", s3_test)"
   ]
  },
  {
   "cell_type": "code",
   "execution_count": 41,
   "metadata": {},
   "outputs": [],
   "source": [
    "channels='[ \\\n",
    "                    { \\\n",
    "                        \"ChannelName\": \"train\", \\\n",
    "                        \"DataSource\": { \\\n",
    "                            \"S3DataSource\": { \\\n",
    "                                \"S3DataType\": \"S3Prefix\", \\\n",
    "                                \"S3Uri\": \"'+s3_train+'\", \\\n",
    "                                \"S3DataDistributionType\": \"ShardedByS3Key\" \\\n",
    "                            } \\\n",
    "                        }, \\\n",
    "                        \"CompressionType\": \"None\", \\\n",
    "                        \"RecordWrapperType\": \"None\" \\\n",
    "                    }, \\\n",
    "                    { \\\n",
    "                        \"ChannelName\": \"validation\", \\\n",
    "                        \"DataSource\": { \\\n",
    "                            \"S3DataSource\": { \\\n",
    "                                \"S3DataType\": \"S3Prefix\", \\\n",
    "                                \"S3Uri\": \"'+s3_validation+'\", \\\n",
    "                                \"S3DataDistributionType\": \"ShardedByS3Key\" \\\n",
    "                            } \\\n",
    "                        }, \\\n",
    "                        \"CompressionType\": \"None\", \\\n",
    "                        \"RecordWrapperType\": \"None\" \\\n",
    "                    }, \\\n",
    "                    { \\\n",
    "                        \"ChannelName\": \"test\", \\\n",
    "                        \"DataSource\": { \\\n",
    "                            \"S3DataSource\": { \\\n",
    "                                \"S3DataType\": \"S3Prefix\", \\\n",
    "                                \"S3Uri\": \"'+s3_test+'\", \\\n",
    "                                \"S3DataDistributionType\": \"ShardedByS3Key\" \\\n",
    "                            } \\\n",
    "                        }, \\\n",
    "                        \"CompressionType\": \"None\", \\\n",
    "                        \"RecordWrapperType\": \"None\" \\\n",
    "                    } \\\n",
    "                ]'"
   ]
  },
  {
   "cell_type": "code",
   "execution_count": 67,
   "metadata": {},
   "outputs": [],
   "source": [
    "epochs= \"10\"\n",
    "train_steps_per_epoch= \"100\"\n",
    "\n",
    "max_seq_length = \"32\"\n",
    "learning_rate= \"1e-5\"\n",
    "epsilon= \"0.00000001\"\n",
    "train_batch_size= \"128\"\n",
    "validation_batch_size= \"128\"\n",
    "test_batch_size= \"128\"\n",
    "\n",
    "validation_steps= \"100\"\n",
    "test_steps= \"100\"\n",
    "\n",
    "train_instance_count= \"2\" \n",
    "train_instance_type='ml.p3.2xlarge'\n",
    "train_volume_size= \"1024\"\n",
    "\n",
    "use_xla= \"True\"\n",
    "use_amp= \"True\"\n",
    "freeze_bert_layer= \"False\"\n",
    "enable_checkpointing= \"True\"\n",
    "input_mode='Pipe'"
   ]
  },
  {
   "cell_type": "markdown",
   "metadata": {},
   "source": [
    "## 3.Create Pipeline"
   ]
  },
  {
   "cell_type": "code",
   "execution_count": 68,
   "metadata": {},
   "outputs": [],
   "source": [
    "SAGEMAKER_ROLE_ARN = 'arn:aws:iam::343441690612:role/service-role/AmazonSageMaker-ExecutionRole-20200801T163342'"
   ]
  },
  {
   "cell_type": "code",
   "execution_count": 69,
   "metadata": {},
   "outputs": [],
   "source": [
    "\n",
    "# Configure your s3 bucket\n",
    "# S3_PIPELINE_PATH= 's3://{}/'.format(S3_BUCKET)\n",
    "# processed_train_data_s3_uri = 's3://sagemaker-us-west-2-057716757052/sagemaker-scikit-learn-2020-06-28-05-08-39-660/output/bert-train'\n",
    "# processed_validation_data_s3_uri = 's3://sagemaker-us-west-2-057716757052/sagemaker-scikit-learn-2020-06-28-05-08-39-660/output/bert-validation'\n",
    "# processed_test_data_s3_uri = 's3://sagemaker-us-west-2-057716757052/sagemaker-scikit-learn-2020-06-28-05-08-39-660/output/bert-test'\n",
    "\n",
    "if AWS_REGION == 'ap-northeast-2':\n",
    "    AWS_ECR_TRAIN_REGISTRY = \"343441690612.dkr.ecr.ap-northeast-2.amazonaws.com/bert2tweet:latest\"\n",
    "    \n",
    "\n",
    "# TF_INFER_IMAGE = \"520713654638.dkr.ecr.us-west-2.amazonaws.com/sagemaker-tensorflow-serving:1.12.0-cpu\"\n",
    "# TF_INFER_IMAGE = \"520713654638.dkr.ecr.us-west-2.amazonaws.com/sagemaker-tensorflow-serving:1.14.0-cpu\"\n",
    "# TF_INFER_IMAGE = \"520713654638.dkr.ecr.us-west-2.amazonaws.com/sagemaker-tensorflow-serving:2.1.0-cpu\"\n",
    "# TF_INFER_IMAGE = '520713654638.dkr.ecr.us-west-2.amazonaws.com/sagemaker-tensorflow-serving:1.13.1-gpu'\n",
    "TF_INFER_IMAGE = '520713654638.dkr.ecr.ap-northeast-2.amazonaws.com/sagemaker-tensorflow-serving:1.14.0-gpu'\n",
    "\n",
    "model_output_prefix = 'sagemaker-scikit-learn-2020-08-02-01-14-52-546/model'\n",
    "model_output_path = 's3://{}/{}'.format(S3_BUCKET,model_output_prefix )\n",
    "# model_output_path = 's3://sagemaker-us-west-2-057716757052/sagemaker-scikit-learn-2020-06-28-05-08-39-660/model'"
   ]
  },
  {
   "cell_type": "code",
   "execution_count": 70,
   "metadata": {},
   "outputs": [],
   "source": [
    "@dsl.pipeline(\n",
    "    name='Tweet BERT Classification pipeline',\n",
    "    description='Tweet BERT Classification using KMEANS in SageMaker'\n",
    ")\n",
    "def tweet_BERT(\n",
    "    region = AWS_REGION,\n",
    "    image = AWS_ECR_TRAIN_REGISTRY,\n",
    "    dataset_path = channels,\n",
    "    instance_type = 'ml.p3.2xlarge',\n",
    "    instance_count = 2,\n",
    "    volume_size = '50',\n",
    "    model_putput_path = model_output_path,\n",
    "    role_arn = SAGEMAKER_ROLE_ARN,\n",
    "    network_isolation='False',\n",
    "    traffic_encryption='False',\n",
    "    spot_instance='False'    \n",
    "    ):\n",
    "    # Component 1\n",
    "    training = sagemaker_train_op(\n",
    "        region = region,\n",
    "        image = image,\n",
    "        channels=channels,        \n",
    "        instance_type = instance_type,\n",
    "        instance_count = instance_count,\n",
    "        volume_size = volume_size,\n",
    "        model_artifact_path=model_output_path,\n",
    "        role=role_arn,\n",
    "        network_isolation=network_isolation,\n",
    "        traffic_encryption=traffic_encryption,\n",
    "        spot_instance=spot_instance,        \n",
    "        hyperparameters={'epochs': epochs,\n",
    "                        'learning_rate': learning_rate,\n",
    "                        'epsilon': epsilon,\n",
    "                        'train_batch_size': train_batch_size,\n",
    "                        'validation_batch_size': validation_batch_size,\n",
    "                        'test_batch_size': test_batch_size,                                             \n",
    "                        'train_steps_per_epoch': train_steps_per_epoch,\n",
    "                        'validation_steps': validation_steps,\n",
    "                        'test_steps': test_steps,\n",
    "                        'use_xla': use_xla,\n",
    "                        'use_amp': use_amp,                                             \n",
    "                        'max_seq_length': max_seq_length,\n",
    "                        'freeze_bert_layer': freeze_bert_layer,\n",
    "                        'enable_checkpointing': enable_checkpointing\n",
    "                        },        \n",
    "    ).apply(use_aws_secret('aws-secret', 'AWS_ACCESS_KEY_ID', 'AWS_SECRET_ACCESS_KEY'))        \n",
    "    # Component 2\n",
    "    create_model = sagemaker_model_op(\n",
    "        region = region,\n",
    "        image = TF_INFER_IMAGE,\n",
    "        model_artifact_url = training.outputs['model_artifact_url'],\n",
    "        model_name = training.outputs['job_name'],\n",
    "        role = role_arn\n",
    "    ).apply(use_aws_secret('aws-secret', 'AWS_ACCESS_KEY_ID', 'AWS_SECRET_ACCESS_KEY'))\n",
    "    \n",
    "#     # Component 3\n",
    "#     prediction = sagemaker_deploy_op(\n",
    "#         region=region,\n",
    "#         model_name=create_model.output\n",
    "#     ).apply(use_aws_secret('aws-secret', 'AWS_ACCESS_KEY_ID', 'AWS_SECRET_ACCESS_KEY'))\n"
   ]
  },
  {
   "cell_type": "code",
   "execution_count": 71,
   "metadata": {},
   "outputs": [
    {
     "name": "stderr",
     "output_type": "stream",
     "text": [
      "/home/ec2-user/anaconda3/envs/python3/lib/python3.6/site-packages/kfp/components/_data_passing.py:94: UserWarning: Missing type name was inferred as \"JsonObject\" based on the value \"{'epochs': '5', 'learning_rate': '1e-5', 'epsilon': '0.00000001', 'train_batch_size': '128', 'validation_batch_size': '128', 'test_batch_size': '128', 'train_steps_per_epoch': '100', 'validation_steps': '100', 'test_steps': '100', 'use_xla': 'True', 'use_amp': 'True', 'max_seq_length': '32', 'freeze_bert_layer': 'False', 'enable_checkpointing': 'True'}\".\n",
      "  warnings.warn('Missing type name was inferred as \"{}\" based on the value \"{}\".'.format(type_name, str(value)))\n"
     ]
    }
   ],
   "source": [
    "kfp.compiler.Compiler().compile(tweet_BERT, 'tweet_BERT.zip')"
   ]
  },
  {
   "cell_type": "code",
   "execution_count": 72,
   "metadata": {},
   "outputs": [
    {
     "name": "stdout",
     "output_type": "stream",
     "text": [
      "Archive:  ./tweet_BERT.zip\n",
      "  inflating: pipeline.yaml           \n"
     ]
    }
   ],
   "source": [
    "!unzip -o ./tweet_BERT.zip"
   ]
  },
  {
   "cell_type": "code",
   "execution_count": 73,
   "metadata": {},
   "outputs": [],
   "source": [
    "# !cat pipeline.yaml"
   ]
  },
  {
   "cell_type": "code",
   "execution_count": 74,
   "metadata": {},
   "outputs": [],
   "source": [
    "import time"
   ]
  },
  {
   "cell_type": "code",
   "execution_count": 75,
   "metadata": {},
   "outputs": [
    {
     "data": {
      "text/html": [
       "Experiment link <a href=\"/pipeline/#/experiments/details/78fea37c-eb80-4ecb-9c02-c915476101b2\" target=\"_blank\" >here</a>"
      ],
      "text/plain": [
       "<IPython.core.display.HTML object>"
      ]
     },
     "metadata": {},
     "output_type": "display_data"
    },
    {
     "data": {
      "text/html": [
       "Run link <a href=\"/pipeline/#/runs/details/6ed6521a-ae99-43cc-aa35-d194bd471949\" target=\"_blank\" >here</a>"
      ],
      "text/plain": [
       "<IPython.core.display.HTML object>"
      ]
     },
     "metadata": {},
     "output_type": "display_data"
    }
   ],
   "source": [
    "client = kfp.Client()\n",
    "aws_experiment = client.create_experiment(name='aws')\n",
    "\n",
    "exp_name    = f'tweet-BERT-train-deploy-kfp-{time.strftime(\"%Y-%m-%d-%H-%M-%S\", time.gmtime())}'\n",
    "my_run = client.run_pipeline(aws_experiment.id, exp_name, 'tweet_BERT.zip')"
   ]
  },
  {
   "cell_type": "code",
   "execution_count": null,
   "metadata": {},
   "outputs": [],
   "source": []
  },
  {
   "cell_type": "code",
   "execution_count": null,
   "metadata": {},
   "outputs": [],
   "source": []
  }
 ],
 "metadata": {
  "kernelspec": {
   "display_name": "conda_python3",
   "language": "python",
   "name": "conda_python3"
  },
  "language_info": {
   "codemirror_mode": {
    "name": "ipython",
    "version": 3
   },
   "file_extension": ".py",
   "mimetype": "text/x-python",
   "name": "python",
   "nbconvert_exporter": "python",
   "pygments_lexer": "ipython3",
   "version": "3.6.10"
  }
 },
 "nbformat": 4,
 "nbformat_minor": 4
}
