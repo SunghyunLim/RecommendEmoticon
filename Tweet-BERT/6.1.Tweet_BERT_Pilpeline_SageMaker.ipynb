{
 "cells": [
  {
   "cell_type": "markdown",
   "metadata": {},
   "source": [
    "# Build an Tweet BERT Classifier Pipeline using Kubeflow and SageMaker"
   ]
  },
  {
   "cell_type": "code",
   "execution_count": 103,
   "metadata": {},
   "outputs": [
    {
     "name": "stdout",
     "output_type": "stream",
     "text": [
      "Requirement already satisfied: boto3 in /home/ec2-user/anaconda3/envs/python3/lib/python3.6/site-packages (1.13.22)\n",
      "Requirement already satisfied: jmespath<1.0.0,>=0.7.1 in /home/ec2-user/anaconda3/envs/python3/lib/python3.6/site-packages (from boto3) (0.9.4)\n",
      "Requirement already satisfied: botocore<1.17.0,>=1.16.22 in /home/ec2-user/anaconda3/envs/python3/lib/python3.6/site-packages (from boto3) (1.16.22)\n",
      "Requirement already satisfied: s3transfer<0.4.0,>=0.3.0 in /home/ec2-user/anaconda3/envs/python3/lib/python3.6/site-packages (from boto3) (0.3.3)\n",
      "Requirement already satisfied: python-dateutil<3.0.0,>=2.1 in /home/ec2-user/anaconda3/envs/python3/lib/python3.6/site-packages (from botocore<1.17.0,>=1.16.22->boto3) (2.8.1)\n",
      "Requirement already satisfied: docutils<0.16,>=0.10 in /home/ec2-user/anaconda3/envs/python3/lib/python3.6/site-packages (from botocore<1.17.0,>=1.16.22->boto3) (0.15.2)\n",
      "Requirement already satisfied: urllib3<1.26,>=1.20; python_version != \"3.4\" in /home/ec2-user/anaconda3/envs/python3/lib/python3.6/site-packages (from botocore<1.17.0,>=1.16.22->boto3) (1.25.8)\n",
      "Requirement already satisfied: six>=1.5 in /home/ec2-user/anaconda3/envs/python3/lib/python3.6/site-packages (from python-dateutil<3.0.0,>=2.1->botocore<1.17.0,>=1.16.22->boto3) (1.15.0)\n"
     ]
    }
   ],
   "source": [
    "! pip install boto3"
   ]
  },
  {
   "cell_type": "markdown",
   "metadata": {},
   "source": [
    "## Install Kubeflow Pipelines SDK"
   ]
  },
  {
   "cell_type": "code",
   "execution_count": 104,
   "metadata": {},
   "outputs": [],
   "source": [
    "# !pip install https://storage.googleapis.com/ml-pipeline/release/0.1.29/kfp.tar.gz --upgrade"
   ]
  },
  {
   "cell_type": "code",
   "execution_count": 105,
   "metadata": {},
   "outputs": [
    {
     "name": "stdout",
     "output_type": "stream",
     "text": [
      "Account ID: 057716757052\n",
      "S3 Bucket: sagemaker-us-west-2-057716757052\n"
     ]
    }
   ],
   "source": [
    "import boto3\n",
    "\n",
    "#################################\n",
    "#################################\n",
    "# REPLACE AWS_REGION= with the current region\n",
    "#  surround with single quotes\n",
    "AWS_REGION='us-west-2'\n",
    "\n",
    "AWS_ACCOUNT_ID=boto3.client('sts').get_caller_identity().get('Account')\n",
    "print('Account ID: {}'.format(AWS_ACCOUNT_ID))\n",
    "\n",
    "S3_BUCKET='sagemaker-{}-{}'.format(AWS_REGION, AWS_ACCOUNT_ID)\n",
    "print('S3 Bucket: {}'.format(S3_BUCKET))"
   ]
  },
  {
   "cell_type": "markdown",
   "metadata": {},
   "source": [
    "# Build Pipeline "
   ]
  },
  {
   "cell_type": "markdown",
   "metadata": {},
   "source": [
    "## 1. Run the following command to load Kubeflow Pipelines SDK"
   ]
  },
  {
   "cell_type": "code",
   "execution_count": 106,
   "metadata": {},
   "outputs": [],
   "source": [
    "import kfp\n",
    "from kfp import components\n",
    "from kfp import dsl\n",
    "from kfp.aws import use_aws_secret"
   ]
  },
  {
   "cell_type": "markdown",
   "metadata": {},
   "source": [
    "## 2.Load reusable sagemaker components"
   ]
  },
  {
   "cell_type": "code",
   "execution_count": 107,
   "metadata": {},
   "outputs": [],
   "source": [
    "# sagemaker_train_op = components.load_component_from_url('https://raw.githubusercontent.com/kubeflow/pipelines/0ad6c28d32e2e790e6a129b7eb1de8ec59c1d45f/components/aws/sagemaker/train/component.yaml')\n",
    "sagemaker_train_op = components.load_component_from_url('https://raw.githubusercontent.com/kubeflow/pipelines/cb36f87b727df0578f4c1e3fe9c24a30bb59e5a2/components/aws/sagemaker/train/component.yaml')\n",
    "sagemaker_model_op = components.load_component_from_url('https://raw.githubusercontent.com/kubeflow/pipelines/0ad6c28d32e2e790e6a129b7eb1de8ec59c1d45f/components/aws/sagemaker/model/component.yaml')\n",
    "sagemaker_deploy_op = components.load_component_from_url('https://raw.githubusercontent.com/kubeflow/pipelines/0ad6c28d32e2e790e6a129b7eb1de8ec59c1d45f/components/aws/sagemaker/deploy/component.yaml')\n"
   ]
  },
  {
   "cell_type": "code",
   "execution_count": 108,
   "metadata": {},
   "outputs": [],
   "source": [
    "channels='[ \\\n",
    "                    { \\\n",
    "                        \"ChannelName\": \"train\", \\\n",
    "                        \"DataSource\": { \\\n",
    "                            \"S3DataSource\": { \\\n",
    "                                \"S3DataType\": \"S3Prefix\", \\\n",
    "                                \"S3Uri\": \"s3://'+S3_BUCKET+'/sagemaker-scikit-learn-2020-06-28-05-08-39-660/output/bert-train\", \\\n",
    "                                \"S3DataDistributionType\": \"ShardedByS3Key\" \\\n",
    "                            } \\\n",
    "                        }, \\\n",
    "                        \"CompressionType\": \"None\", \\\n",
    "                        \"RecordWrapperType\": \"None\" \\\n",
    "                    }, \\\n",
    "                    { \\\n",
    "                        \"ChannelName\": \"validation\", \\\n",
    "                        \"DataSource\": { \\\n",
    "                            \"S3DataSource\": { \\\n",
    "                                \"S3DataType\": \"S3Prefix\", \\\n",
    "                                \"S3Uri\": \"s3://'+S3_BUCKET+'/sagemaker-scikit-learn-2020-06-28-05-08-39-660/output/bert-validation\", \\\n",
    "                                \"S3DataDistributionType\": \"ShardedByS3Key\" \\\n",
    "                            } \\\n",
    "                        }, \\\n",
    "                        \"CompressionType\": \"None\", \\\n",
    "                        \"RecordWrapperType\": \"None\" \\\n",
    "                    }, \\\n",
    "                    { \\\n",
    "                        \"ChannelName\": \"test\", \\\n",
    "                        \"DataSource\": { \\\n",
    "                            \"S3DataSource\": { \\\n",
    "                                \"S3DataType\": \"S3Prefix\", \\\n",
    "                                \"S3Uri\": \"s3://'+S3_BUCKET+'/sagemaker-scikit-learn-2020-06-28-05-08-39-660/output/bert-test\", \\\n",
    "                                \"S3DataDistributionType\": \"ShardedByS3Key\" \\\n",
    "                            } \\\n",
    "                        }, \\\n",
    "                        \"CompressionType\": \"None\", \\\n",
    "                        \"RecordWrapperType\": \"None\" \\\n",
    "                    } \\\n",
    "                ]'"
   ]
  },
  {
   "cell_type": "code",
   "execution_count": 109,
   "metadata": {},
   "outputs": [],
   "source": [
    "# epochs=1\n",
    "# train_steps_per_epoch=100\n",
    "\n",
    "# max_seq_length = 128\n",
    "# learning_rate=0.00001\n",
    "# epsilon=0.00000001\n",
    "# train_batch_size=128\n",
    "# validation_batch_size=128\n",
    "# test_batch_size=128\n",
    "\n",
    "# # train_steps_per_epoch=10\n",
    "# validation_steps=100\n",
    "# test_steps=100\n",
    "\n",
    "# train_instance_count=2 # modified by gonsoo\n",
    "# train_instance_type='ml.p3.2xlarge'\n",
    "# train_volume_size=1024\n",
    "\n",
    "# use_xla=True\n",
    "# use_amp=True\n",
    "# freeze_bert_layer=False\n",
    "# enable_checkpointing=True\n",
    "# input_mode='Pipe'"
   ]
  },
  {
   "cell_type": "code",
   "execution_count": 119,
   "metadata": {},
   "outputs": [],
   "source": [
    "epochs= \"1\"\n",
    "train_steps_per_epoch= \"1000\"\n",
    "\n",
    "max_seq_length = \"128\"\n",
    "learning_rate= \"0.00001\"\n",
    "epsilon= \"0.00000001\"\n",
    "train_batch_size= \"128\"\n",
    "validation_batch_size= \"128\"\n",
    "test_batch_size= \"128\"\n",
    "\n",
    "# train_steps_per_epoch=10\n",
    "validation_steps= \"100\"\n",
    "test_steps= \"100\"\n",
    "\n",
    "train_instance_count= \"2\" \n",
    "train_instance_type='ml.p3.2xlarge'\n",
    "train_volume_size= \"1024\"\n",
    "\n",
    "use_xla= \"True\"\n",
    "use_amp= \"True\"\n",
    "freeze_bert_layer= \"False\"\n",
    "enable_checkpointing= \"True\"\n",
    "input_mode='Pipe'"
   ]
  },
  {
   "cell_type": "markdown",
   "metadata": {},
   "source": [
    "## 3.Create Pipeline"
   ]
  },
  {
   "cell_type": "code",
   "execution_count": 120,
   "metadata": {},
   "outputs": [],
   "source": [
    "SAGEMAKER_ROLE_ARN = 'arn:aws:iam::057716757052:role/service-role/AmazonSageMaker-ExecutionRole-20191128T110038'\n",
    "# Configure your s3 bucket\n",
    "# S3_PIPELINE_PATH= 's3://{}/'.format(S3_BUCKET)\n",
    "# processed_train_data_s3_uri = 's3://sagemaker-us-west-2-057716757052/sagemaker-scikit-learn-2020-06-28-05-08-39-660/output/bert-train'\n",
    "# processed_validation_data_s3_uri = 's3://sagemaker-us-west-2-057716757052/sagemaker-scikit-learn-2020-06-28-05-08-39-660/output/bert-validation'\n",
    "# processed_test_data_s3_uri = 's3://sagemaker-us-west-2-057716757052/sagemaker-scikit-learn-2020-06-28-05-08-39-660/output/bert-test'\n",
    "\n",
    "if AWS_REGION == 'us-west-2':\n",
    "    AWS_ECR_REGISTRY = \"057716757052.dkr.ecr.us-west-2.amazonaws.com/bert2tweet:latest\"\n",
    "    \n",
    "model_output_path = 's3://sagemaker-us-west-2-057716757052/sagemaker-scikit-learn-2020-06-28-05-08-39-660/model'"
   ]
  },
  {
   "cell_type": "code",
   "execution_count": 121,
   "metadata": {},
   "outputs": [],
   "source": [
    "@dsl.pipeline(\n",
    "    name='Tweet BERT Classification pipeline',\n",
    "    description='Tweet BERT Classification using KMEANS in SageMaker'\n",
    ")\n",
    "def tweet_BERT(\n",
    "    region = AWS_REGION,\n",
    "    image = AWS_ECR_REGISTRY,\n",
    "    dataset_path = channels,\n",
    "    instance_type = 'ml.p3.8xlarge',\n",
    "    instance_count = 2,\n",
    "    volume_size = '50',\n",
    "    model_putput_path = model_output_path,\n",
    "    role_arn = SAGEMAKER_ROLE_ARN,\n",
    "    network_isolation='False',\n",
    "    traffic_encryption='False',\n",
    "    spot_instance='False'    \n",
    "    ):\n",
    "    # Component 1\n",
    "    training = sagemaker_train_op(\n",
    "        region = region,\n",
    "        image = image,\n",
    "        channels=channels,        \n",
    "        instance_type = instance_type,\n",
    "        instance_count = instance_count,\n",
    "        volume_size = volume_size,\n",
    "        model_artifact_path=model_output_path,\n",
    "        role=role_arn,\n",
    "        network_isolation=network_isolation,\n",
    "        traffic_encryption=traffic_encryption,\n",
    "        spot_instance=spot_instance,        \n",
    "        hyperparameters={'epochs': epochs,\n",
    "                        'learning_rate': learning_rate,\n",
    "                        'epsilon': epsilon,\n",
    "                        'train_batch_size': train_batch_size,\n",
    "                        'validation_batch_size': validation_batch_size,\n",
    "                        'test_batch_size': test_batch_size,                                             \n",
    "                        'train_steps_per_epoch': train_steps_per_epoch,\n",
    "                        'validation_steps': validation_steps,\n",
    "                        'test_steps': test_steps,\n",
    "                        'use_xla': use_xla,\n",
    "                        'use_amp': use_amp,                                             \n",
    "                        'max_seq_length': max_seq_length,\n",
    "                        'freeze_bert_layer': freeze_bert_layer,\n",
    "                        'enable_checkpointing': enable_checkpointing\n",
    "                        },        \n",
    "    ).apply(use_aws_secret('aws-secret', 'AWS_ACCESS_KEY_ID', 'AWS_SECRET_ACCESS_KEY'))        \n",
    "    # Component 2\n",
    "#     create_model = sagemaker_model_op(\n",
    "#         region = region,\n",
    "#         model_name = training.outouts['job_name'],\n",
    "#         image = \n",
    "#     )\n",
    "        \n",
    "\n",
    "\n",
    "        \n"
   ]
  },
  {
   "cell_type": "code",
   "execution_count": 122,
   "metadata": {},
   "outputs": [
    {
     "name": "stderr",
     "output_type": "stream",
     "text": [
      "/home/ec2-user/anaconda3/envs/python3/lib/python3.6/site-packages/kfp/components/_data_passing.py:94: UserWarning: Missing type name was inferred as \"JsonObject\" based on the value \"{'epochs': '1', 'learning_rate': '0.00001', 'epsilon': '0.00000001', 'train_batch_size': '128', 'validation_batch_size': '128', 'test_batch_size': '128', 'train_steps_per_epoch': '1000', 'validation_steps': '100', 'test_steps': '100', 'use_xla': 'True', 'use_amp': 'True', 'max_seq_length': '128', 'freeze_bert_layer': 'False', 'enable_checkpointing': 'True'}\".\n",
      "  warnings.warn('Missing type name was inferred as \"{}\" based on the value \"{}\".'.format(type_name, str(value)))\n"
     ]
    }
   ],
   "source": [
    "kfp.compiler.Compiler().compile(tweet_BERT, 'tweet_BERT.zip')"
   ]
  },
  {
   "cell_type": "code",
   "execution_count": 123,
   "metadata": {},
   "outputs": [
    {
     "name": "stdout",
     "output_type": "stream",
     "text": [
      "-rw-rw-r-- 1 ec2-user ec2-user 1970 Jul  5 10:25 ./tweet_BERT.zip\n"
     ]
    }
   ],
   "source": [
    "!ls -al ./tweet_BERT.zip"
   ]
  },
  {
   "cell_type": "code",
   "execution_count": 124,
   "metadata": {},
   "outputs": [
    {
     "name": "stdout",
     "output_type": "stream",
     "text": [
      "Archive:  ./tweet_BERT.zip\n",
      "  inflating: pipeline.yaml           \n"
     ]
    }
   ],
   "source": [
    "!unzip -o ./tweet_BERT.zip"
   ]
  },
  {
   "cell_type": "code",
   "execution_count": 125,
   "metadata": {},
   "outputs": [],
   "source": [
    "# !cat pipeline.yaml"
   ]
  },
  {
   "cell_type": "code",
   "execution_count": 126,
   "metadata": {},
   "outputs": [],
   "source": [
    "import time"
   ]
  },
  {
   "cell_type": "code",
   "execution_count": 127,
   "metadata": {},
   "outputs": [
    {
     "data": {
      "text/html": [
       "Experiment link <a href=\"/pipeline/#/experiments/details/4737d1e2-d0e8-49d0-99f9-d737a27aeeaa\" target=\"_blank\" >here</a>"
      ],
      "text/plain": [
       "<IPython.core.display.HTML object>"
      ]
     },
     "metadata": {},
     "output_type": "display_data"
    },
    {
     "data": {
      "text/html": [
       "Run link <a href=\"/pipeline/#/runs/details/366afc78-3a9e-47ed-8bf3-ef207a7e7b32\" target=\"_blank\" >here</a>"
      ],
      "text/plain": [
       "<IPython.core.display.HTML object>"
      ]
     },
     "metadata": {},
     "output_type": "display_data"
    }
   ],
   "source": [
    "client = kfp.Client()\n",
    "aws_experiment = client.create_experiment(name='aws')\n",
    "\n",
    "exp_name    = f'tweet-BERT-train-deploy-kfp-{time.strftime(\"%Y-%m-%d-%H-%M-%S\", time.gmtime())}'\n",
    "my_run = client.run_pipeline(aws_experiment.id, exp_name, 'tweet_BERT.zip')"
   ]
  },
  {
   "cell_type": "code",
   "execution_count": 93,
   "metadata": {},
   "outputs": [],
   "source": [
    "#     training = sagemaker_train_op(\n",
    "#         region=region,\n",
    "#         image=train_image,\n",
    "#         training_input_mode=training_input_mode,\n",
    "#         hyperparameters=training_hyp.output,\n",
    "#         channels=channels,\n",
    "#         instance_type=instance_type,\n",
    "#         instance_count='1',\n",
    "#         volume_size=volume_size,\n",
    "#         max_run_time=max_run_time,\n",
    "#         model_artifact_path=f's3://{bucket_name}/jobs',\n",
    "#         network_isolation=network_isolation,\n",
    "#         traffic_encryption=traffic_encryption,\n",
    "#         spot_instance=spot_instance,\n",
    "#         role=role,\n",
    "#     )"
   ]
  },
  {
   "cell_type": "code",
   "execution_count": null,
   "metadata": {},
   "outputs": [],
   "source": []
  }
 ],
 "metadata": {
  "kernelspec": {
   "display_name": "conda_python3",
   "language": "python",
   "name": "conda_python3"
  },
  "language_info": {
   "codemirror_mode": {
    "name": "ipython",
    "version": 3
   },
   "file_extension": ".py",
   "mimetype": "text/x-python",
   "name": "python",
   "nbconvert_exporter": "python",
   "pygments_lexer": "ipython3",
   "version": "3.6.10"
  }
 },
 "nbformat": 4,
 "nbformat_minor": 4
}
